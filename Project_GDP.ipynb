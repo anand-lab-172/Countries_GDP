{
 "cells": [
  {
   "cell_type": "code",
   "execution_count": 1,
   "metadata": {},
   "outputs": [],
   "source": [
    "import numpy as np\n",
    "import pandas as pd\n",
    "import matplotlib.pyplot as plt\n",
    "import seaborn as sns\n",
    "from scipy import stats\n",
    "import statsmodels.api as sm"
   ]
  },
  {
   "cell_type": "code",
   "execution_count": 2,
   "metadata": {},
   "outputs": [],
   "source": [
    "df = pd.read_csv('GDPCountry.csv')"
   ]
  },
  {
   "cell_type": "code",
   "execution_count": 3,
   "metadata": {},
   "outputs": [
    {
     "data": {
      "text/html": [
       "<div>\n",
       "<style scoped>\n",
       "    .dataframe tbody tr th:only-of-type {\n",
       "        vertical-align: middle;\n",
       "    }\n",
       "\n",
       "    .dataframe tbody tr th {\n",
       "        vertical-align: top;\n",
       "    }\n",
       "\n",
       "    .dataframe thead th {\n",
       "        text-align: right;\n",
       "    }\n",
       "</style>\n",
       "<table border=\"1\" class=\"dataframe\">\n",
       "  <thead>\n",
       "    <tr style=\"text-align: right;\">\n",
       "      <th></th>\n",
       "      <th>Country</th>\n",
       "      <th>Population</th>\n",
       "      <th>Area_sqm</th>\n",
       "      <th>Pop_Density_per sqm</th>\n",
       "      <th>Coastline (coast/area ratio)</th>\n",
       "      <th>Net migration</th>\n",
       "      <th>Infant mortality (per 1000 births)</th>\n",
       "      <th>GDP ($ per capita)</th>\n",
       "      <th>Literacy (%)</th>\n",
       "      <th>Phones (per 1000)</th>\n",
       "      <th>Arable (%)</th>\n",
       "      <th>Crops (%)</th>\n",
       "      <th>Other (%)</th>\n",
       "      <th>Climate</th>\n",
       "      <th>Birthrate</th>\n",
       "      <th>Deathrate</th>\n",
       "      <th>Agriculture</th>\n",
       "      <th>Industry</th>\n",
       "      <th>Service</th>\n",
       "    </tr>\n",
       "  </thead>\n",
       "  <tbody>\n",
       "    <tr>\n",
       "      <td>0</td>\n",
       "      <td>Afghanistan</td>\n",
       "      <td>31056997</td>\n",
       "      <td>647500</td>\n",
       "      <td>48.0</td>\n",
       "      <td>0.00</td>\n",
       "      <td>23.06</td>\n",
       "      <td>163.07</td>\n",
       "      <td>700.0</td>\n",
       "      <td>36.0</td>\n",
       "      <td>3.2</td>\n",
       "      <td>12.13</td>\n",
       "      <td>0.22</td>\n",
       "      <td>87.65</td>\n",
       "      <td>1.0</td>\n",
       "      <td>46.60</td>\n",
       "      <td>20.34</td>\n",
       "      <td>0.380</td>\n",
       "      <td>0.240</td>\n",
       "      <td>0.380</td>\n",
       "    </tr>\n",
       "    <tr>\n",
       "      <td>1</td>\n",
       "      <td>Albania</td>\n",
       "      <td>3581655</td>\n",
       "      <td>28748</td>\n",
       "      <td>124.6</td>\n",
       "      <td>1.26</td>\n",
       "      <td>-4.93</td>\n",
       "      <td>21.52</td>\n",
       "      <td>4500.0</td>\n",
       "      <td>86.5</td>\n",
       "      <td>71.2</td>\n",
       "      <td>21.09</td>\n",
       "      <td>4.42</td>\n",
       "      <td>74.49</td>\n",
       "      <td>3.0</td>\n",
       "      <td>15.11</td>\n",
       "      <td>5.22</td>\n",
       "      <td>0.232</td>\n",
       "      <td>0.188</td>\n",
       "      <td>0.579</td>\n",
       "    </tr>\n",
       "    <tr>\n",
       "      <td>2</td>\n",
       "      <td>Algeria</td>\n",
       "      <td>32930091</td>\n",
       "      <td>2381740</td>\n",
       "      <td>13.8</td>\n",
       "      <td>0.04</td>\n",
       "      <td>-0.39</td>\n",
       "      <td>31.00</td>\n",
       "      <td>6000.0</td>\n",
       "      <td>70.0</td>\n",
       "      <td>78.1</td>\n",
       "      <td>3.22</td>\n",
       "      <td>0.25</td>\n",
       "      <td>96.53</td>\n",
       "      <td>1.0</td>\n",
       "      <td>17.14</td>\n",
       "      <td>4.61</td>\n",
       "      <td>0.101</td>\n",
       "      <td>0.600</td>\n",
       "      <td>0.298</td>\n",
       "    </tr>\n",
       "    <tr>\n",
       "      <td>3</td>\n",
       "      <td>American Samoa</td>\n",
       "      <td>57794</td>\n",
       "      <td>199</td>\n",
       "      <td>290.4</td>\n",
       "      <td>58.29</td>\n",
       "      <td>-20.71</td>\n",
       "      <td>9.27</td>\n",
       "      <td>8000.0</td>\n",
       "      <td>97.0</td>\n",
       "      <td>259.5</td>\n",
       "      <td>10.00</td>\n",
       "      <td>15.00</td>\n",
       "      <td>75.00</td>\n",
       "      <td>2.0</td>\n",
       "      <td>22.46</td>\n",
       "      <td>3.27</td>\n",
       "      <td>NaN</td>\n",
       "      <td>NaN</td>\n",
       "      <td>NaN</td>\n",
       "    </tr>\n",
       "    <tr>\n",
       "      <td>4</td>\n",
       "      <td>Andorra</td>\n",
       "      <td>71201</td>\n",
       "      <td>468</td>\n",
       "      <td>152.1</td>\n",
       "      <td>0.00</td>\n",
       "      <td>6.60</td>\n",
       "      <td>4.05</td>\n",
       "      <td>19000.0</td>\n",
       "      <td>100.0</td>\n",
       "      <td>497.2</td>\n",
       "      <td>2.22</td>\n",
       "      <td>0.00</td>\n",
       "      <td>97.78</td>\n",
       "      <td>3.0</td>\n",
       "      <td>8.71</td>\n",
       "      <td>6.25</td>\n",
       "      <td>NaN</td>\n",
       "      <td>NaN</td>\n",
       "      <td>NaN</td>\n",
       "    </tr>\n",
       "  </tbody>\n",
       "</table>\n",
       "</div>"
      ],
      "text/plain": [
       "          Country  Population  Area_sqm  Pop_Density_per sqm  \\\n",
       "0     Afghanistan    31056997    647500                 48.0   \n",
       "1         Albania     3581655     28748                124.6   \n",
       "2         Algeria    32930091   2381740                 13.8   \n",
       "3  American Samoa       57794       199                290.4   \n",
       "4         Andorra       71201       468                152.1   \n",
       "\n",
       "   Coastline (coast/area ratio)  Net migration  \\\n",
       "0                          0.00          23.06   \n",
       "1                          1.26          -4.93   \n",
       "2                          0.04          -0.39   \n",
       "3                         58.29         -20.71   \n",
       "4                          0.00           6.60   \n",
       "\n",
       "   Infant mortality (per 1000 births)  GDP ($ per capita)  Literacy (%)  \\\n",
       "0                              163.07               700.0          36.0   \n",
       "1                               21.52              4500.0          86.5   \n",
       "2                               31.00              6000.0          70.0   \n",
       "3                                9.27              8000.0          97.0   \n",
       "4                                4.05             19000.0         100.0   \n",
       "\n",
       "   Phones (per 1000)  Arable (%)  Crops (%)  Other (%)  Climate  Birthrate  \\\n",
       "0                3.2       12.13       0.22      87.65      1.0      46.60   \n",
       "1               71.2       21.09       4.42      74.49      3.0      15.11   \n",
       "2               78.1        3.22       0.25      96.53      1.0      17.14   \n",
       "3              259.5       10.00      15.00      75.00      2.0      22.46   \n",
       "4              497.2        2.22       0.00      97.78      3.0       8.71   \n",
       "\n",
       "   Deathrate  Agriculture  Industry  Service  \n",
       "0      20.34        0.380     0.240    0.380  \n",
       "1       5.22        0.232     0.188    0.579  \n",
       "2       4.61        0.101     0.600    0.298  \n",
       "3       3.27          NaN       NaN      NaN  \n",
       "4       6.25          NaN       NaN      NaN  "
      ]
     },
     "execution_count": 3,
     "metadata": {},
     "output_type": "execute_result"
    }
   ],
   "source": [
    "df.head()"
   ]
  },
  {
   "cell_type": "code",
   "execution_count": 4,
   "metadata": {},
   "outputs": [
    {
     "data": {
      "text/plain": [
       "(227, 19)"
      ]
     },
     "execution_count": 4,
     "metadata": {},
     "output_type": "execute_result"
    }
   ],
   "source": [
    "df.shape"
   ]
  },
  {
   "cell_type": "code",
   "execution_count": 5,
   "metadata": {},
   "outputs": [
    {
     "name": "stdout",
     "output_type": "stream",
     "text": [
      "<class 'pandas.core.frame.DataFrame'>\n",
      "RangeIndex: 227 entries, 0 to 226\n",
      "Data columns (total 19 columns):\n",
      "Country                               227 non-null object\n",
      "Population                            227 non-null int64\n",
      "Area_sqm                              227 non-null int64\n",
      "Pop_Density_per sqm                   227 non-null float64\n",
      "Coastline (coast/area ratio)          227 non-null float64\n",
      "Net migration                         224 non-null float64\n",
      "Infant mortality (per 1000 births)    224 non-null float64\n",
      "GDP ($ per capita)                    226 non-null float64\n",
      "Literacy (%)                          209 non-null float64\n",
      "Phones (per 1000)                     223 non-null float64\n",
      "Arable (%)                            225 non-null float64\n",
      "Crops (%)                             225 non-null float64\n",
      "Other (%)                             225 non-null float64\n",
      "Climate                               205 non-null float64\n",
      "Birthrate                             224 non-null float64\n",
      "Deathrate                             223 non-null float64\n",
      "Agriculture                           212 non-null float64\n",
      "Industry                              211 non-null float64\n",
      "Service                               212 non-null float64\n",
      "dtypes: float64(16), int64(2), object(1)\n",
      "memory usage: 33.8+ KB\n"
     ]
    }
   ],
   "source": [
    "df.info()"
   ]
  },
  {
   "cell_type": "code",
   "execution_count": 6,
   "metadata": {},
   "outputs": [
    {
     "data": {
      "text/plain": [
       "227"
      ]
     },
     "execution_count": 6,
     "metadata": {},
     "output_type": "execute_result"
    }
   ],
   "source": [
    "len(df.Country.unique())\n",
    "# we are dropping country as it is unique for each row\n",
    "# or we can replace the country as index"
   ]
  },
  {
   "cell_type": "code",
   "execution_count": 7,
   "metadata": {},
   "outputs": [
    {
     "data": {
      "text/html": [
       "<div>\n",
       "<style scoped>\n",
       "    .dataframe tbody tr th:only-of-type {\n",
       "        vertical-align: middle;\n",
       "    }\n",
       "\n",
       "    .dataframe tbody tr th {\n",
       "        vertical-align: top;\n",
       "    }\n",
       "\n",
       "    .dataframe thead th {\n",
       "        text-align: right;\n",
       "    }\n",
       "</style>\n",
       "<table border=\"1\" class=\"dataframe\">\n",
       "  <thead>\n",
       "    <tr style=\"text-align: right;\">\n",
       "      <th></th>\n",
       "      <th>Population</th>\n",
       "      <th>Area_sqm</th>\n",
       "      <th>Pop_Density_per sqm</th>\n",
       "      <th>Coastline (coast/area ratio)</th>\n",
       "      <th>Net migration</th>\n",
       "      <th>Infant mortality (per 1000 births)</th>\n",
       "      <th>GDP ($ per capita)</th>\n",
       "      <th>Literacy (%)</th>\n",
       "      <th>Phones (per 1000)</th>\n",
       "      <th>Arable (%)</th>\n",
       "      <th>Crops (%)</th>\n",
       "      <th>Other (%)</th>\n",
       "      <th>Climate</th>\n",
       "      <th>Birthrate</th>\n",
       "      <th>Deathrate</th>\n",
       "      <th>Agriculture</th>\n",
       "      <th>Industry</th>\n",
       "      <th>Service</th>\n",
       "    </tr>\n",
       "    <tr>\n",
       "      <th>Country</th>\n",
       "      <th></th>\n",
       "      <th></th>\n",
       "      <th></th>\n",
       "      <th></th>\n",
       "      <th></th>\n",
       "      <th></th>\n",
       "      <th></th>\n",
       "      <th></th>\n",
       "      <th></th>\n",
       "      <th></th>\n",
       "      <th></th>\n",
       "      <th></th>\n",
       "      <th></th>\n",
       "      <th></th>\n",
       "      <th></th>\n",
       "      <th></th>\n",
       "      <th></th>\n",
       "      <th></th>\n",
       "    </tr>\n",
       "  </thead>\n",
       "  <tbody>\n",
       "    <tr>\n",
       "      <td>Afghanistan</td>\n",
       "      <td>31056997</td>\n",
       "      <td>647500</td>\n",
       "      <td>48.0</td>\n",
       "      <td>0.00</td>\n",
       "      <td>23.06</td>\n",
       "      <td>163.07</td>\n",
       "      <td>700.0</td>\n",
       "      <td>36.0</td>\n",
       "      <td>3.2</td>\n",
       "      <td>12.13</td>\n",
       "      <td>0.22</td>\n",
       "      <td>87.65</td>\n",
       "      <td>1.0</td>\n",
       "      <td>46.60</td>\n",
       "      <td>20.34</td>\n",
       "      <td>0.380</td>\n",
       "      <td>0.240</td>\n",
       "      <td>0.380</td>\n",
       "    </tr>\n",
       "    <tr>\n",
       "      <td>Albania</td>\n",
       "      <td>3581655</td>\n",
       "      <td>28748</td>\n",
       "      <td>124.6</td>\n",
       "      <td>1.26</td>\n",
       "      <td>-4.93</td>\n",
       "      <td>21.52</td>\n",
       "      <td>4500.0</td>\n",
       "      <td>86.5</td>\n",
       "      <td>71.2</td>\n",
       "      <td>21.09</td>\n",
       "      <td>4.42</td>\n",
       "      <td>74.49</td>\n",
       "      <td>3.0</td>\n",
       "      <td>15.11</td>\n",
       "      <td>5.22</td>\n",
       "      <td>0.232</td>\n",
       "      <td>0.188</td>\n",
       "      <td>0.579</td>\n",
       "    </tr>\n",
       "  </tbody>\n",
       "</table>\n",
       "</div>"
      ],
      "text/plain": [
       "             Population  Area_sqm  Pop_Density_per sqm  \\\n",
       "Country                                                  \n",
       "Afghanistan    31056997    647500                 48.0   \n",
       "Albania         3581655     28748                124.6   \n",
       "\n",
       "             Coastline (coast/area ratio)  Net migration  \\\n",
       "Country                                                    \n",
       "Afghanistan                          0.00          23.06   \n",
       "Albania                              1.26          -4.93   \n",
       "\n",
       "             Infant mortality (per 1000 births)  GDP ($ per capita)  \\\n",
       "Country                                                               \n",
       "Afghanistan                              163.07               700.0   \n",
       "Albania                                   21.52              4500.0   \n",
       "\n",
       "             Literacy (%)  Phones (per 1000)  Arable (%)  Crops (%)  \\\n",
       "Country                                                               \n",
       "Afghanistan          36.0                3.2       12.13       0.22   \n",
       "Albania              86.5               71.2       21.09       4.42   \n",
       "\n",
       "             Other (%)  Climate  Birthrate  Deathrate  Agriculture  Industry  \\\n",
       "Country                                                                        \n",
       "Afghanistan      87.65      1.0      46.60      20.34        0.380     0.240   \n",
       "Albania          74.49      3.0      15.11       5.22        0.232     0.188   \n",
       "\n",
       "             Service  \n",
       "Country               \n",
       "Afghanistan    0.380  \n",
       "Albania        0.579  "
      ]
     },
     "execution_count": 7,
     "metadata": {},
     "output_type": "execute_result"
    }
   ],
   "source": [
    "df = df.set_index('Country')\n",
    "df.head(2)"
   ]
  },
  {
   "cell_type": "markdown",
   "metadata": {},
   "source": [
    "## MISSING VALUE"
   ]
  },
  {
   "cell_type": "code",
   "execution_count": 8,
   "metadata": {
    "scrolled": false
   },
   "outputs": [
    {
     "data": {
      "text/plain": [
       "Population                             0\n",
       "Area_sqm                               0\n",
       "Pop_Density_per sqm                    0\n",
       "Coastline (coast/area ratio)           0\n",
       "Net migration                          3\n",
       "Infant mortality (per 1000 births)     3\n",
       "GDP ($ per capita)                     1\n",
       "Literacy (%)                          18\n",
       "Phones (per 1000)                      4\n",
       "Arable (%)                             2\n",
       "Crops (%)                              2\n",
       "Other (%)                              2\n",
       "Climate                               22\n",
       "Birthrate                              3\n",
       "Deathrate                              4\n",
       "Agriculture                           15\n",
       "Industry                              16\n",
       "Service                               15\n",
       "dtype: int64"
      ]
     },
     "execution_count": 8,
     "metadata": {},
     "output_type": "execute_result"
    }
   ],
   "source": [
    "df.isnull().sum()"
   ]
  },
  {
   "cell_type": "code",
   "execution_count": 9,
   "metadata": {},
   "outputs": [
    {
     "data": {
      "text/plain": [
       "Population                            0.000000\n",
       "Area_sqm                              0.000000\n",
       "Pop_Density_per sqm                   0.000000\n",
       "Coastline (coast/area ratio)          0.000000\n",
       "Net migration                         1.321586\n",
       "Infant mortality (per 1000 births)    1.321586\n",
       "GDP ($ per capita)                    0.440529\n",
       "Literacy (%)                          7.929515\n",
       "Phones (per 1000)                     1.762115\n",
       "Arable (%)                            0.881057\n",
       "Crops (%)                             0.881057\n",
       "Other (%)                             0.881057\n",
       "Climate                               9.691630\n",
       "Birthrate                             1.321586\n",
       "Deathrate                             1.762115\n",
       "Agriculture                           6.607930\n",
       "Industry                              7.048458\n",
       "Service                               6.607930\n",
       "dtype: float64"
      ]
     },
     "execution_count": 9,
     "metadata": {},
     "output_type": "execute_result"
    }
   ],
   "source": [
    "df.isnull().sum() / len(df) * 100"
   ]
  },
  {
   "cell_type": "code",
   "execution_count": 10,
   "metadata": {},
   "outputs": [],
   "source": [
    "#! pip install missingpy\n",
    "from missingpy import KNNImputer\n",
    "#from sklearn.impute import KNNImputer\n",
    "\n",
    "impu = KNNImputer()"
   ]
  },
  {
   "cell_type": "code",
   "execution_count": 11,
   "metadata": {},
   "outputs": [
    {
     "name": "stderr",
     "output_type": "stream",
     "text": [
      "C:\\Users\\dell\\Anaconda3\\lib\\site-packages\\sklearn\\utils\\validation.py:432: DeprecationWarning: 'warn_on_dtype' is deprecated in version 0.21 and will be removed in 0.23. Don't set `warn_on_dtype` to remove this warning.\n",
      "  DeprecationWarning)\n",
      "C:\\Users\\dell\\Anaconda3\\lib\\site-packages\\sklearn\\utils\\validation.py:432: DeprecationWarning: 'warn_on_dtype' is deprecated in version 0.21 and will be removed in 0.23. Don't set `warn_on_dtype` to remove this warning.\n",
      "  DeprecationWarning)\n"
     ]
    },
    {
     "data": {
      "text/html": [
       "<div>\n",
       "<style scoped>\n",
       "    .dataframe tbody tr th:only-of-type {\n",
       "        vertical-align: middle;\n",
       "    }\n",
       "\n",
       "    .dataframe tbody tr th {\n",
       "        vertical-align: top;\n",
       "    }\n",
       "\n",
       "    .dataframe thead th {\n",
       "        text-align: right;\n",
       "    }\n",
       "</style>\n",
       "<table border=\"1\" class=\"dataframe\">\n",
       "  <thead>\n",
       "    <tr style=\"text-align: right;\">\n",
       "      <th></th>\n",
       "      <th>Population</th>\n",
       "      <th>Area_sqm</th>\n",
       "      <th>Pop_Density_per sqm</th>\n",
       "      <th>Coastline (coast/area ratio)</th>\n",
       "      <th>Net migration</th>\n",
       "      <th>Infant mortality (per 1000 births)</th>\n",
       "      <th>GDP ($ per capita)</th>\n",
       "      <th>Literacy (%)</th>\n",
       "      <th>Phones (per 1000)</th>\n",
       "      <th>Arable (%)</th>\n",
       "      <th>Crops (%)</th>\n",
       "      <th>Other (%)</th>\n",
       "      <th>Climate</th>\n",
       "      <th>Birthrate</th>\n",
       "      <th>Deathrate</th>\n",
       "      <th>Agriculture</th>\n",
       "      <th>Industry</th>\n",
       "      <th>Service</th>\n",
       "    </tr>\n",
       "    <tr>\n",
       "      <th>Country</th>\n",
       "      <th></th>\n",
       "      <th></th>\n",
       "      <th></th>\n",
       "      <th></th>\n",
       "      <th></th>\n",
       "      <th></th>\n",
       "      <th></th>\n",
       "      <th></th>\n",
       "      <th></th>\n",
       "      <th></th>\n",
       "      <th></th>\n",
       "      <th></th>\n",
       "      <th></th>\n",
       "      <th></th>\n",
       "      <th></th>\n",
       "      <th></th>\n",
       "      <th></th>\n",
       "      <th></th>\n",
       "    </tr>\n",
       "  </thead>\n",
       "  <tbody>\n",
       "    <tr>\n",
       "      <td>Afghanistan</td>\n",
       "      <td>31056997.0</td>\n",
       "      <td>647500.0</td>\n",
       "      <td>48.0</td>\n",
       "      <td>0.00</td>\n",
       "      <td>23.06</td>\n",
       "      <td>163.07</td>\n",
       "      <td>700.0</td>\n",
       "      <td>36.0</td>\n",
       "      <td>3.2</td>\n",
       "      <td>12.13</td>\n",
       "      <td>0.22</td>\n",
       "      <td>87.65</td>\n",
       "      <td>1.0</td>\n",
       "      <td>46.60</td>\n",
       "      <td>20.34</td>\n",
       "      <td>0.380</td>\n",
       "      <td>0.240</td>\n",
       "      <td>0.380</td>\n",
       "    </tr>\n",
       "    <tr>\n",
       "      <td>Albania</td>\n",
       "      <td>3581655.0</td>\n",
       "      <td>28748.0</td>\n",
       "      <td>124.6</td>\n",
       "      <td>1.26</td>\n",
       "      <td>-4.93</td>\n",
       "      <td>21.52</td>\n",
       "      <td>4500.0</td>\n",
       "      <td>86.5</td>\n",
       "      <td>71.2</td>\n",
       "      <td>21.09</td>\n",
       "      <td>4.42</td>\n",
       "      <td>74.49</td>\n",
       "      <td>3.0</td>\n",
       "      <td>15.11</td>\n",
       "      <td>5.22</td>\n",
       "      <td>0.232</td>\n",
       "      <td>0.188</td>\n",
       "      <td>0.579</td>\n",
       "    </tr>\n",
       "  </tbody>\n",
       "</table>\n",
       "</div>"
      ],
      "text/plain": [
       "             Population  Area_sqm  Pop_Density_per sqm  \\\n",
       "Country                                                  \n",
       "Afghanistan  31056997.0  647500.0                 48.0   \n",
       "Albania       3581655.0   28748.0                124.6   \n",
       "\n",
       "             Coastline (coast/area ratio)  Net migration  \\\n",
       "Country                                                    \n",
       "Afghanistan                          0.00          23.06   \n",
       "Albania                              1.26          -4.93   \n",
       "\n",
       "             Infant mortality (per 1000 births)  GDP ($ per capita)  \\\n",
       "Country                                                               \n",
       "Afghanistan                              163.07               700.0   \n",
       "Albania                                   21.52              4500.0   \n",
       "\n",
       "             Literacy (%)  Phones (per 1000)  Arable (%)  Crops (%)  \\\n",
       "Country                                                               \n",
       "Afghanistan          36.0                3.2       12.13       0.22   \n",
       "Albania              86.5               71.2       21.09       4.42   \n",
       "\n",
       "             Other (%)  Climate  Birthrate  Deathrate  Agriculture  Industry  \\\n",
       "Country                                                                        \n",
       "Afghanistan      87.65      1.0      46.60      20.34        0.380     0.240   \n",
       "Albania          74.49      3.0      15.11       5.22        0.232     0.188   \n",
       "\n",
       "             Service  \n",
       "Country               \n",
       "Afghanistan    0.380  \n",
       "Albania        0.579  "
      ]
     },
     "execution_count": 11,
     "metadata": {},
     "output_type": "execute_result"
    }
   ],
   "source": [
    "df_1 = impu.fit_transform(df)\n",
    "df_1 = pd.DataFrame(df_1, columns = df.columns, index = df.index)\n",
    "df_1.head(2)"
   ]
  },
  {
   "cell_type": "code",
   "execution_count": 12,
   "metadata": {},
   "outputs": [
    {
     "data": {
      "text/plain": [
       "Population                            0\n",
       "Area_sqm                              0\n",
       "Pop_Density_per sqm                   0\n",
       "Coastline (coast/area ratio)          0\n",
       "Net migration                         0\n",
       "Infant mortality (per 1000 births)    0\n",
       "GDP ($ per capita)                    0\n",
       "Literacy (%)                          0\n",
       "Phones (per 1000)                     0\n",
       "Arable (%)                            0\n",
       "Crops (%)                             0\n",
       "Other (%)                             0\n",
       "Climate                               0\n",
       "Birthrate                             0\n",
       "Deathrate                             0\n",
       "Agriculture                           0\n",
       "Industry                              0\n",
       "Service                               0\n",
       "dtype: int64"
      ]
     },
     "execution_count": 12,
     "metadata": {},
     "output_type": "execute_result"
    }
   ],
   "source": [
    "df_1.isnull().sum()"
   ]
  },
  {
   "cell_type": "markdown",
   "metadata": {},
   "source": [
    "## Outlier Treatment"
   ]
  },
  {
   "cell_type": "code",
   "execution_count": 13,
   "metadata": {},
   "outputs": [
    {
     "data": {
      "image/png": "[encoded data removed]",
      "text/plain": [
       "<Figure size 432x288 with 1 Axes>"
      ]
     },
     "metadata": {
      "needs_background": "light"
     },
     "output_type": "display_data"
    },
    {
     "data": {
      "image/png": "[encoded data removed]",
      "text/plain": [
       "<Figure size 432x288 with 1 Axes>"
      ]
     },
     "metadata": {
      "needs_background": "light"
     },
     "output_type": "display_data"
    },
    {
     "data": {
      "image/png": "[encoded data removed]",
      "text/plain": [
       "<Figure size 432x288 with 1 Axes>"
      ]
     },
     "metadata": {
      "needs_background": "light"
     },
     "output_type": "display_data"
    },
    {
     "data": {
      "image/png": "[encoded data removed]",
      "text/plain": [
       "<Figure size 432x288 with 1 Axes>"
      ]
     },
     "metadata": {
      "needs_background": "light"
     },
     "output_type": "display_data"
    },
    {
     "data": {
      "image/png": "[encoded data removed]",
      "text/plain": [
       "<Figure size 432x288 with 1 Axes>"
      ]
     },
     "metadata": {
      "needs_background": "light"
     },
     "output_type": "display_data"
    },
    {
     "data": {
      "image/png": "[encoded data removed]",
      "text/plain": [
       "<Figure size 432x288 with 1 Axes>"
      ]
     },
     "metadata": {
      "needs_background": "light"
     },
     "output_type": "display_data"
    },
    {
     "data": {
      "image/png": "[encoded data removed]",
      "text/plain": [
       "<Figure size 432x288 with 1 Axes>"
      ]
     },
     "metadata": {
      "needs_background": "light"
     },
     "output_type": "display_data"
    },
    {
     "data": {
      "image/png": "[encoded data removed]",
      "text/plain": [
       "<Figure size 432x288 with 1 Axes>"
      ]
     },
     "metadata": {
      "needs_background": "light"
     },
     "output_type": "display_data"
    },
    {
     "data": {
      "image/png": "[encoded data removed]",
      "text/plain": [
       "<Figure size 432x288 with 1 Axes>"
      ]
     },
     "metadata": {
      "needs_background": "light"
     },
     "output_type": "display_data"
    },
    {
     "data": {
      "image/png": "[encoded data removed]",
      "text/plain": [
       "<Figure size 432x288 with 1 Axes>"
      ]
     },
     "metadata": {
      "needs_background": "light"
     },
     "output_type": "display_data"
    },
    {
     "data": {
      "image/png": "[encoded data removed]",
      "text/plain": [
       "<Figure size 432x288 with 1 Axes>"
      ]
     },
     "metadata": {
      "needs_background": "light"
     },
     "output_type": "display_data"
    },
    {
     "data": {
      "image/png": "[encoded data removed]",
      "text/plain": [
       "<Figure size 432x288 with 1 Axes>"
      ]
     },
     "metadata": {
      "needs_background": "light"
     },
     "output_type": "display_data"
    },
    {
     "data": {
      "image/png": "[encoded data removed]",
      "text/plain": [
       "<Figure size 432x288 with 1 Axes>"
      ]
     },
     "metadata": {
      "needs_background": "light"
     },
     "output_type": "display_data"
    },
    {
     "data": {
      "image/png": "[encoded data removed]",
      "text/plain": [
       "<Figure size 432x288 with 1 Axes>"
      ]
     },
     "metadata": {
      "needs_background": "light"
     },
     "output_type": "display_data"
    },
    {
     "data": {
      "image/png": "[encoded data removed]",
      "text/plain": [
       "<Figure size 432x288 with 1 Axes>"
      ]
     },
     "metadata": {
      "needs_background": "light"
     },
     "output_type": "display_data"
    },
    {
     "data": {
      "image/png": "[encoded data removed]",
      "text/plain": [
       "<Figure size 432x288 with 1 Axes>"
      ]
     },
     "metadata": {
      "needs_background": "light"
     },
     "output_type": "display_data"
    },
    {
     "data": {
      "image/png": "[encoded data removed]",
      "text/plain": [
       "<Figure size 432x288 with 1 Axes>"
      ]
     },
     "metadata": {
      "needs_background": "light"
     },
     "output_type": "display_data"
    },
    {
     "data": {
      "image/png": "[encoded data removed]",
      "text/plain": [
       "<Figure size 432x288 with 1 Axes>"
      ]
     },
     "metadata": {
      "needs_background": "light"
     },
     "output_type": "display_data"
    }
   ],
   "source": [
    "for i in df_1.columns:\n",
    "    sns.boxplot(df_1[i])\n",
    "    plt.show()"
   ]
  },
  {
   "cell_type": "code",
   "execution_count": 14,
   "metadata": {},
   "outputs": [
    {
     "data": {
      "text/plain": [
       "(227, 18)"
      ]
     },
     "execution_count": 14,
     "metadata": {},
     "output_type": "execute_result"
    }
   ],
   "source": [
    "df_1.shape"
   ]
  },
  {
   "cell_type": "code",
   "execution_count": 15,
   "metadata": {},
   "outputs": [],
   "source": [
    "for i in df_1.columns:\n",
    "    q1 = df_1[i].quantile(0.25)\n",
    "    q3 = df_1[i].quantile(0.75)\n",
    "    IQR  = q3-q1\n",
    "    ub = q3 + 1.5*IQR #upper bound\n",
    "    lb = q1 - 1.5*IQR #lower bound\n",
    "    uc = df_1[i].quantile(0.99) #upper cap\n",
    "    lc = df_1[i].quantile(0.01) #lower cap\n",
    "    for ind1 in df_1[i].index:\n",
    "        if df_1.loc[ind1,i]> ub:\n",
    "            df_1.loc[ind1,i] = uc\n",
    "        if df_1.loc[ind1,i]< lb:\n",
    "            df_1.loc[ind1,i] = lc"
   ]
  },
  {
   "cell_type": "code",
   "execution_count": 16,
   "metadata": {},
   "outputs": [
    {
     "data": {
      "image/png": "[encoded data removed]",
      "text/plain": [
       "<Figure size 432x288 with 1 Axes>"
      ]
     },
     "metadata": {
      "needs_background": "light"
     },
     "output_type": "display_data"
    },
    {
     "data": {
      "image/png": "[encoded data removed]",
      "text/plain": [
       "<Figure size 432x288 with 1 Axes>"
      ]
     },
     "metadata": {
      "needs_background": "light"
     },
     "output_type": "display_data"
    },
    {
     "data": {
      "image/png": "[encoded data removed]",
      "text/plain": [
       "<Figure size 432x288 with 1 Axes>"
      ]
     },
     "metadata": {
      "needs_background": "light"
     },
     "output_type": "display_data"
    },
    {
     "data": {
      "image/png": "[encoded data removed]",
      "text/plain": [
       "<Figure size 432x288 with 1 Axes>"
      ]
     },
     "metadata": {
      "needs_background": "light"
     },
     "output_type": "display_data"
    },
    {
     "data": {
      "image/png": "[encoded data removed]",
      "text/plain": [
       "<Figure size 432x288 with 1 Axes>"
      ]
     },
     "metadata": {
      "needs_background": "light"
     },
     "output_type": "display_data"
    },
    {
     "data": {
      "image/png": "[encoded data removed]",
      "text/plain": [
       "<Figure size 432x288 with 1 Axes>"
      ]
     },
     "metadata": {
      "needs_background": "light"
     },
     "output_type": "display_data"
    },
    {
     "data": {
      "image/png": "[encoded data removed]",
      "text/plain": [
       "<Figure size 432x288 with 1 Axes>"
      ]
     },
     "metadata": {
      "needs_background": "light"
     },
     "output_type": "display_data"
    },
    {
     "data": {
      "image/png": "[encoded data removed]",
      "text/plain": [
       "<Figure size 432x288 with 1 Axes>"
      ]
     },
     "metadata": {
      "needs_background": "light"
     },
     "output_type": "display_data"
    },
    {
     "data": {
      "image/png": "[encoded data removed]",
      "text/plain": [
       "<Figure size 432x288 with 1 Axes>"
      ]
     },
     "metadata": {
      "needs_background": "light"
     },
     "output_type": "display_data"
    },
    {
     "data": {
      "image/png": "[encoded data removed]",
      "text/plain": [
       "<Figure size 432x288 with 1 Axes>"
      ]
     },
     "metadata": {
      "needs_background": "light"
     },
     "output_type": "display_data"
    },
    {
     "data": {
      "image/png": "[encoded data removed]",
      "text/plain": [
       "<Figure size 432x288 with 1 Axes>"
      ]
     },
     "metadata": {
      "needs_background": "light"
     },
     "output_type": "display_data"
    },
    {
     "data": {
      "image/png": "[encoded data removed]",
      "text/plain": [
       "<Figure size 432x288 with 1 Axes>"
      ]
     },
     "metadata": {
      "needs_background": "light"
     },
     "output_type": "display_data"
    },
    {
     "data": {
      "image/png": "[encoded data removed]",
      "text/plain": [
       "<Figure size 432x288 with 1 Axes>"
      ]
     },
     "metadata": {
      "needs_background": "light"
     },
     "output_type": "display_data"
    },
    {
     "data": {
      "image/png": "[encoded data removed]",
      "text/plain": [
       "<Figure size 432x288 with 1 Axes>"
      ]
     },
     "metadata": {
      "needs_background": "light"
     },
     "output_type": "display_data"
    },
    {
     "data": {
      "image/png": "[encoded data removed]",
      "text/plain": [
       "<Figure size 432x288 with 1 Axes>"
      ]
     },
     "metadata": {
      "needs_background": "light"
     },
     "output_type": "display_data"
    },
    {
     "data": {
      "image/png": "[encoded data removed]",
      "text/plain": [
       "<Figure size 432x288 with 1 Axes>"
      ]
     },
     "metadata": {
      "needs_background": "light"
     },
     "output_type": "display_data"
    },
    {
     "data": {
      "image/png": "[encoded data removed]",
      "text/plain": [
       "<Figure size 432x288 with 1 Axes>"
      ]
     },
     "metadata": {
      "needs_background": "light"
     },
     "output_type": "display_data"
    },
    {
     "data": {
      "image/png": "[encoded data removed]",
      "text/plain": [
       "<Figure size 432x288 with 1 Axes>"
      ]
     },
     "metadata": {
      "needs_background": "light"
     },
     "output_type": "display_data"
    }
   ],
   "source": [
    "for i in df_1.columns:\n",
    "    sns.boxplot(df_1[i])\n",
    "    plt.show()"
   ]
  },
  {
   "cell_type": "markdown",
   "metadata": {},
   "source": [
    "## Input as X Output/ Target as Y"
   ]
  },
  {
   "cell_type": "code",
   "execution_count": 17,
   "metadata": {},
   "outputs": [],
   "source": [
    "X = df_1.drop('GDP ($ per capita)', axis = 1)\n",
    "y = df_1['GDP ($ per capita)']"
   ]
  },
  {
   "cell_type": "code",
   "execution_count": 18,
   "metadata": {},
   "outputs": [
    {
     "name": "stderr",
     "output_type": "stream",
     "text": [
      "C:\\Users\\dell\\Anaconda3\\lib\\site-packages\\numpy\\core\\fromnumeric.py:2389: FutureWarning: Method .ptp is deprecated and will be removed in a future version. Use numpy.ptp instead.\n",
      "  return ptp(axis=axis, out=out, **kwargs)\n"
     ]
    }
   ],
   "source": [
    "xc = sm.add_constant(X)"
   ]
  },
  {
   "cell_type": "markdown",
   "metadata": {},
   "source": [
    "## OLS model"
   ]
  },
  {
   "cell_type": "code",
   "execution_count": 19,
   "metadata": {
    "scrolled": true
   },
   "outputs": [
    {
     "data": {
      "text/html": [
       "<table class=\"simpletable\">\n",
       "<caption>OLS Regression Results</caption>\n",
       "<tr>\n",
       "  <th>Dep. Variable:</th>    <td>GDP ($ per capita)</td> <th>  R-squared:         </th> <td>   0.801</td>\n",
       "</tr>\n",
       "<tr>\n",
       "  <th>Model:</th>                    <td>OLS</td>        <th>  Adj. R-squared:    </th> <td>   0.785</td>\n",
       "</tr>\n",
       "<tr>\n",
       "  <th>Method:</th>              <td>Least Squares</td>   <th>  F-statistic:       </th> <td>   49.48</td>\n",
       "</tr>\n",
       "<tr>\n",
       "  <th>Date:</th>              <td>Tue, 09 Mar 2021</td>  <th>  Prob (F-statistic):</th> <td>1.40e-63</td>\n",
       "</tr>\n",
       "<tr>\n",
       "  <th>Time:</th>                  <td>10:28:23</td>      <th>  Log-Likelihood:    </th> <td> -2222.8</td>\n",
       "</tr>\n",
       "<tr>\n",
       "  <th>No. Observations:</th>       <td>   227</td>       <th>  AIC:               </th> <td>   4482.</td>\n",
       "</tr>\n",
       "<tr>\n",
       "  <th>Df Residuals:</th>           <td>   209</td>       <th>  BIC:               </th> <td>   4543.</td>\n",
       "</tr>\n",
       "<tr>\n",
       "  <th>Df Model:</th>               <td>    17</td>       <th>                     </th>     <td> </td>   \n",
       "</tr>\n",
       "<tr>\n",
       "  <th>Covariance Type:</th>       <td>nonrobust</td>     <th>                     </th>     <td> </td>   \n",
       "</tr>\n",
       "</table>\n",
       "<table class=\"simpletable\">\n",
       "<tr>\n",
       "                   <td></td>                     <th>coef</th>     <th>std err</th>      <th>t</th>      <th>P>|t|</th>  <th>[0.025</th>    <th>0.975]</th>  \n",
       "</tr>\n",
       "<tr>\n",
       "  <th>const</th>                              <td> 8642.6765</td> <td> 1.21e+04</td> <td>    0.715</td> <td> 0.475</td> <td>-1.52e+04</td> <td> 3.25e+04</td>\n",
       "</tr>\n",
       "<tr>\n",
       "  <th>Population</th>                         <td> 1.698e-06</td> <td> 3.89e-06</td> <td>    0.437</td> <td> 0.663</td> <td>-5.97e-06</td> <td> 9.36e-06</td>\n",
       "</tr>\n",
       "<tr>\n",
       "  <th>Area_sqm</th>                           <td>-1.905e-05</td> <td>    0.000</td> <td>   -0.166</td> <td> 0.868</td> <td>   -0.000</td> <td>    0.000</td>\n",
       "</tr>\n",
       "<tr>\n",
       "  <th>Pop_Density_per sqm</th>                <td>    0.0281</td> <td>    0.188</td> <td>    0.150</td> <td> 0.881</td> <td>   -0.343</td> <td>    0.399</td>\n",
       "</tr>\n",
       "<tr>\n",
       "  <th>Coastline (coast/area ratio)</th>       <td>  -15.1276</td> <td>    3.853</td> <td>   -3.926</td> <td> 0.000</td> <td>  -22.723</td> <td>   -7.532</td>\n",
       "</tr>\n",
       "<tr>\n",
       "  <th>Net migration</th>                      <td>  295.1782</td> <td>   45.856</td> <td>    6.437</td> <td> 0.000</td> <td>  204.779</td> <td>  385.577</td>\n",
       "</tr>\n",
       "<tr>\n",
       "  <th>Infant mortality (per 1000 births)</th> <td>  -37.6590</td> <td>   26.997</td> <td>   -1.395</td> <td> 0.165</td> <td>  -90.881</td> <td>   15.563</td>\n",
       "</tr>\n",
       "<tr>\n",
       "  <th>Literacy (%)</th>                       <td>   -0.4939</td> <td>   25.102</td> <td>   -0.020</td> <td> 0.984</td> <td>  -49.979</td> <td>   48.991</td>\n",
       "</tr>\n",
       "<tr>\n",
       "  <th>Phones (per 1000)</th>                  <td>   32.2409</td> <td>    2.414</td> <td>   13.358</td> <td> 0.000</td> <td>   27.483</td> <td>   36.999</td>\n",
       "</tr>\n",
       "<tr>\n",
       "  <th>Arable (%)</th>                         <td>  -75.8229</td> <td>   72.753</td> <td>   -1.042</td> <td> 0.299</td> <td> -219.247</td> <td>   67.601</td>\n",
       "</tr>\n",
       "<tr>\n",
       "  <th>Crops (%)</th>                          <td>  -21.7611</td> <td>   39.638</td> <td>   -0.549</td> <td> 0.584</td> <td>  -99.903</td> <td>   56.381</td>\n",
       "</tr>\n",
       "<tr>\n",
       "  <th>Other (%)</th>                          <td>  -34.6986</td> <td>   70.617</td> <td>   -0.491</td> <td> 0.624</td> <td> -173.912</td> <td>  104.515</td>\n",
       "</tr>\n",
       "<tr>\n",
       "  <th>Climate</th>                            <td> -187.4946</td> <td>  561.108</td> <td>   -0.334</td> <td> 0.739</td> <td>-1293.652</td> <td>  918.663</td>\n",
       "</tr>\n",
       "<tr>\n",
       "  <th>Birthrate</th>                          <td>  -30.8857</td> <td>   66.935</td> <td>   -0.461</td> <td> 0.645</td> <td> -162.839</td> <td>  101.068</td>\n",
       "</tr>\n",
       "<tr>\n",
       "  <th>Deathrate</th>                          <td>  125.3649</td> <td>   80.701</td> <td>    1.553</td> <td> 0.122</td> <td>  -33.726</td> <td>  284.456</td>\n",
       "</tr>\n",
       "<tr>\n",
       "  <th>Agriculture</th>                        <td>-4532.7267</td> <td> 9322.350</td> <td>   -0.486</td> <td> 0.627</td> <td>-2.29e+04</td> <td> 1.38e+04</td>\n",
       "</tr>\n",
       "<tr>\n",
       "  <th>Industry</th>                           <td> 2115.0018</td> <td> 8947.628</td> <td>    0.236</td> <td> 0.813</td> <td>-1.55e+04</td> <td> 1.98e+04</td>\n",
       "</tr>\n",
       "<tr>\n",
       "  <th>Service</th>                            <td>-1155.9880</td> <td> 9240.786</td> <td>   -0.125</td> <td> 0.901</td> <td>-1.94e+04</td> <td> 1.71e+04</td>\n",
       "</tr>\n",
       "</table>\n",
       "<table class=\"simpletable\">\n",
       "<tr>\n",
       "  <th>Omnibus:</th>       <td> 9.555</td> <th>  Durbin-Watson:     </th> <td>   1.855</td>\n",
       "</tr>\n",
       "<tr>\n",
       "  <th>Prob(Omnibus):</th> <td> 0.008</td> <th>  Jarque-Bera (JB):  </th> <td>  15.716</td>\n",
       "</tr>\n",
       "<tr>\n",
       "  <th>Skew:</th>          <td> 0.209</td> <th>  Prob(JB):          </th> <td>0.000387</td>\n",
       "</tr>\n",
       "<tr>\n",
       "  <th>Kurtosis:</th>      <td> 4.220</td> <th>  Cond. No.          </th> <td>6.21e+09</td>\n",
       "</tr>\n",
       "</table><br/><br/>Warnings:<br/>[1] Standard Errors assume that the covariance matrix of the errors is correctly specified.<br/>[2] The condition number is large, 6.21e+09. This might indicate that there are<br/>strong multicollinearity or other numerical problems."
      ],
      "text/plain": [
       "<class 'statsmodels.iolib.summary.Summary'>\n",
       "\"\"\"\n",
       "                            OLS Regression Results                            \n",
       "==============================================================================\n",
       "Dep. Variable:     GDP ($ per capita)   R-squared:                       0.801\n",
       "Model:                            OLS   Adj. R-squared:                  0.785\n",
       "Method:                 Least Squares   F-statistic:                     49.48\n",
       "Date:                Tue, 09 Mar 2021   Prob (F-statistic):           1.40e-63\n",
       "Time:                        10:28:23   Log-Likelihood:                -2222.8\n",
       "No. Observations:                 227   AIC:                             4482.\n",
       "Df Residuals:                     209   BIC:                             4543.\n",
       "Df Model:                          17                                         \n",
       "Covariance Type:            nonrobust                                         \n",
       "======================================================================================================\n",
       "                                         coef    std err          t      P>|t|      [0.025      0.975]\n",
       "------------------------------------------------------------------------------------------------------\n",
       "const                               8642.6765   1.21e+04      0.715      0.475   -1.52e+04    3.25e+04\n",
       "Population                          1.698e-06   3.89e-06      0.437      0.663   -5.97e-06    9.36e-06\n",
       "Area_sqm                           -1.905e-05      0.000     -0.166      0.868      -0.000       0.000\n",
       "Pop_Density_per sqm                    0.0281      0.188      0.150      0.881      -0.343       0.399\n",
       "Coastline (coast/area ratio)         -15.1276      3.853     -3.926      0.000     -22.723      -7.532\n",
       "Net migration                        295.1782     45.856      6.437      0.000     204.779     385.577\n",
       "Infant mortality (per 1000 births)   -37.6590     26.997     -1.395      0.165     -90.881      15.563\n",
       "Literacy (%)                          -0.4939     25.102     -0.020      0.984     -49.979      48.991\n",
       "Phones (per 1000)                     32.2409      2.414     13.358      0.000      27.483      36.999\n",
       "Arable (%)                           -75.8229     72.753     -1.042      0.299    -219.247      67.601\n",
       "Crops (%)                            -21.7611     39.638     -0.549      0.584     -99.903      56.381\n",
       "Other (%)                            -34.6986     70.617     -0.491      0.624    -173.912     104.515\n",
       "Climate                             -187.4946    561.108     -0.334      0.739   -1293.652     918.663\n",
       "Birthrate                            -30.8857     66.935     -0.461      0.645    -162.839     101.068\n",
       "Deathrate                            125.3649     80.701      1.553      0.122     -33.726     284.456\n",
       "Agriculture                        -4532.7267   9322.350     -0.486      0.627   -2.29e+04    1.38e+04\n",
       "Industry                            2115.0018   8947.628      0.236      0.813   -1.55e+04    1.98e+04\n",
       "Service                            -1155.9880   9240.786     -0.125      0.901   -1.94e+04    1.71e+04\n",
       "==============================================================================\n",
       "Omnibus:                        9.555   Durbin-Watson:                   1.855\n",
       "Prob(Omnibus):                  0.008   Jarque-Bera (JB):               15.716\n",
       "Skew:                           0.209   Prob(JB):                     0.000387\n",
       "Kurtosis:                       4.220   Cond. No.                     6.21e+09\n",
       "==============================================================================\n",
       "\n",
       "Warnings:\n",
       "[1] Standard Errors assume that the covariance matrix of the errors is correctly specified.\n",
       "[2] The condition number is large, 6.21e+09. This might indicate that there are\n",
       "strong multicollinearity or other numerical problems.\n",
       "\"\"\""
      ]
     },
     "execution_count": 19,
     "metadata": {},
     "output_type": "execute_result"
    }
   ],
   "source": [
    "ols = sm.OLS(y,xc).fit()\n",
    "ols.summary()"
   ]
  },
  {
   "cell_type": "code",
   "execution_count": 20,
   "metadata": {},
   "outputs": [],
   "source": [
    "#fstat less than 0.05 model is significant"
   ]
  },
  {
   "cell_type": "markdown",
   "metadata": {},
   "source": [
    "## Scaling"
   ]
  },
  {
   "cell_type": "code",
   "execution_count": 21,
   "metadata": {
    "scrolled": true
   },
   "outputs": [
    {
     "name": "stderr",
     "output_type": "stream",
     "text": [
      "C:\\Users\\dell\\Anaconda3\\lib\\site-packages\\numpy\\core\\fromnumeric.py:2389: FutureWarning: Method .ptp is deprecated and will be removed in a future version. Use numpy.ptp instead.\n",
      "  return ptp(axis=axis, out=out, **kwargs)\n"
     ]
    },
    {
     "data": {
      "text/html": [
       "<table class=\"simpletable\">\n",
       "<caption>OLS Regression Results</caption>\n",
       "<tr>\n",
       "  <th>Dep. Variable:</th>    <td>GDP ($ per capita)</td> <th>  R-squared:         </th> <td>   0.801</td>\n",
       "</tr>\n",
       "<tr>\n",
       "  <th>Model:</th>                    <td>OLS</td>        <th>  Adj. R-squared:    </th> <td>   0.785</td>\n",
       "</tr>\n",
       "<tr>\n",
       "  <th>Method:</th>              <td>Least Squares</td>   <th>  F-statistic:       </th> <td>   49.48</td>\n",
       "</tr>\n",
       "<tr>\n",
       "  <th>Date:</th>              <td>Tue, 09 Mar 2021</td>  <th>  Prob (F-statistic):</th> <td>1.40e-63</td>\n",
       "</tr>\n",
       "<tr>\n",
       "  <th>Time:</th>                  <td>10:28:23</td>      <th>  Log-Likelihood:    </th> <td> -2222.8</td>\n",
       "</tr>\n",
       "<tr>\n",
       "  <th>No. Observations:</th>       <td>   227</td>       <th>  AIC:               </th> <td>   4482.</td>\n",
       "</tr>\n",
       "<tr>\n",
       "  <th>Df Residuals:</th>           <td>   209</td>       <th>  BIC:               </th> <td>   4543.</td>\n",
       "</tr>\n",
       "<tr>\n",
       "  <th>Df Model:</th>               <td>    17</td>       <th>                     </th>     <td> </td>   \n",
       "</tr>\n",
       "<tr>\n",
       "  <th>Covariance Type:</th>       <td>nonrobust</td>     <th>                     </th>     <td> </td>   \n",
       "</tr>\n",
       "</table>\n",
       "<table class=\"simpletable\">\n",
       "<tr>\n",
       "                   <td></td>                     <th>coef</th>     <th>std err</th>      <th>t</th>      <th>P>|t|</th>  <th>[0.025</th>    <th>0.975]</th>  \n",
       "</tr>\n",
       "<tr>\n",
       "  <th>const</th>                              <td> 9620.3348</td> <td>  299.480</td> <td>   32.123</td> <td> 0.000</td> <td> 9029.946</td> <td> 1.02e+04</td>\n",
       "</tr>\n",
       "<tr>\n",
       "  <th>Population</th>                         <td>  155.5794</td> <td>  356.182</td> <td>    0.437</td> <td> 0.663</td> <td> -546.590</td> <td>  857.749</td>\n",
       "</tr>\n",
       "<tr>\n",
       "  <th>Area_sqm</th>                           <td>  -59.3790</td> <td>  357.475</td> <td>   -0.166</td> <td> 0.868</td> <td> -764.099</td> <td>  645.341</td>\n",
       "</tr>\n",
       "<tr>\n",
       "  <th>Pop_Density_per sqm</th>                <td>   51.8321</td> <td>  346.271</td> <td>    0.150</td> <td> 0.881</td> <td> -630.799</td> <td>  734.463</td>\n",
       "</tr>\n",
       "<tr>\n",
       "  <th>Coastline (coast/area ratio)</th>       <td>-1581.3918</td> <td>  402.751</td> <td>   -3.926</td> <td> 0.000</td> <td>-2375.366</td> <td> -787.417</td>\n",
       "</tr>\n",
       "<tr>\n",
       "  <th>Net migration</th>                      <td> 2115.4650</td> <td>  328.636</td> <td>    6.437</td> <td> 0.000</td> <td> 1467.598</td> <td> 2763.331</td>\n",
       "</tr>\n",
       "<tr>\n",
       "  <th>Infant mortality (per 1000 births)</th> <td>-1287.6527</td> <td>  923.107</td> <td>   -1.395</td> <td> 0.165</td> <td>-3107.447</td> <td>  532.142</td>\n",
       "</tr>\n",
       "<tr>\n",
       "  <th>Literacy (%)</th>                       <td>   -9.7969</td> <td>  497.915</td> <td>   -0.020</td> <td> 0.984</td> <td> -991.376</td> <td>  971.782</td>\n",
       "</tr>\n",
       "<tr>\n",
       "  <th>Phones (per 1000)</th>                  <td> 7198.9293</td> <td>  538.933</td> <td>   13.358</td> <td> 0.000</td> <td> 6136.488</td> <td> 8261.371</td>\n",
       "</tr>\n",
       "<tr>\n",
       "  <th>Arable (%)</th>                         <td>-1011.6755</td> <td>  970.714</td> <td>   -1.042</td> <td> 0.299</td> <td>-2925.321</td> <td>  901.970</td>\n",
       "</tr>\n",
       "<tr>\n",
       "  <th>Crops (%)</th>                          <td> -321.7995</td> <td>  586.161</td> <td>   -0.549</td> <td> 0.584</td> <td>-1477.345</td> <td>  833.746</td>\n",
       "</tr>\n",
       "<tr>\n",
       "  <th>Other (%)</th>                          <td> -553.4537</td> <td> 1126.368</td> <td>   -0.491</td> <td> 0.624</td> <td>-2773.953</td> <td> 1667.046</td>\n",
       "</tr>\n",
       "<tr>\n",
       "  <th>Climate</th>                            <td> -126.8755</td> <td>  379.696</td> <td>   -0.334</td> <td> 0.739</td> <td> -875.400</td> <td>  621.649</td>\n",
       "</tr>\n",
       "<tr>\n",
       "  <th>Birthrate</th>                          <td> -342.2609</td> <td>  741.738</td> <td>   -0.461</td> <td> 0.645</td> <td>-1804.507</td> <td> 1119.985</td>\n",
       "</tr>\n",
       "<tr>\n",
       "  <th>Deathrate</th>                          <td>  737.4182</td> <td>  474.695</td> <td>    1.553</td> <td> 0.122</td> <td> -198.385</td> <td> 1673.221</td>\n",
       "</tr>\n",
       "<tr>\n",
       "  <th>Agriculture</th>                        <td> -651.6274</td> <td> 1340.186</td> <td>   -0.486</td> <td> 0.627</td> <td>-3293.643</td> <td> 1990.389</td>\n",
       "</tr>\n",
       "<tr>\n",
       "  <th>Industry</th>                           <td>  287.9492</td> <td> 1218.184</td> <td>    0.236</td> <td> 0.813</td> <td>-2113.554</td> <td> 2689.453</td>\n",
       "</tr>\n",
       "<tr>\n",
       "  <th>Service</th>                            <td> -189.3032</td> <td> 1513.260</td> <td>   -0.125</td> <td> 0.901</td> <td>-3172.512</td> <td> 2793.906</td>\n",
       "</tr>\n",
       "</table>\n",
       "<table class=\"simpletable\">\n",
       "<tr>\n",
       "  <th>Omnibus:</th>       <td> 9.555</td> <th>  Durbin-Watson:     </th> <td>   1.855</td>\n",
       "</tr>\n",
       "<tr>\n",
       "  <th>Prob(Omnibus):</th> <td> 0.008</td> <th>  Jarque-Bera (JB):  </th> <td>  15.716</td>\n",
       "</tr>\n",
       "<tr>\n",
       "  <th>Skew:</th>          <td> 0.209</td> <th>  Prob(JB):          </th> <td>0.000387</td>\n",
       "</tr>\n",
       "<tr>\n",
       "  <th>Kurtosis:</th>      <td> 4.220</td> <th>  Cond. No.          </th> <td>    17.5</td>\n",
       "</tr>\n",
       "</table><br/><br/>Warnings:<br/>[1] Standard Errors assume that the covariance matrix of the errors is correctly specified."
      ],
      "text/plain": [
       "<class 'statsmodels.iolib.summary.Summary'>\n",
       "\"\"\"\n",
       "                            OLS Regression Results                            \n",
       "==============================================================================\n",
       "Dep. Variable:     GDP ($ per capita)   R-squared:                       0.801\n",
       "Model:                            OLS   Adj. R-squared:                  0.785\n",
       "Method:                 Least Squares   F-statistic:                     49.48\n",
       "Date:                Tue, 09 Mar 2021   Prob (F-statistic):           1.40e-63\n",
       "Time:                        10:28:23   Log-Likelihood:                -2222.8\n",
       "No. Observations:                 227   AIC:                             4482.\n",
       "Df Residuals:                     209   BIC:                             4543.\n",
       "Df Model:                          17                                         \n",
       "Covariance Type:            nonrobust                                         \n",
       "======================================================================================================\n",
       "                                         coef    std err          t      P>|t|      [0.025      0.975]\n",
       "------------------------------------------------------------------------------------------------------\n",
       "const                               9620.3348    299.480     32.123      0.000    9029.946    1.02e+04\n",
       "Population                           155.5794    356.182      0.437      0.663    -546.590     857.749\n",
       "Area_sqm                             -59.3790    357.475     -0.166      0.868    -764.099     645.341\n",
       "Pop_Density_per sqm                   51.8321    346.271      0.150      0.881    -630.799     734.463\n",
       "Coastline (coast/area ratio)       -1581.3918    402.751     -3.926      0.000   -2375.366    -787.417\n",
       "Net migration                       2115.4650    328.636      6.437      0.000    1467.598    2763.331\n",
       "Infant mortality (per 1000 births) -1287.6527    923.107     -1.395      0.165   -3107.447     532.142\n",
       "Literacy (%)                          -9.7969    497.915     -0.020      0.984    -991.376     971.782\n",
       "Phones (per 1000)                   7198.9293    538.933     13.358      0.000    6136.488    8261.371\n",
       "Arable (%)                         -1011.6755    970.714     -1.042      0.299   -2925.321     901.970\n",
       "Crops (%)                           -321.7995    586.161     -0.549      0.584   -1477.345     833.746\n",
       "Other (%)                           -553.4537   1126.368     -0.491      0.624   -2773.953    1667.046\n",
       "Climate                             -126.8755    379.696     -0.334      0.739    -875.400     621.649\n",
       "Birthrate                           -342.2609    741.738     -0.461      0.645   -1804.507    1119.985\n",
       "Deathrate                            737.4182    474.695      1.553      0.122    -198.385    1673.221\n",
       "Agriculture                         -651.6274   1340.186     -0.486      0.627   -3293.643    1990.389\n",
       "Industry                             287.9492   1218.184      0.236      0.813   -2113.554    2689.453\n",
       "Service                             -189.3032   1513.260     -0.125      0.901   -3172.512    2793.906\n",
       "==============================================================================\n",
       "Omnibus:                        9.555   Durbin-Watson:                   1.855\n",
       "Prob(Omnibus):                  0.008   Jarque-Bera (JB):               15.716\n",
       "Skew:                           0.209   Prob(JB):                     0.000387\n",
       "Kurtosis:                       4.220   Cond. No.                         17.5\n",
       "==============================================================================\n",
       "\n",
       "Warnings:\n",
       "[1] Standard Errors assume that the covariance matrix of the errors is correctly specified.\n",
       "\"\"\""
      ]
     },
     "execution_count": 21,
     "metadata": {},
     "output_type": "execute_result"
    }
   ],
   "source": [
    "from sklearn.preprocessing import StandardScaler\n",
    "sc= StandardScaler()\n",
    "\n",
    "X_scaled = sc.fit_transform(X)\n",
    "X_scaled = pd.DataFrame(X_scaled, columns = X.columns, index = X.index)\n",
    "xc_scaled = sm.add_constant(X_scaled)\n",
    "\n",
    "ols_scaled = sm.OLS(y,xc_scaled).fit()\n",
    "ols_scaled.summary()"
   ]
  },
  {
   "cell_type": "code",
   "execution_count": 22,
   "metadata": {
    "scrolled": true
   },
   "outputs": [
    {
     "data": {
      "text/html": [
       "<div>\n",
       "<style scoped>\n",
       "    .dataframe tbody tr th:only-of-type {\n",
       "        vertical-align: middle;\n",
       "    }\n",
       "\n",
       "    .dataframe tbody tr th {\n",
       "        vertical-align: top;\n",
       "    }\n",
       "\n",
       "    .dataframe thead th {\n",
       "        text-align: right;\n",
       "    }\n",
       "</style>\n",
       "<table border=\"1\" class=\"dataframe\">\n",
       "  <thead>\n",
       "    <tr style=\"text-align: right;\">\n",
       "      <th></th>\n",
       "      <th>Population</th>\n",
       "      <th>Area_sqm</th>\n",
       "      <th>Pop_Density_per sqm</th>\n",
       "      <th>Coastline (coast/area ratio)</th>\n",
       "      <th>Net migration</th>\n",
       "      <th>Infant mortality (per 1000 births)</th>\n",
       "      <th>Literacy (%)</th>\n",
       "      <th>Phones (per 1000)</th>\n",
       "      <th>Arable (%)</th>\n",
       "      <th>Crops (%)</th>\n",
       "      <th>Other (%)</th>\n",
       "      <th>Climate</th>\n",
       "      <th>Birthrate</th>\n",
       "      <th>Deathrate</th>\n",
       "      <th>Agriculture</th>\n",
       "      <th>Industry</th>\n",
       "      <th>Service</th>\n",
       "    </tr>\n",
       "    <tr>\n",
       "      <th>Country</th>\n",
       "      <th></th>\n",
       "      <th></th>\n",
       "      <th></th>\n",
       "      <th></th>\n",
       "      <th></th>\n",
       "      <th></th>\n",
       "      <th></th>\n",
       "      <th></th>\n",
       "      <th></th>\n",
       "      <th></th>\n",
       "      <th></th>\n",
       "      <th></th>\n",
       "      <th></th>\n",
       "      <th></th>\n",
       "      <th></th>\n",
       "      <th></th>\n",
       "      <th></th>\n",
       "    </tr>\n",
       "  </thead>\n",
       "  <tbody>\n",
       "    <tr>\n",
       "      <td>Afghanistan</td>\n",
       "      <td>-0.115094</td>\n",
       "      <td>-0.220266</td>\n",
       "      <td>-0.347864</td>\n",
       "      <td>-0.470180</td>\n",
       "      <td>2.143829</td>\n",
       "      <td>3.079871</td>\n",
       "      <td>-2.537552</td>\n",
       "      <td>-1.041107</td>\n",
       "      <td>-0.132135</td>\n",
       "      <td>-0.502354</td>\n",
       "      <td>0.375437</td>\n",
       "      <td>-1.694570</td>\n",
       "      <td>2.210162</td>\n",
       "      <td>3.055247</td>\n",
       "      <td>1.612835</td>\n",
       "      <td>-0.263552</td>\n",
       "      <td>-1.201003</td>\n",
       "    </tr>\n",
       "    <tr>\n",
       "      <td>Albania</td>\n",
       "      <td>-0.414949</td>\n",
       "      <td>-0.418770</td>\n",
       "      <td>-0.306272</td>\n",
       "      <td>-0.458127</td>\n",
       "      <td>-1.993115</td>\n",
       "      <td>-0.393970</td>\n",
       "      <td>0.181254</td>\n",
       "      <td>-0.736564</td>\n",
       "      <td>0.539398</td>\n",
       "      <td>-0.218337</td>\n",
       "      <td>-0.449624</td>\n",
       "      <td>1.260999</td>\n",
       "      <td>-0.631504</td>\n",
       "      <td>-0.738826</td>\n",
       "      <td>0.583345</td>\n",
       "      <td>-0.645495</td>\n",
       "      <td>0.014199</td>\n",
       "    </tr>\n",
       "    <tr>\n",
       "      <td>Algeria</td>\n",
       "      <td>-0.094652</td>\n",
       "      <td>2.659029</td>\n",
       "      <td>-0.366433</td>\n",
       "      <td>-0.469797</td>\n",
       "      <td>-0.107041</td>\n",
       "      <td>-0.116716</td>\n",
       "      <td>-0.650571</td>\n",
       "      <td>-0.705662</td>\n",
       "      <td>-0.799921</td>\n",
       "      <td>-0.500325</td>\n",
       "      <td>0.932166</td>\n",
       "      <td>-1.694570</td>\n",
       "      <td>-0.448316</td>\n",
       "      <td>-0.842529</td>\n",
       "      <td>-0.327892</td>\n",
       "      <td>2.850162</td>\n",
       "      <td>-1.701740</td>\n",
       "    </tr>\n",
       "    <tr>\n",
       "      <td>American Samoa</td>\n",
       "      <td>-0.453407</td>\n",
       "      <td>-0.427929</td>\n",
       "      <td>-0.216248</td>\n",
       "      <td>2.263057</td>\n",
       "      <td>-1.993115</td>\n",
       "      <td>-0.752237</td>\n",
       "      <td>0.710596</td>\n",
       "      <td>0.106750</td>\n",
       "      <td>-0.291774</td>\n",
       "      <td>2.527233</td>\n",
       "      <td>-0.417649</td>\n",
       "      <td>-0.216785</td>\n",
       "      <td>0.031762</td>\n",
       "      <td>-1.070336</td>\n",
       "      <td>-0.199902</td>\n",
       "      <td>-0.476559</td>\n",
       "      <td>0.568673</td>\n",
       "    </tr>\n",
       "    <tr>\n",
       "      <td>Andorra</td>\n",
       "      <td>-0.453260</td>\n",
       "      <td>-0.427843</td>\n",
       "      <td>-0.291340</td>\n",
       "      <td>-0.470180</td>\n",
       "      <td>2.143829</td>\n",
       "      <td>-0.904902</td>\n",
       "      <td>0.861837</td>\n",
       "      <td>1.171305</td>\n",
       "      <td>-0.874869</td>\n",
       "      <td>-0.517231</td>\n",
       "      <td>1.010534</td>\n",
       "      <td>1.260999</td>\n",
       "      <td>-1.209041</td>\n",
       "      <td>-0.563721</td>\n",
       "      <td>-0.670128</td>\n",
       "      <td>-0.394294</td>\n",
       "      <td>0.913082</td>\n",
       "    </tr>\n",
       "  </tbody>\n",
       "</table>\n",
       "</div>"
      ],
      "text/plain": [
       "                Population  Area_sqm  Pop_Density_per sqm  \\\n",
       "Country                                                     \n",
       "Afghanistan      -0.115094 -0.220266            -0.347864   \n",
       "Albania          -0.414949 -0.418770            -0.306272   \n",
       "Algeria          -0.094652  2.659029            -0.366433   \n",
       "American Samoa   -0.453407 -0.427929            -0.216248   \n",
       "Andorra          -0.453260 -0.427843            -0.291340   \n",
       "\n",
       "                Coastline (coast/area ratio)  Net migration  \\\n",
       "Country                                                       \n",
       "Afghanistan                        -0.470180       2.143829   \n",
       "Albania                            -0.458127      -1.993115   \n",
       "Algeria                            -0.469797      -0.107041   \n",
       "American Samoa                      2.263057      -1.993115   \n",
       "Andorra                            -0.470180       2.143829   \n",
       "\n",
       "                Infant mortality (per 1000 births)  Literacy (%)  \\\n",
       "Country                                                            \n",
       "Afghanistan                               3.079871     -2.537552   \n",
       "Albania                                  -0.393970      0.181254   \n",
       "Algeria                                  -0.116716     -0.650571   \n",
       "American Samoa                           -0.752237      0.710596   \n",
       "Andorra                                  -0.904902      0.861837   \n",
       "\n",
       "                Phones (per 1000)  Arable (%)  Crops (%)  Other (%)   Climate  \\\n",
       "Country                                                                         \n",
       "Afghanistan             -1.041107   -0.132135  -0.502354   0.375437 -1.694570   \n",
       "Albania                 -0.736564    0.539398  -0.218337  -0.449624  1.260999   \n",
       "Algeria                 -0.705662   -0.799921  -0.500325   0.932166 -1.694570   \n",
       "American Samoa           0.106750   -0.291774   2.527233  -0.417649 -0.216785   \n",
       "Andorra                  1.171305   -0.874869  -0.517231   1.010534  1.260999   \n",
       "\n",
       "                Birthrate  Deathrate  Agriculture  Industry   Service  \n",
       "Country                                                                \n",
       "Afghanistan      2.210162   3.055247     1.612835 -0.263552 -1.201003  \n",
       "Albania         -0.631504  -0.738826     0.583345 -0.645495  0.014199  \n",
       "Algeria         -0.448316  -0.842529    -0.327892  2.850162 -1.701740  \n",
       "American Samoa   0.031762  -1.070336    -0.199902 -0.476559  0.568673  \n",
       "Andorra         -1.209041  -0.563721    -0.670128 -0.394294  0.913082  "
      ]
     },
     "execution_count": 22,
     "metadata": {},
     "output_type": "execute_result"
    }
   ],
   "source": [
    "X_scaled.head()"
   ]
  },
  {
   "cell_type": "markdown",
   "metadata": {},
   "source": [
    "### partial scaling"
   ]
  },
  {
   "cell_type": "code",
   "execution_count": 23,
   "metadata": {},
   "outputs": [],
   "source": [
    "## partial scaling\n",
    "\n",
    "X_partial_sc = X - X.mean()\n",
    "xp_sc = sm.add_constant(X_partial_sc)"
   ]
  },
  {
   "cell_type": "code",
   "execution_count": 24,
   "metadata": {
    "scrolled": true
   },
   "outputs": [
    {
     "data": {
      "text/html": [
       "<table class=\"simpletable\">\n",
       "<caption>OLS Regression Results</caption>\n",
       "<tr>\n",
       "  <th>Dep. Variable:</th>    <td>GDP ($ per capita)</td> <th>  R-squared:         </th> <td>   0.801</td>\n",
       "</tr>\n",
       "<tr>\n",
       "  <th>Model:</th>                    <td>OLS</td>        <th>  Adj. R-squared:    </th> <td>   0.785</td>\n",
       "</tr>\n",
       "<tr>\n",
       "  <th>Method:</th>              <td>Least Squares</td>   <th>  F-statistic:       </th> <td>   49.48</td>\n",
       "</tr>\n",
       "<tr>\n",
       "  <th>Date:</th>              <td>Tue, 09 Mar 2021</td>  <th>  Prob (F-statistic):</th> <td>1.40e-63</td>\n",
       "</tr>\n",
       "<tr>\n",
       "  <th>Time:</th>                  <td>10:28:23</td>      <th>  Log-Likelihood:    </th> <td> -2222.8</td>\n",
       "</tr>\n",
       "<tr>\n",
       "  <th>No. Observations:</th>       <td>   227</td>       <th>  AIC:               </th> <td>   4482.</td>\n",
       "</tr>\n",
       "<tr>\n",
       "  <th>Df Residuals:</th>           <td>   209</td>       <th>  BIC:               </th> <td>   4543.</td>\n",
       "</tr>\n",
       "<tr>\n",
       "  <th>Df Model:</th>               <td>    17</td>       <th>                     </th>     <td> </td>   \n",
       "</tr>\n",
       "<tr>\n",
       "  <th>Covariance Type:</th>       <td>nonrobust</td>     <th>                     </th>     <td> </td>   \n",
       "</tr>\n",
       "</table>\n",
       "<table class=\"simpletable\">\n",
       "<tr>\n",
       "                   <td></td>                     <th>coef</th>     <th>std err</th>      <th>t</th>      <th>P>|t|</th>  <th>[0.025</th>    <th>0.975]</th>  \n",
       "</tr>\n",
       "<tr>\n",
       "  <th>const</th>                              <td> 9620.3348</td> <td>  299.480</td> <td>   32.123</td> <td> 0.000</td> <td> 9029.946</td> <td> 1.02e+04</td>\n",
       "</tr>\n",
       "<tr>\n",
       "  <th>Population</th>                         <td> 1.698e-06</td> <td> 3.89e-06</td> <td>    0.437</td> <td> 0.663</td> <td>-5.97e-06</td> <td> 9.36e-06</td>\n",
       "</tr>\n",
       "<tr>\n",
       "  <th>Area_sqm</th>                           <td>-1.905e-05</td> <td>    0.000</td> <td>   -0.166</td> <td> 0.868</td> <td>   -0.000</td> <td>    0.000</td>\n",
       "</tr>\n",
       "<tr>\n",
       "  <th>Pop_Density_per sqm</th>                <td>    0.0281</td> <td>    0.188</td> <td>    0.150</td> <td> 0.881</td> <td>   -0.343</td> <td>    0.399</td>\n",
       "</tr>\n",
       "<tr>\n",
       "  <th>Coastline (coast/area ratio)</th>       <td>  -15.1276</td> <td>    3.853</td> <td>   -3.926</td> <td> 0.000</td> <td>  -22.723</td> <td>   -7.532</td>\n",
       "</tr>\n",
       "<tr>\n",
       "  <th>Net migration</th>                      <td>  295.1782</td> <td>   45.856</td> <td>    6.437</td> <td> 0.000</td> <td>  204.779</td> <td>  385.577</td>\n",
       "</tr>\n",
       "<tr>\n",
       "  <th>Infant mortality (per 1000 births)</th> <td>  -37.6590</td> <td>   26.997</td> <td>   -1.395</td> <td> 0.165</td> <td>  -90.881</td> <td>   15.563</td>\n",
       "</tr>\n",
       "<tr>\n",
       "  <th>Literacy (%)</th>                       <td>   -0.4939</td> <td>   25.102</td> <td>   -0.020</td> <td> 0.984</td> <td>  -49.979</td> <td>   48.991</td>\n",
       "</tr>\n",
       "<tr>\n",
       "  <th>Phones (per 1000)</th>                  <td>   32.2409</td> <td>    2.414</td> <td>   13.358</td> <td> 0.000</td> <td>   27.483</td> <td>   36.999</td>\n",
       "</tr>\n",
       "<tr>\n",
       "  <th>Arable (%)</th>                         <td>  -75.8229</td> <td>   72.753</td> <td>   -1.042</td> <td> 0.299</td> <td> -219.247</td> <td>   67.601</td>\n",
       "</tr>\n",
       "<tr>\n",
       "  <th>Crops (%)</th>                          <td>  -21.7611</td> <td>   39.638</td> <td>   -0.549</td> <td> 0.584</td> <td>  -99.903</td> <td>   56.381</td>\n",
       "</tr>\n",
       "<tr>\n",
       "  <th>Other (%)</th>                          <td>  -34.6986</td> <td>   70.617</td> <td>   -0.491</td> <td> 0.624</td> <td> -173.912</td> <td>  104.515</td>\n",
       "</tr>\n",
       "<tr>\n",
       "  <th>Climate</th>                            <td> -187.4946</td> <td>  561.108</td> <td>   -0.334</td> <td> 0.739</td> <td>-1293.652</td> <td>  918.663</td>\n",
       "</tr>\n",
       "<tr>\n",
       "  <th>Birthrate</th>                          <td>  -30.8857</td> <td>   66.935</td> <td>   -0.461</td> <td> 0.645</td> <td> -162.839</td> <td>  101.068</td>\n",
       "</tr>\n",
       "<tr>\n",
       "  <th>Deathrate</th>                          <td>  125.3649</td> <td>   80.701</td> <td>    1.553</td> <td> 0.122</td> <td>  -33.726</td> <td>  284.456</td>\n",
       "</tr>\n",
       "<tr>\n",
       "  <th>Agriculture</th>                        <td>-4532.7267</td> <td> 9322.350</td> <td>   -0.486</td> <td> 0.627</td> <td>-2.29e+04</td> <td> 1.38e+04</td>\n",
       "</tr>\n",
       "<tr>\n",
       "  <th>Industry</th>                           <td> 2115.0018</td> <td> 8947.628</td> <td>    0.236</td> <td> 0.813</td> <td>-1.55e+04</td> <td> 1.98e+04</td>\n",
       "</tr>\n",
       "<tr>\n",
       "  <th>Service</th>                            <td>-1155.9880</td> <td> 9240.786</td> <td>   -0.125</td> <td> 0.901</td> <td>-1.94e+04</td> <td> 1.71e+04</td>\n",
       "</tr>\n",
       "</table>\n",
       "<table class=\"simpletable\">\n",
       "<tr>\n",
       "  <th>Omnibus:</th>       <td> 9.555</td> <th>  Durbin-Watson:     </th> <td>   1.855</td>\n",
       "</tr>\n",
       "<tr>\n",
       "  <th>Prob(Omnibus):</th> <td> 0.008</td> <th>  Jarque-Bera (JB):  </th> <td>  15.716</td>\n",
       "</tr>\n",
       "<tr>\n",
       "  <th>Skew:</th>          <td> 0.209</td> <th>  Prob(JB):          </th> <td>0.000387</td>\n",
       "</tr>\n",
       "<tr>\n",
       "  <th>Kurtosis:</th>      <td> 4.220</td> <th>  Cond. No.          </th> <td>4.75e+09</td>\n",
       "</tr>\n",
       "</table><br/><br/>Warnings:<br/>[1] Standard Errors assume that the covariance matrix of the errors is correctly specified.<br/>[2] The condition number is large, 4.75e+09. This might indicate that there are<br/>strong multicollinearity or other numerical problems."
      ],
      "text/plain": [
       "<class 'statsmodels.iolib.summary.Summary'>\n",
       "\"\"\"\n",
       "                            OLS Regression Results                            \n",
       "==============================================================================\n",
       "Dep. Variable:     GDP ($ per capita)   R-squared:                       0.801\n",
       "Model:                            OLS   Adj. R-squared:                  0.785\n",
       "Method:                 Least Squares   F-statistic:                     49.48\n",
       "Date:                Tue, 09 Mar 2021   Prob (F-statistic):           1.40e-63\n",
       "Time:                        10:28:23   Log-Likelihood:                -2222.8\n",
       "No. Observations:                 227   AIC:                             4482.\n",
       "Df Residuals:                     209   BIC:                             4543.\n",
       "Df Model:                          17                                         \n",
       "Covariance Type:            nonrobust                                         \n",
       "======================================================================================================\n",
       "                                         coef    std err          t      P>|t|      [0.025      0.975]\n",
       "------------------------------------------------------------------------------------------------------\n",
       "const                               9620.3348    299.480     32.123      0.000    9029.946    1.02e+04\n",
       "Population                          1.698e-06   3.89e-06      0.437      0.663   -5.97e-06    9.36e-06\n",
       "Area_sqm                           -1.905e-05      0.000     -0.166      0.868      -0.000       0.000\n",
       "Pop_Density_per sqm                    0.0281      0.188      0.150      0.881      -0.343       0.399\n",
       "Coastline (coast/area ratio)         -15.1276      3.853     -3.926      0.000     -22.723      -7.532\n",
       "Net migration                        295.1782     45.856      6.437      0.000     204.779     385.577\n",
       "Infant mortality (per 1000 births)   -37.6590     26.997     -1.395      0.165     -90.881      15.563\n",
       "Literacy (%)                          -0.4939     25.102     -0.020      0.984     -49.979      48.991\n",
       "Phones (per 1000)                     32.2409      2.414     13.358      0.000      27.483      36.999\n",
       "Arable (%)                           -75.8229     72.753     -1.042      0.299    -219.247      67.601\n",
       "Crops (%)                            -21.7611     39.638     -0.549      0.584     -99.903      56.381\n",
       "Other (%)                            -34.6986     70.617     -0.491      0.624    -173.912     104.515\n",
       "Climate                             -187.4946    561.108     -0.334      0.739   -1293.652     918.663\n",
       "Birthrate                            -30.8857     66.935     -0.461      0.645    -162.839     101.068\n",
       "Deathrate                            125.3649     80.701      1.553      0.122     -33.726     284.456\n",
       "Agriculture                        -4532.7267   9322.350     -0.486      0.627   -2.29e+04    1.38e+04\n",
       "Industry                            2115.0018   8947.628      0.236      0.813   -1.55e+04    1.98e+04\n",
       "Service                            -1155.9880   9240.786     -0.125      0.901   -1.94e+04    1.71e+04\n",
       "==============================================================================\n",
       "Omnibus:                        9.555   Durbin-Watson:                   1.855\n",
       "Prob(Omnibus):                  0.008   Jarque-Bera (JB):               15.716\n",
       "Skew:                           0.209   Prob(JB):                     0.000387\n",
       "Kurtosis:                       4.220   Cond. No.                     4.75e+09\n",
       "==============================================================================\n",
       "\n",
       "Warnings:\n",
       "[1] Standard Errors assume that the covariance matrix of the errors is correctly specified.\n",
       "[2] The condition number is large, 4.75e+09. This might indicate that there are\n",
       "strong multicollinearity or other numerical problems.\n",
       "\"\"\""
      ]
     },
     "execution_count": 24,
     "metadata": {},
     "output_type": "execute_result"
    }
   ],
   "source": [
    "ols_partial_sc = sm.OLS(y,xp_sc).fit()\n",
    "ols_partial_sc.summary()"
   ]
  },
  {
   "cell_type": "markdown",
   "metadata": {},
   "source": [
    "## ASSUMPTIONS"
   ]
  },
  {
   "cell_type": "markdown",
   "metadata": {},
   "source": [
    "### 1. MULTICOLLINEARITY"
   ]
  },
  {
   "cell_type": "code",
   "execution_count": 25,
   "metadata": {},
   "outputs": [],
   "source": [
    "from statsmodels.stats.outliers_influence import variance_inflation_factor"
   ]
  },
  {
   "cell_type": "code",
   "execution_count": 26,
   "metadata": {},
   "outputs": [
    {
     "data": {
      "text/html": [
       "<div>\n",
       "<style scoped>\n",
       "    .dataframe tbody tr th:only-of-type {\n",
       "        vertical-align: middle;\n",
       "    }\n",
       "\n",
       "    .dataframe tbody tr th {\n",
       "        vertical-align: top;\n",
       "    }\n",
       "\n",
       "    .dataframe thead th {\n",
       "        text-align: right;\n",
       "    }\n",
       "</style>\n",
       "<table border=\"1\" class=\"dataframe\">\n",
       "  <thead>\n",
       "    <tr style=\"text-align: right;\">\n",
       "      <th></th>\n",
       "      <th>VIF</th>\n",
       "      <th>Feature</th>\n",
       "    </tr>\n",
       "  </thead>\n",
       "  <tbody>\n",
       "    <tr>\n",
       "      <td>16</td>\n",
       "      <td>25.532397</td>\n",
       "      <td>Service</td>\n",
       "    </tr>\n",
       "    <tr>\n",
       "      <td>14</td>\n",
       "      <td>20.026042</td>\n",
       "      <td>Agriculture</td>\n",
       "    </tr>\n",
       "    <tr>\n",
       "      <td>15</td>\n",
       "      <td>16.545912</td>\n",
       "      <td>Industry</td>\n",
       "    </tr>\n",
       "    <tr>\n",
       "      <td>10</td>\n",
       "      <td>14.145739</td>\n",
       "      <td>Other (%)</td>\n",
       "    </tr>\n",
       "    <tr>\n",
       "      <td>8</td>\n",
       "      <td>10.506242</td>\n",
       "      <td>Arable (%)</td>\n",
       "    </tr>\n",
       "    <tr>\n",
       "      <td>5</td>\n",
       "      <td>9.500994</td>\n",
       "      <td>Infant mortality (per 1000 births)</td>\n",
       "    </tr>\n",
       "    <tr>\n",
       "      <td>12</td>\n",
       "      <td>6.134302</td>\n",
       "      <td>Birthrate</td>\n",
       "    </tr>\n",
       "    <tr>\n",
       "      <td>9</td>\n",
       "      <td>3.830876</td>\n",
       "      <td>Crops (%)</td>\n",
       "    </tr>\n",
       "    <tr>\n",
       "      <td>7</td>\n",
       "      <td>3.238427</td>\n",
       "      <td>Phones (per 1000)</td>\n",
       "    </tr>\n",
       "    <tr>\n",
       "      <td>6</td>\n",
       "      <td>2.764233</td>\n",
       "      <td>Literacy (%)</td>\n",
       "    </tr>\n",
       "    <tr>\n",
       "      <td>13</td>\n",
       "      <td>2.512426</td>\n",
       "      <td>Deathrate</td>\n",
       "    </tr>\n",
       "    <tr>\n",
       "      <td>3</td>\n",
       "      <td>1.808579</td>\n",
       "      <td>Coastline (coast/area ratio)</td>\n",
       "    </tr>\n",
       "    <tr>\n",
       "      <td>11</td>\n",
       "      <td>1.607444</td>\n",
       "      <td>Climate</td>\n",
       "    </tr>\n",
       "    <tr>\n",
       "      <td>1</td>\n",
       "      <td>1.424810</td>\n",
       "      <td>Area_sqm</td>\n",
       "    </tr>\n",
       "    <tr>\n",
       "      <td>0</td>\n",
       "      <td>1.414517</td>\n",
       "      <td>Population</td>\n",
       "    </tr>\n",
       "    <tr>\n",
       "      <td>2</td>\n",
       "      <td>1.336890</td>\n",
       "      <td>Pop_Density_per sqm</td>\n",
       "    </tr>\n",
       "    <tr>\n",
       "      <td>4</td>\n",
       "      <td>1.204191</td>\n",
       "      <td>Net migration</td>\n",
       "    </tr>\n",
       "  </tbody>\n",
       "</table>\n",
       "</div>"
      ],
      "text/plain": [
       "          VIF                             Feature\n",
       "16  25.532397                             Service\n",
       "14  20.026042                         Agriculture\n",
       "15  16.545912                            Industry\n",
       "10  14.145739                           Other (%)\n",
       "8   10.506242                          Arable (%)\n",
       "5    9.500994  Infant mortality (per 1000 births)\n",
       "12   6.134302                           Birthrate\n",
       "9    3.830876                           Crops (%)\n",
       "7    3.238427                   Phones (per 1000)\n",
       "6    2.764233                        Literacy (%)\n",
       "13   2.512426                           Deathrate\n",
       "3    1.808579        Coastline (coast/area ratio)\n",
       "11   1.607444                             Climate\n",
       "1    1.424810                            Area_sqm\n",
       "0    1.414517                          Population\n",
       "2    1.336890                 Pop_Density_per sqm\n",
       "4    1.204191                       Net migration"
      ]
     },
     "execution_count": 26,
     "metadata": {},
     "output_type": "execute_result"
    }
   ],
   "source": [
    "vif = pd.DataFrame()\n",
    "vif['VIF'] = [variance_inflation_factor(X_partial_sc.values,i) for i in range(X_partial_sc.shape[1]) ]\n",
    "vif['Feature'] = X_partial_sc.columns\n",
    "vif.sort_values('VIF', ascending = False)"
   ]
  },
  {
   "cell_type": "code",
   "execution_count": 27,
   "metadata": {},
   "outputs": [],
   "source": [
    "X_partial_sc2 = X_partial_sc.drop('Service', axis = 1)"
   ]
  },
  {
   "cell_type": "code",
   "execution_count": 28,
   "metadata": {
    "scrolled": true
   },
   "outputs": [
    {
     "data": {
      "text/html": [
       "<div>\n",
       "<style scoped>\n",
       "    .dataframe tbody tr th:only-of-type {\n",
       "        vertical-align: middle;\n",
       "    }\n",
       "\n",
       "    .dataframe tbody tr th {\n",
       "        vertical-align: top;\n",
       "    }\n",
       "\n",
       "    .dataframe thead th {\n",
       "        text-align: right;\n",
       "    }\n",
       "</style>\n",
       "<table border=\"1\" class=\"dataframe\">\n",
       "  <thead>\n",
       "    <tr style=\"text-align: right;\">\n",
       "      <th></th>\n",
       "      <th>VIF</th>\n",
       "      <th>Feature</th>\n",
       "    </tr>\n",
       "  </thead>\n",
       "  <tbody>\n",
       "    <tr>\n",
       "      <td>10</td>\n",
       "      <td>14.141041</td>\n",
       "      <td>Other (%)</td>\n",
       "    </tr>\n",
       "    <tr>\n",
       "      <td>8</td>\n",
       "      <td>10.504615</td>\n",
       "      <td>Arable (%)</td>\n",
       "    </tr>\n",
       "    <tr>\n",
       "      <td>5</td>\n",
       "      <td>9.466748</td>\n",
       "      <td>Infant mortality (per 1000 births)</td>\n",
       "    </tr>\n",
       "    <tr>\n",
       "      <td>12</td>\n",
       "      <td>6.134036</td>\n",
       "      <td>Birthrate</td>\n",
       "    </tr>\n",
       "    <tr>\n",
       "      <td>9</td>\n",
       "      <td>3.830859</td>\n",
       "      <td>Crops (%)</td>\n",
       "    </tr>\n",
       "    <tr>\n",
       "      <td>14</td>\n",
       "      <td>3.252902</td>\n",
       "      <td>Agriculture</td>\n",
       "    </tr>\n",
       "    <tr>\n",
       "      <td>7</td>\n",
       "      <td>3.212241</td>\n",
       "      <td>Phones (per 1000)</td>\n",
       "    </tr>\n",
       "    <tr>\n",
       "      <td>6</td>\n",
       "      <td>2.740219</td>\n",
       "      <td>Literacy (%)</td>\n",
       "    </tr>\n",
       "    <tr>\n",
       "      <td>13</td>\n",
       "      <td>2.508962</td>\n",
       "      <td>Deathrate</td>\n",
       "    </tr>\n",
       "    <tr>\n",
       "      <td>3</td>\n",
       "      <td>1.780749</td>\n",
       "      <td>Coastline (coast/area ratio)</td>\n",
       "    </tr>\n",
       "    <tr>\n",
       "      <td>15</td>\n",
       "      <td>1.714570</td>\n",
       "      <td>Industry</td>\n",
       "    </tr>\n",
       "    <tr>\n",
       "      <td>11</td>\n",
       "      <td>1.590360</td>\n",
       "      <td>Climate</td>\n",
       "    </tr>\n",
       "    <tr>\n",
       "      <td>0</td>\n",
       "      <td>1.413954</td>\n",
       "      <td>Population</td>\n",
       "    </tr>\n",
       "    <tr>\n",
       "      <td>1</td>\n",
       "      <td>1.408147</td>\n",
       "      <td>Area_sqm</td>\n",
       "    </tr>\n",
       "    <tr>\n",
       "      <td>2</td>\n",
       "      <td>1.331512</td>\n",
       "      <td>Pop_Density_per sqm</td>\n",
       "    </tr>\n",
       "    <tr>\n",
       "      <td>4</td>\n",
       "      <td>1.199117</td>\n",
       "      <td>Net migration</td>\n",
       "    </tr>\n",
       "  </tbody>\n",
       "</table>\n",
       "</div>"
      ],
      "text/plain": [
       "          VIF                             Feature\n",
       "10  14.141041                           Other (%)\n",
       "8   10.504615                          Arable (%)\n",
       "5    9.466748  Infant mortality (per 1000 births)\n",
       "12   6.134036                           Birthrate\n",
       "9    3.830859                           Crops (%)\n",
       "14   3.252902                         Agriculture\n",
       "7    3.212241                   Phones (per 1000)\n",
       "6    2.740219                        Literacy (%)\n",
       "13   2.508962                           Deathrate\n",
       "3    1.780749        Coastline (coast/area ratio)\n",
       "15   1.714570                            Industry\n",
       "11   1.590360                             Climate\n",
       "0    1.413954                          Population\n",
       "1    1.408147                            Area_sqm\n",
       "2    1.331512                 Pop_Density_per sqm\n",
       "4    1.199117                       Net migration"
      ]
     },
     "execution_count": 28,
     "metadata": {},
     "output_type": "execute_result"
    }
   ],
   "source": [
    "vif2 = pd.DataFrame()\n",
    "vif2['VIF'] = [variance_inflation_factor(X_partial_sc2.values,i) for i in range(X_partial_sc2.shape[1]) ]\n",
    "vif2['Feature'] = X_partial_sc2.columns\n",
    "vif2.sort_values('VIF', ascending = False)"
   ]
  },
  {
   "cell_type": "code",
   "execution_count": 29,
   "metadata": {},
   "outputs": [],
   "source": [
    "X_partial_sc3 = X_partial_sc2.drop('Other (%)', axis = 1)"
   ]
  },
  {
   "cell_type": "code",
   "execution_count": 30,
   "metadata": {},
   "outputs": [
    {
     "data": {
      "text/html": [
       "<div>\n",
       "<style scoped>\n",
       "    .dataframe tbody tr th:only-of-type {\n",
       "        vertical-align: middle;\n",
       "    }\n",
       "\n",
       "    .dataframe tbody tr th {\n",
       "        vertical-align: top;\n",
       "    }\n",
       "\n",
       "    .dataframe thead th {\n",
       "        text-align: right;\n",
       "    }\n",
       "</style>\n",
       "<table border=\"1\" class=\"dataframe\">\n",
       "  <thead>\n",
       "    <tr style=\"text-align: right;\">\n",
       "      <th></th>\n",
       "      <th>VIF</th>\n",
       "      <th>Feature</th>\n",
       "    </tr>\n",
       "  </thead>\n",
       "  <tbody>\n",
       "    <tr>\n",
       "      <td>5</td>\n",
       "      <td>9.437339</td>\n",
       "      <td>Infant mortality (per 1000 births)</td>\n",
       "    </tr>\n",
       "    <tr>\n",
       "      <td>11</td>\n",
       "      <td>6.065702</td>\n",
       "      <td>Birthrate</td>\n",
       "    </tr>\n",
       "    <tr>\n",
       "      <td>13</td>\n",
       "      <td>3.252899</td>\n",
       "      <td>Agriculture</td>\n",
       "    </tr>\n",
       "    <tr>\n",
       "      <td>7</td>\n",
       "      <td>3.201979</td>\n",
       "      <td>Phones (per 1000)</td>\n",
       "    </tr>\n",
       "    <tr>\n",
       "      <td>6</td>\n",
       "      <td>2.718619</td>\n",
       "      <td>Literacy (%)</td>\n",
       "    </tr>\n",
       "    <tr>\n",
       "      <td>12</td>\n",
       "      <td>2.508164</td>\n",
       "      <td>Deathrate</td>\n",
       "    </tr>\n",
       "    <tr>\n",
       "      <td>3</td>\n",
       "      <td>1.744867</td>\n",
       "      <td>Coastline (coast/area ratio)</td>\n",
       "    </tr>\n",
       "    <tr>\n",
       "      <td>14</td>\n",
       "      <td>1.713809</td>\n",
       "      <td>Industry</td>\n",
       "    </tr>\n",
       "    <tr>\n",
       "      <td>10</td>\n",
       "      <td>1.588994</td>\n",
       "      <td>Climate</td>\n",
       "    </tr>\n",
       "    <tr>\n",
       "      <td>8</td>\n",
       "      <td>1.413931</td>\n",
       "      <td>Arable (%)</td>\n",
       "    </tr>\n",
       "    <tr>\n",
       "      <td>1</td>\n",
       "      <td>1.398809</td>\n",
       "      <td>Area_sqm</td>\n",
       "    </tr>\n",
       "    <tr>\n",
       "      <td>0</td>\n",
       "      <td>1.394332</td>\n",
       "      <td>Population</td>\n",
       "    </tr>\n",
       "    <tr>\n",
       "      <td>9</td>\n",
       "      <td>1.375567</td>\n",
       "      <td>Crops (%)</td>\n",
       "    </tr>\n",
       "    <tr>\n",
       "      <td>2</td>\n",
       "      <td>1.324509</td>\n",
       "      <td>Pop_Density_per sqm</td>\n",
       "    </tr>\n",
       "    <tr>\n",
       "      <td>4</td>\n",
       "      <td>1.177433</td>\n",
       "      <td>Net migration</td>\n",
       "    </tr>\n",
       "  </tbody>\n",
       "</table>\n",
       "</div>"
      ],
      "text/plain": [
       "         VIF                             Feature\n",
       "5   9.437339  Infant mortality (per 1000 births)\n",
       "11  6.065702                           Birthrate\n",
       "13  3.252899                         Agriculture\n",
       "7   3.201979                   Phones (per 1000)\n",
       "6   2.718619                        Literacy (%)\n",
       "12  2.508164                           Deathrate\n",
       "3   1.744867        Coastline (coast/area ratio)\n",
       "14  1.713809                            Industry\n",
       "10  1.588994                             Climate\n",
       "8   1.413931                          Arable (%)\n",
       "1   1.398809                            Area_sqm\n",
       "0   1.394332                          Population\n",
       "9   1.375567                           Crops (%)\n",
       "2   1.324509                 Pop_Density_per sqm\n",
       "4   1.177433                       Net migration"
      ]
     },
     "execution_count": 30,
     "metadata": {},
     "output_type": "execute_result"
    }
   ],
   "source": [
    "vif2 = pd.DataFrame()\n",
    "vif2['VIF'] = [variance_inflation_factor(X_partial_sc3.values,i) for i in range(X_partial_sc3.shape[1]) ]\n",
    "vif2['Feature'] = X_partial_sc3.columns\n",
    "vif2.sort_values('VIF', ascending = False)"
   ]
  },
  {
   "cell_type": "code",
   "execution_count": 31,
   "metadata": {},
   "outputs": [],
   "source": [
    "X_partial_sc4 = X_partial_sc3.drop('Infant mortality (per 1000 births)', axis = 1)"
   ]
  },
  {
   "cell_type": "code",
   "execution_count": 32,
   "metadata": {
    "scrolled": true
   },
   "outputs": [
    {
     "data": {
      "text/html": [
       "<div>\n",
       "<style scoped>\n",
       "    .dataframe tbody tr th:only-of-type {\n",
       "        vertical-align: middle;\n",
       "    }\n",
       "\n",
       "    .dataframe tbody tr th {\n",
       "        vertical-align: top;\n",
       "    }\n",
       "\n",
       "    .dataframe thead th {\n",
       "        text-align: right;\n",
       "    }\n",
       "</style>\n",
       "<table border=\"1\" class=\"dataframe\">\n",
       "  <thead>\n",
       "    <tr style=\"text-align: right;\">\n",
       "      <th></th>\n",
       "      <th>VIF</th>\n",
       "      <th>Feature</th>\n",
       "    </tr>\n",
       "  </thead>\n",
       "  <tbody>\n",
       "    <tr>\n",
       "      <td>10</td>\n",
       "      <td>4.484879</td>\n",
       "      <td>Birthrate</td>\n",
       "    </tr>\n",
       "    <tr>\n",
       "      <td>6</td>\n",
       "      <td>3.132257</td>\n",
       "      <td>Phones (per 1000)</td>\n",
       "    </tr>\n",
       "    <tr>\n",
       "      <td>12</td>\n",
       "      <td>2.771160</td>\n",
       "      <td>Agriculture</td>\n",
       "    </tr>\n",
       "    <tr>\n",
       "      <td>5</td>\n",
       "      <td>2.582218</td>\n",
       "      <td>Literacy (%)</td>\n",
       "    </tr>\n",
       "    <tr>\n",
       "      <td>3</td>\n",
       "      <td>1.738336</td>\n",
       "      <td>Coastline (coast/area ratio)</td>\n",
       "    </tr>\n",
       "    <tr>\n",
       "      <td>13</td>\n",
       "      <td>1.665256</td>\n",
       "      <td>Industry</td>\n",
       "    </tr>\n",
       "    <tr>\n",
       "      <td>9</td>\n",
       "      <td>1.580450</td>\n",
       "      <td>Climate</td>\n",
       "    </tr>\n",
       "    <tr>\n",
       "      <td>11</td>\n",
       "      <td>1.463293</td>\n",
       "      <td>Deathrate</td>\n",
       "    </tr>\n",
       "    <tr>\n",
       "      <td>7</td>\n",
       "      <td>1.413394</td>\n",
       "      <td>Arable (%)</td>\n",
       "    </tr>\n",
       "    <tr>\n",
       "      <td>1</td>\n",
       "      <td>1.397710</td>\n",
       "      <td>Area_sqm</td>\n",
       "    </tr>\n",
       "    <tr>\n",
       "      <td>0</td>\n",
       "      <td>1.382396</td>\n",
       "      <td>Population</td>\n",
       "    </tr>\n",
       "    <tr>\n",
       "      <td>8</td>\n",
       "      <td>1.346897</td>\n",
       "      <td>Crops (%)</td>\n",
       "    </tr>\n",
       "    <tr>\n",
       "      <td>2</td>\n",
       "      <td>1.322850</td>\n",
       "      <td>Pop_Density_per sqm</td>\n",
       "    </tr>\n",
       "    <tr>\n",
       "      <td>4</td>\n",
       "      <td>1.176766</td>\n",
       "      <td>Net migration</td>\n",
       "    </tr>\n",
       "  </tbody>\n",
       "</table>\n",
       "</div>"
      ],
      "text/plain": [
       "         VIF                       Feature\n",
       "10  4.484879                     Birthrate\n",
       "6   3.132257             Phones (per 1000)\n",
       "12  2.771160                   Agriculture\n",
       "5   2.582218                  Literacy (%)\n",
       "3   1.738336  Coastline (coast/area ratio)\n",
       "13  1.665256                      Industry\n",
       "9   1.580450                       Climate\n",
       "11  1.463293                     Deathrate\n",
       "7   1.413394                    Arable (%)\n",
       "1   1.397710                      Area_sqm\n",
       "0   1.382396                    Population\n",
       "8   1.346897                     Crops (%)\n",
       "2   1.322850           Pop_Density_per sqm\n",
       "4   1.176766                 Net migration"
      ]
     },
     "execution_count": 32,
     "metadata": {},
     "output_type": "execute_result"
    }
   ],
   "source": [
    "vif2 = pd.DataFrame()\n",
    "vif2['VIF'] = [variance_inflation_factor(X_partial_sc4.values,i) for i in range(X_partial_sc4.shape[1]) ]\n",
    "vif2['Feature'] = X_partial_sc4.columns\n",
    "vif2.sort_values('VIF', ascending = False)"
   ]
  },
  {
   "cell_type": "code",
   "execution_count": 33,
   "metadata": {
    "scrolled": true
   },
   "outputs": [
    {
     "data": {
      "text/html": [
       "<table class=\"simpletable\">\n",
       "<caption>OLS Regression Results</caption>\n",
       "<tr>\n",
       "  <th>Dep. Variable:</th>    <td>GDP ($ per capita)</td> <th>  R-squared:         </th> <td>   0.799</td>\n",
       "</tr>\n",
       "<tr>\n",
       "  <th>Model:</th>                    <td>OLS</td>        <th>  Adj. R-squared:    </th> <td>   0.786</td>\n",
       "</tr>\n",
       "<tr>\n",
       "  <th>Method:</th>              <td>Least Squares</td>   <th>  F-statistic:       </th> <td>   60.12</td>\n",
       "</tr>\n",
       "<tr>\n",
       "  <th>Date:</th>              <td>Tue, 09 Mar 2021</td>  <th>  Prob (F-statistic):</th> <td>9.60e-66</td>\n",
       "</tr>\n",
       "<tr>\n",
       "  <th>Time:</th>                  <td>10:28:24</td>      <th>  Log-Likelihood:    </th> <td> -2224.0</td>\n",
       "</tr>\n",
       "<tr>\n",
       "  <th>No. Observations:</th>       <td>   227</td>       <th>  AIC:               </th> <td>   4478.</td>\n",
       "</tr>\n",
       "<tr>\n",
       "  <th>Df Residuals:</th>           <td>   212</td>       <th>  BIC:               </th> <td>   4529.</td>\n",
       "</tr>\n",
       "<tr>\n",
       "  <th>Df Model:</th>               <td>    14</td>       <th>                     </th>     <td> </td>   \n",
       "</tr>\n",
       "<tr>\n",
       "  <th>Covariance Type:</th>       <td>nonrobust</td>     <th>                     </th>     <td> </td>   \n",
       "</tr>\n",
       "</table>\n",
       "<table class=\"simpletable\">\n",
       "<tr>\n",
       "                <td></td>                  <th>coef</th>     <th>std err</th>      <th>t</th>      <th>P>|t|</th>  <th>[0.025</th>    <th>0.975]</th>  \n",
       "</tr>\n",
       "<tr>\n",
       "  <th>const</th>                        <td> 9620.3348</td> <td>  298.964</td> <td>   32.179</td> <td> 0.000</td> <td> 9031.013</td> <td> 1.02e+04</td>\n",
       "</tr>\n",
       "<tr>\n",
       "  <th>Population</th>                   <td> 1.405e-06</td> <td> 3.84e-06</td> <td>    0.366</td> <td> 0.714</td> <td>-6.16e-06</td> <td> 8.97e-06</td>\n",
       "</tr>\n",
       "<tr>\n",
       "  <th>Area_sqm</th>                     <td>-2.966e-05</td> <td>    0.000</td> <td>   -0.262</td> <td> 0.794</td> <td>   -0.000</td> <td>    0.000</td>\n",
       "</tr>\n",
       "<tr>\n",
       "  <th>Pop_Density_per sqm</th>          <td>    0.0106</td> <td>    0.187</td> <td>    0.057</td> <td> 0.955</td> <td>   -0.357</td> <td>    0.379</td>\n",
       "</tr>\n",
       "<tr>\n",
       "  <th>Coastline (coast/area ratio)</th> <td>  -15.2505</td> <td>    3.771</td> <td>   -4.045</td> <td> 0.000</td> <td>  -22.683</td> <td>   -7.818</td>\n",
       "</tr>\n",
       "<tr>\n",
       "  <th>Net migration</th>                <td>  294.0734</td> <td>   45.252</td> <td>    6.499</td> <td> 0.000</td> <td>  204.871</td> <td>  383.276</td>\n",
       "</tr>\n",
       "<tr>\n",
       "  <th>Literacy (%)</th>                 <td>    8.7987</td> <td>   24.219</td> <td>    0.363</td> <td> 0.717</td> <td>  -38.943</td> <td>   56.540</td>\n",
       "</tr>\n",
       "<tr>\n",
       "  <th>Phones (per 1000)</th>            <td>   32.6500</td> <td>    2.370</td> <td>   13.778</td> <td> 0.000</td> <td>   27.979</td> <td>   37.321</td>\n",
       "</tr>\n",
       "<tr>\n",
       "  <th>Arable (%)</th>                   <td>  -41.8676</td> <td>   26.638</td> <td>   -1.572</td> <td> 0.118</td> <td>  -94.378</td> <td>   10.643</td>\n",
       "</tr>\n",
       "<tr>\n",
       "  <th>Crops (%)</th>                    <td>   -1.3818</td> <td>   23.463</td> <td>   -0.059</td> <td> 0.953</td> <td>  -47.632</td> <td>   44.869</td>\n",
       "</tr>\n",
       "<tr>\n",
       "  <th>Climate</th>                      <td> -128.6667</td> <td>  555.418</td> <td>   -0.232</td> <td> 0.817</td> <td>-1223.515</td> <td>  966.182</td>\n",
       "</tr>\n",
       "<tr>\n",
       "  <th>Birthrate</th>                    <td>  -75.7142</td> <td>   57.134</td> <td>   -1.325</td> <td> 0.187</td> <td> -188.337</td> <td>   36.909</td>\n",
       "</tr>\n",
       "<tr>\n",
       "  <th>Deathrate</th>                    <td>   50.4181</td> <td>   61.482</td> <td>    0.820</td> <td> 0.413</td> <td>  -70.776</td> <td>  171.612</td>\n",
       "</tr>\n",
       "<tr>\n",
       "  <th>Agriculture</th>                  <td>-5516.0947</td> <td> 3461.857</td> <td>   -1.593</td> <td> 0.113</td> <td>-1.23e+04</td> <td> 1307.978</td>\n",
       "</tr>\n",
       "<tr>\n",
       "  <th>Industry</th>                     <td> 2457.0810</td> <td> 2833.698</td> <td>    0.867</td> <td> 0.387</td> <td>-3128.753</td> <td> 8042.915</td>\n",
       "</tr>\n",
       "</table>\n",
       "<table class=\"simpletable\">\n",
       "<tr>\n",
       "  <th>Omnibus:</th>       <td> 9.500</td> <th>  Durbin-Watson:     </th> <td>   1.819</td>\n",
       "</tr>\n",
       "<tr>\n",
       "  <th>Prob(Omnibus):</th> <td> 0.009</td> <th>  Jarque-Bera (JB):  </th> <td>  15.039</td>\n",
       "</tr>\n",
       "<tr>\n",
       "  <th>Skew:</th>          <td> 0.225</td> <th>  Prob(JB):          </th> <td>0.000542</td>\n",
       "</tr>\n",
       "<tr>\n",
       "  <th>Kurtosis:</th>      <td> 4.178</td> <th>  Cond. No.          </th> <td>1.20e+09</td>\n",
       "</tr>\n",
       "</table><br/><br/>Warnings:<br/>[1] Standard Errors assume that the covariance matrix of the errors is correctly specified.<br/>[2] The condition number is large, 1.2e+09. This might indicate that there are<br/>strong multicollinearity or other numerical problems."
      ],
      "text/plain": [
       "<class 'statsmodels.iolib.summary.Summary'>\n",
       "\"\"\"\n",
       "                            OLS Regression Results                            \n",
       "==============================================================================\n",
       "Dep. Variable:     GDP ($ per capita)   R-squared:                       0.799\n",
       "Model:                            OLS   Adj. R-squared:                  0.786\n",
       "Method:                 Least Squares   F-statistic:                     60.12\n",
       "Date:                Tue, 09 Mar 2021   Prob (F-statistic):           9.60e-66\n",
       "Time:                        10:28:24   Log-Likelihood:                -2224.0\n",
       "No. Observations:                 227   AIC:                             4478.\n",
       "Df Residuals:                     212   BIC:                             4529.\n",
       "Df Model:                          14                                         \n",
       "Covariance Type:            nonrobust                                         \n",
       "================================================================================================\n",
       "                                   coef    std err          t      P>|t|      [0.025      0.975]\n",
       "------------------------------------------------------------------------------------------------\n",
       "const                         9620.3348    298.964     32.179      0.000    9031.013    1.02e+04\n",
       "Population                    1.405e-06   3.84e-06      0.366      0.714   -6.16e-06    8.97e-06\n",
       "Area_sqm                     -2.966e-05      0.000     -0.262      0.794      -0.000       0.000\n",
       "Pop_Density_per sqm              0.0106      0.187      0.057      0.955      -0.357       0.379\n",
       "Coastline (coast/area ratio)   -15.2505      3.771     -4.045      0.000     -22.683      -7.818\n",
       "Net migration                  294.0734     45.252      6.499      0.000     204.871     383.276\n",
       "Literacy (%)                     8.7987     24.219      0.363      0.717     -38.943      56.540\n",
       "Phones (per 1000)               32.6500      2.370     13.778      0.000      27.979      37.321\n",
       "Arable (%)                     -41.8676     26.638     -1.572      0.118     -94.378      10.643\n",
       "Crops (%)                       -1.3818     23.463     -0.059      0.953     -47.632      44.869\n",
       "Climate                       -128.6667    555.418     -0.232      0.817   -1223.515     966.182\n",
       "Birthrate                      -75.7142     57.134     -1.325      0.187    -188.337      36.909\n",
       "Deathrate                       50.4181     61.482      0.820      0.413     -70.776     171.612\n",
       "Agriculture                  -5516.0947   3461.857     -1.593      0.113   -1.23e+04    1307.978\n",
       "Industry                      2457.0810   2833.698      0.867      0.387   -3128.753    8042.915\n",
       "==============================================================================\n",
       "Omnibus:                        9.500   Durbin-Watson:                   1.819\n",
       "Prob(Omnibus):                  0.009   Jarque-Bera (JB):               15.039\n",
       "Skew:                           0.225   Prob(JB):                     0.000542\n",
       "Kurtosis:                       4.178   Cond. No.                     1.20e+09\n",
       "==============================================================================\n",
       "\n",
       "Warnings:\n",
       "[1] Standard Errors assume that the covariance matrix of the errors is correctly specified.\n",
       "[2] The condition number is large, 1.2e+09. This might indicate that there are\n",
       "strong multicollinearity or other numerical problems.\n",
       "\"\"\""
      ]
     },
     "execution_count": 33,
     "metadata": {},
     "output_type": "execute_result"
    }
   ],
   "source": [
    "# model after removing \n",
    "xp_c = sm.add_constant(X_partial_sc4)\n",
    "\n",
    "ols_no_m = sm.OLS(y,xp_c).fit()\n",
    "ols_no_m.summary()\n",
    "\n",
    "\n",
    "# for partially scaled Conditional Number can be > 100"
   ]
  },
  {
   "cell_type": "markdown",
   "metadata": {},
   "source": [
    "### 2. NORMALITY\n",
    "\n",
    "##### if data is not normal transform target variable"
   ]
  },
  {
   "cell_type": "code",
   "execution_count": 34,
   "metadata": {},
   "outputs": [
    {
     "data": {
      "text/plain": [
       "0.2268358813120028"
      ]
     },
     "execution_count": 34,
     "metadata": {},
     "output_type": "execute_result"
    }
   ],
   "source": [
    "res = ols_no_m.resid\n",
    "res.skew()\n",
    "#data is normal as skew is between -0.5 to 0.5"
   ]
  },
  {
   "cell_type": "code",
   "execution_count": 35,
   "metadata": {},
   "outputs": [
    {
     "data": {
      "image/png": "[encoded data removed]",
      "text/plain": [
       "<Figure size 432x288 with 1 Axes>"
      ]
     },
     "metadata": {
      "needs_background": "light"
     },
     "output_type": "display_data"
    }
   ],
   "source": [
    "sns.distplot(res)\n",
    "plt.show()"
   ]
  },
  {
   "cell_type": "code",
   "execution_count": 36,
   "metadata": {
    "scrolled": true
   },
   "outputs": [
    {
     "data": {
      "image/png": "[encoded data removed]",
      "text/plain": [
       "<Figure size 432x288 with 1 Axes>"
      ]
     },
     "metadata": {
      "needs_background": "light"
     },
     "output_type": "display_data"
    }
   ],
   "source": [
    "stats.probplot(res, plot = plt)\n",
    "plt.show()"
   ]
  },
  {
   "cell_type": "markdown",
   "metadata": {},
   "source": [
    "### 3. LINEARITY\n",
    "\n",
    "##### errors must be random\n",
    "##### symmetric with 0 residue line"
   ]
  },
  {
   "cell_type": "code",
   "execution_count": 37,
   "metadata": {},
   "outputs": [
    {
     "data": {
      "text/plain": [
       "<matplotlib.axes._subplots.AxesSubplot at 0x1f7bdcf2948>"
      ]
     },
     "execution_count": 37,
     "metadata": {},
     "output_type": "execute_result"
    },
    {
     "data": {
      "image/png": "[encoded data removed]",
      "text/plain": [
       "<Figure size 432x288 with 1 Axes>"
      ]
     },
     "metadata": {
      "needs_background": "light"
     },
     "output_type": "display_data"
    }
   ],
   "source": [
    "sns.scatterplot(y, ols_no_m.predict())"
   ]
  },
  {
   "cell_type": "code",
   "execution_count": 38,
   "metadata": {},
   "outputs": [
    {
     "data": {
      "image/png": "[encoded data removed]",
      "text/plain": [
       "<Figure size 432x288 with 1 Axes>"
      ]
     },
     "metadata": {
      "needs_background": "light"
     },
     "output_type": "display_data"
    },
    {
     "data": {
      "image/png": "[encoded data removed]",
      "text/plain": [
       "<Figure size 432x288 with 1 Axes>"
      ]
     },
     "metadata": {
      "needs_background": "light"
     },
     "output_type": "display_data"
    },
    {
     "data": {
      "image/png": "[encoded data removed]",
      "text/plain": [
       "<Figure size 432x288 with 1 Axes>"
      ]
     },
     "metadata": {
      "needs_background": "light"
     },
     "output_type": "display_data"
    },
    {
     "data": {
      "image/png": "[encoded data removed]",
      "text/plain": [
       "<Figure size 432x288 with 1 Axes>"
      ]
     },
     "metadata": {
      "needs_background": "light"
     },
     "output_type": "display_data"
    },
    {
     "data": {
      "image/png": "[encoded data removed]",
      "text/plain": [
       "<Figure size 432x288 with 1 Axes>"
      ]
     },
     "metadata": {
      "needs_background": "light"
     },
     "output_type": "display_data"
    },
    {
     "data": {
      "image/png": "[encoded data removed]",
      "text/plain": [
       "<Figure size 432x288 with 1 Axes>"
      ]
     },
     "metadata": {
      "needs_background": "light"
     },
     "output_type": "display_data"
    },
    {
     "data": {
      "image/png": "[encoded data removed]",
      "text/plain": [
       "<Figure size 432x288 with 1 Axes>"
      ]
     },
     "metadata": {
      "needs_background": "light"
     },
     "output_type": "display_data"
    },
    {
     "data": {
      "image/png": "[encoded data removed]",
      "text/plain": [
       "<Figure size 432x288 with 1 Axes>"
      ]
     },
     "metadata": {
      "needs_background": "light"
     },
     "output_type": "display_data"
    },
    {
     "data": {
      "image/png": "[encoded data removed]",
      "text/plain": [
       "<Figure size 432x288 with 1 Axes>"
      ]
     },
     "metadata": {
      "needs_background": "light"
     },
     "output_type": "display_data"
    },
    {
     "data": {
      "image/png": "[encoded data removed]",
      "text/plain": [
       "<Figure size 432x288 with 1 Axes>"
      ]
     },
     "metadata": {
      "needs_background": "light"
     },
     "output_type": "display_data"
    },
    {
     "data": {
      "image/png": "[encoded data removed]",
      "text/plain": [
       "<Figure size 432x288 with 1 Axes>"
      ]
     },
     "metadata": {
      "needs_background": "light"
     },
     "output_type": "display_data"
    },
    {
     "data": {
      "image/png": "[encoded data removed]",
      "text/plain": [
       "<Figure size 432x288 with 1 Axes>"
      ]
     },
     "metadata": {
      "needs_background": "light"
     },
     "output_type": "display_data"
    },
    {
     "data": {
      "image/png": "[encoded data removed]",
      "text/plain": [
       "<Figure size 432x288 with 1 Axes>"
      ]
     },
     "metadata": {
      "needs_background": "light"
     },
     "output_type": "display_data"
    },
    {
     "data": {
      "image/png": "[encoded data removed]",
      "text/plain": [
       "<Figure size 432x288 with 1 Axes>"
      ]
     },
     "metadata": {
      "needs_background": "light"
     },
     "output_type": "display_data"
    }
   ],
   "source": [
    "for i in X_partial_sc4.columns:\n",
    "    sns.scatterplot(X_partial_sc4[i], ols_no_m.resid)\n",
    "    plt.show()"
   ]
  },
  {
   "cell_type": "code",
   "execution_count": 39,
   "metadata": {},
   "outputs": [
    {
     "data": {
      "text/plain": [
       "(0.8285773037282241, 0.8338424695118343)"
      ]
     },
     "execution_count": 39,
     "metadata": {},
     "output_type": "execute_result"
    }
   ],
   "source": [
    "from statsmodels.stats.diagnostic import linear_rainbow\n",
    "\n",
    "linear_rainbow(res = ols_no_m, frac = 0.5)\n",
    "#fraction is how much data\n",
    "#here we consider 50% of the data\n",
    "#stats,pval. pval > 0.05 so null hypothesis\n",
    "#hence data is linear"
   ]
  },
  {
   "cell_type": "markdown",
   "metadata": {},
   "source": [
    "### 4. HOMOSCEDACITY"
   ]
  },
  {
   "cell_type": "code",
   "execution_count": 40,
   "metadata": {},
   "outputs": [
    {
     "data": {
      "image/png": "[encoded data removed]",
      "text/plain": [
       "<Figure size 432x288 with 1 Axes>"
      ]
     },
     "metadata": {
      "needs_background": "light"
     },
     "output_type": "display_data"
    }
   ],
   "source": [
    "sns.residplot(ols_no_m.predict(),ols_no_m.resid)\n",
    "plt.show()\n",
    "\n",
    "#not a perfect homo but also not a hetero"
   ]
  },
  {
   "cell_type": "code",
   "execution_count": 41,
   "metadata": {},
   "outputs": [
    {
     "name": "stdout",
     "output_type": "stream",
     "text": [
      "Stat Value:  0.7124269225010615\n",
      "PValue:  0.9537219755464738\n",
      "Arangemnet:  increasing\n"
     ]
    }
   ],
   "source": [
    "from statsmodels.stats.api import het_goldfeldquandt\n",
    "\n",
    "stat, pval, arrangemnet = het_goldfeldquandt(ols_no_m.resid, X_partial_sc4)\n",
    "print('Stat Value: ', stat)\n",
    "print('PValue: ', pval)\n",
    "print('Arangemnet: ', arrangemnet)\n",
    "\n",
    "#pval is greater than 0.05 \n",
    "#hence the data is homoscedacitic"
   ]
  },
  {
   "cell_type": "markdown",
   "metadata": {},
   "source": [
    "### 5. AUTO CORRELATION"
   ]
  },
  {
   "cell_type": "markdown",
   "metadata": {},
   "source": [
    "- ACCEPTABLE 1.5 - 2.5\n",
    "- NO AUTO CORRELATION = 2\n",
    "- -VE AUTO CORRELATION < 1.5\n",
    "- +VE AUTO CORRELATION > 2.5"
   ]
  },
  {
   "cell_type": "code",
   "execution_count": 42,
   "metadata": {
    "scrolled": true
   },
   "outputs": [
    {
     "data": {
      "text/html": [
       "<table class=\"simpletable\">\n",
       "<caption>OLS Regression Results</caption>\n",
       "<tr>\n",
       "  <th>Dep. Variable:</th>    <td>GDP ($ per capita)</td> <th>  R-squared:         </th> <td>   0.799</td>\n",
       "</tr>\n",
       "<tr>\n",
       "  <th>Model:</th>                    <td>OLS</td>        <th>  Adj. R-squared:    </th> <td>   0.786</td>\n",
       "</tr>\n",
       "<tr>\n",
       "  <th>Method:</th>              <td>Least Squares</td>   <th>  F-statistic:       </th> <td>   60.12</td>\n",
       "</tr>\n",
       "<tr>\n",
       "  <th>Date:</th>              <td>Tue, 09 Mar 2021</td>  <th>  Prob (F-statistic):</th> <td>9.60e-66</td>\n",
       "</tr>\n",
       "<tr>\n",
       "  <th>Time:</th>                  <td>10:28:27</td>      <th>  Log-Likelihood:    </th> <td> -2224.0</td>\n",
       "</tr>\n",
       "<tr>\n",
       "  <th>No. Observations:</th>       <td>   227</td>       <th>  AIC:               </th> <td>   4478.</td>\n",
       "</tr>\n",
       "<tr>\n",
       "  <th>Df Residuals:</th>           <td>   212</td>       <th>  BIC:               </th> <td>   4529.</td>\n",
       "</tr>\n",
       "<tr>\n",
       "  <th>Df Model:</th>               <td>    14</td>       <th>                     </th>     <td> </td>   \n",
       "</tr>\n",
       "<tr>\n",
       "  <th>Covariance Type:</th>       <td>nonrobust</td>     <th>                     </th>     <td> </td>   \n",
       "</tr>\n",
       "</table>\n",
       "<table class=\"simpletable\">\n",
       "<tr>\n",
       "                <td></td>                  <th>coef</th>     <th>std err</th>      <th>t</th>      <th>P>|t|</th>  <th>[0.025</th>    <th>0.975]</th>  \n",
       "</tr>\n",
       "<tr>\n",
       "  <th>const</th>                        <td> 9620.3348</td> <td>  298.964</td> <td>   32.179</td> <td> 0.000</td> <td> 9031.013</td> <td> 1.02e+04</td>\n",
       "</tr>\n",
       "<tr>\n",
       "  <th>Population</th>                   <td> 1.405e-06</td> <td> 3.84e-06</td> <td>    0.366</td> <td> 0.714</td> <td>-6.16e-06</td> <td> 8.97e-06</td>\n",
       "</tr>\n",
       "<tr>\n",
       "  <th>Area_sqm</th>                     <td>-2.966e-05</td> <td>    0.000</td> <td>   -0.262</td> <td> 0.794</td> <td>   -0.000</td> <td>    0.000</td>\n",
       "</tr>\n",
       "<tr>\n",
       "  <th>Pop_Density_per sqm</th>          <td>    0.0106</td> <td>    0.187</td> <td>    0.057</td> <td> 0.955</td> <td>   -0.357</td> <td>    0.379</td>\n",
       "</tr>\n",
       "<tr>\n",
       "  <th>Coastline (coast/area ratio)</th> <td>  -15.2505</td> <td>    3.771</td> <td>   -4.045</td> <td> 0.000</td> <td>  -22.683</td> <td>   -7.818</td>\n",
       "</tr>\n",
       "<tr>\n",
       "  <th>Net migration</th>                <td>  294.0734</td> <td>   45.252</td> <td>    6.499</td> <td> 0.000</td> <td>  204.871</td> <td>  383.276</td>\n",
       "</tr>\n",
       "<tr>\n",
       "  <th>Literacy (%)</th>                 <td>    8.7987</td> <td>   24.219</td> <td>    0.363</td> <td> 0.717</td> <td>  -38.943</td> <td>   56.540</td>\n",
       "</tr>\n",
       "<tr>\n",
       "  <th>Phones (per 1000)</th>            <td>   32.6500</td> <td>    2.370</td> <td>   13.778</td> <td> 0.000</td> <td>   27.979</td> <td>   37.321</td>\n",
       "</tr>\n",
       "<tr>\n",
       "  <th>Arable (%)</th>                   <td>  -41.8676</td> <td>   26.638</td> <td>   -1.572</td> <td> 0.118</td> <td>  -94.378</td> <td>   10.643</td>\n",
       "</tr>\n",
       "<tr>\n",
       "  <th>Crops (%)</th>                    <td>   -1.3818</td> <td>   23.463</td> <td>   -0.059</td> <td> 0.953</td> <td>  -47.632</td> <td>   44.869</td>\n",
       "</tr>\n",
       "<tr>\n",
       "  <th>Climate</th>                      <td> -128.6667</td> <td>  555.418</td> <td>   -0.232</td> <td> 0.817</td> <td>-1223.515</td> <td>  966.182</td>\n",
       "</tr>\n",
       "<tr>\n",
       "  <th>Birthrate</th>                    <td>  -75.7142</td> <td>   57.134</td> <td>   -1.325</td> <td> 0.187</td> <td> -188.337</td> <td>   36.909</td>\n",
       "</tr>\n",
       "<tr>\n",
       "  <th>Deathrate</th>                    <td>   50.4181</td> <td>   61.482</td> <td>    0.820</td> <td> 0.413</td> <td>  -70.776</td> <td>  171.612</td>\n",
       "</tr>\n",
       "<tr>\n",
       "  <th>Agriculture</th>                  <td>-5516.0947</td> <td> 3461.857</td> <td>   -1.593</td> <td> 0.113</td> <td>-1.23e+04</td> <td> 1307.978</td>\n",
       "</tr>\n",
       "<tr>\n",
       "  <th>Industry</th>                     <td> 2457.0810</td> <td> 2833.698</td> <td>    0.867</td> <td> 0.387</td> <td>-3128.753</td> <td> 8042.915</td>\n",
       "</tr>\n",
       "</table>\n",
       "<table class=\"simpletable\">\n",
       "<tr>\n",
       "  <th>Omnibus:</th>       <td> 9.500</td> <th>  Durbin-Watson:     </th> <td>   1.819</td>\n",
       "</tr>\n",
       "<tr>\n",
       "  <th>Prob(Omnibus):</th> <td> 0.009</td> <th>  Jarque-Bera (JB):  </th> <td>  15.039</td>\n",
       "</tr>\n",
       "<tr>\n",
       "  <th>Skew:</th>          <td> 0.225</td> <th>  Prob(JB):          </th> <td>0.000542</td>\n",
       "</tr>\n",
       "<tr>\n",
       "  <th>Kurtosis:</th>      <td> 4.178</td> <th>  Cond. No.          </th> <td>1.20e+09</td>\n",
       "</tr>\n",
       "</table><br/><br/>Warnings:<br/>[1] Standard Errors assume that the covariance matrix of the errors is correctly specified.<br/>[2] The condition number is large, 1.2e+09. This might indicate that there are<br/>strong multicollinearity or other numerical problems."
      ],
      "text/plain": [
       "<class 'statsmodels.iolib.summary.Summary'>\n",
       "\"\"\"\n",
       "                            OLS Regression Results                            \n",
       "==============================================================================\n",
       "Dep. Variable:     GDP ($ per capita)   R-squared:                       0.799\n",
       "Model:                            OLS   Adj. R-squared:                  0.786\n",
       "Method:                 Least Squares   F-statistic:                     60.12\n",
       "Date:                Tue, 09 Mar 2021   Prob (F-statistic):           9.60e-66\n",
       "Time:                        10:28:27   Log-Likelihood:                -2224.0\n",
       "No. Observations:                 227   AIC:                             4478.\n",
       "Df Residuals:                     212   BIC:                             4529.\n",
       "Df Model:                          14                                         \n",
       "Covariance Type:            nonrobust                                         \n",
       "================================================================================================\n",
       "                                   coef    std err          t      P>|t|      [0.025      0.975]\n",
       "------------------------------------------------------------------------------------------------\n",
       "const                         9620.3348    298.964     32.179      0.000    9031.013    1.02e+04\n",
       "Population                    1.405e-06   3.84e-06      0.366      0.714   -6.16e-06    8.97e-06\n",
       "Area_sqm                     -2.966e-05      0.000     -0.262      0.794      -0.000       0.000\n",
       "Pop_Density_per sqm              0.0106      0.187      0.057      0.955      -0.357       0.379\n",
       "Coastline (coast/area ratio)   -15.2505      3.771     -4.045      0.000     -22.683      -7.818\n",
       "Net migration                  294.0734     45.252      6.499      0.000     204.871     383.276\n",
       "Literacy (%)                     8.7987     24.219      0.363      0.717     -38.943      56.540\n",
       "Phones (per 1000)               32.6500      2.370     13.778      0.000      27.979      37.321\n",
       "Arable (%)                     -41.8676     26.638     -1.572      0.118     -94.378      10.643\n",
       "Crops (%)                       -1.3818     23.463     -0.059      0.953     -47.632      44.869\n",
       "Climate                       -128.6667    555.418     -0.232      0.817   -1223.515     966.182\n",
       "Birthrate                      -75.7142     57.134     -1.325      0.187    -188.337      36.909\n",
       "Deathrate                       50.4181     61.482      0.820      0.413     -70.776     171.612\n",
       "Agriculture                  -5516.0947   3461.857     -1.593      0.113   -1.23e+04    1307.978\n",
       "Industry                      2457.0810   2833.698      0.867      0.387   -3128.753    8042.915\n",
       "==============================================================================\n",
       "Omnibus:                        9.500   Durbin-Watson:                   1.819\n",
       "Prob(Omnibus):                  0.009   Jarque-Bera (JB):               15.039\n",
       "Skew:                           0.225   Prob(JB):                     0.000542\n",
       "Kurtosis:                       4.178   Cond. No.                     1.20e+09\n",
       "==============================================================================\n",
       "\n",
       "Warnings:\n",
       "[1] Standard Errors assume that the covariance matrix of the errors is correctly specified.\n",
       "[2] The condition number is large, 1.2e+09. This might indicate that there are\n",
       "strong multicollinearity or other numerical problems.\n",
       "\"\"\""
      ]
     },
     "execution_count": 42,
     "metadata": {},
     "output_type": "execute_result"
    }
   ],
   "source": [
    "xp_c = sm.add_constant(X_partial_sc4)\n",
    "\n",
    "ols_no_m = sm.OLS(y,xp_c).fit()\n",
    "ols_no_m.summary()"
   ]
  },
  {
   "cell_type": "markdown",
   "metadata": {},
   "source": [
    "## TRAIN TEST SPLIT"
   ]
  },
  {
   "cell_type": "code",
   "execution_count": 43,
   "metadata": {},
   "outputs": [],
   "source": [
    "from sklearn.model_selection import train_test_split"
   ]
  },
  {
   "cell_type": "code",
   "execution_count": 44,
   "metadata": {},
   "outputs": [
    {
     "name": "stdout",
     "output_type": "stream",
     "text": [
      "xtrain shape: (158, 14)\n",
      "ytrain shape: (158,)\n",
      "xtest shape: (69, 14)\n",
      "ytest shape: (69,)\n"
     ]
    }
   ],
   "source": [
    "xtrain, xtest, ytrain, ytest = train_test_split(X_partial_sc4, y, random_state = 48, test_size = 0.3)\n",
    "\n",
    "print('xtrain shape:', xtrain.shape)\n",
    "print('ytrain shape:', ytrain.shape)\n",
    "print('xtest shape:', xtest.shape)\n",
    "print('ytest shape:', ytest.shape)"
   ]
  },
  {
   "cell_type": "code",
   "execution_count": 45,
   "metadata": {},
   "outputs": [],
   "source": [
    "from sklearn.linear_model import LinearRegression\n",
    "lr = LinearRegression()\n",
    "\n",
    "lr.fit(xtrain,ytrain)\n",
    "ypred_train = lr.predict(xtrain)\n",
    "ypred_test = lr.predict(xtest)"
   ]
  },
  {
   "cell_type": "code",
   "execution_count": 46,
   "metadata": {},
   "outputs": [],
   "source": [
    "from sklearn.metrics import r2_score, mean_squared_error"
   ]
  },
  {
   "cell_type": "code",
   "execution_count": 47,
   "metadata": {},
   "outputs": [],
   "source": [
    "from statsmodels.tools.eval_measures import rmse"
   ]
  },
  {
   "cell_type": "code",
   "execution_count": 48,
   "metadata": {},
   "outputs": [
    {
     "data": {
      "text/plain": [
       "0.8100429697509695"
      ]
     },
     "execution_count": 48,
     "metadata": {},
     "output_type": "execute_result"
    }
   ],
   "source": [
    "r2_train_lr = r2_score(ytrain, ypred_train)\n",
    "r2_train_lr"
   ]
  },
  {
   "cell_type": "code",
   "execution_count": 49,
   "metadata": {},
   "outputs": [
    {
     "data": {
      "text/plain": [
       "0.7279555483928396"
      ]
     },
     "execution_count": 49,
     "metadata": {},
     "output_type": "execute_result"
    }
   ],
   "source": [
    "r2_test_lr = r2_score(ytest, ypred_test)\n",
    "r2_test_lr"
   ]
  },
  {
   "cell_type": "markdown",
   "metadata": {},
   "source": [
    "## FEATURE ENGINEERING"
   ]
  },
  {
   "cell_type": "code",
   "execution_count": 50,
   "metadata": {},
   "outputs": [],
   "source": [
    "#! pip install mlxtend\n",
    "from mlxtend.feature_selection import SequentialFeatureSelector as sfs"
   ]
  },
  {
   "cell_type": "markdown",
   "metadata": {},
   "source": [
    "### Backward Elimination"
   ]
  },
  {
   "cell_type": "code",
   "execution_count": 51,
   "metadata": {},
   "outputs": [
    {
     "data": {
      "text/plain": [
       "('Coastline (coast/area ratio)',\n",
       " 'Net migration',\n",
       " 'Phones (per 1000)',\n",
       " 'Arable (%)',\n",
       " 'Birthrate',\n",
       " 'Agriculture')"
      ]
     },
     "execution_count": 51,
     "metadata": {},
     "output_type": "execute_result"
    }
   ],
   "source": [
    "lr = LinearRegression()\n",
    "lr_backward = sfs(estimator=lr, k_features=6,scoring='r2', forward = False)\n",
    "y = df_1['GDP ($ per capita)']\n",
    "sfs_backward = lr_backward.fit(X_partial_sc4, y)\n",
    "sfs_backward.k_feature_names_"
   ]
  },
  {
   "cell_type": "code",
   "execution_count": 52,
   "metadata": {
    "scrolled": true
   },
   "outputs": [
    {
     "data": {
      "text/plain": [
       "0.7737304006688333"
      ]
     },
     "execution_count": 52,
     "metadata": {},
     "output_type": "execute_result"
    }
   ],
   "source": [
    "sfs_backward.k_score_"
   ]
  },
  {
   "cell_type": "code",
   "execution_count": 53,
   "metadata": {},
   "outputs": [
    {
     "data": {
      "text/plain": [
       "('Coastline (coast/area ratio)',\n",
       " 'Net migration',\n",
       " 'Phones (per 1000)',\n",
       " 'Arable (%)',\n",
       " 'Birthrate',\n",
       " 'Agriculture')"
      ]
     },
     "execution_count": 53,
     "metadata": {},
     "output_type": "execute_result"
    }
   ],
   "source": [
    "lr_backward = sfs(estimator=lr, k_features=(4,10),scoring='r2', forward = False)\n",
    "y = df_1['GDP ($ per capita)']\n",
    "sfs_backward = lr_backward.fit(X_partial_sc4, y)\n",
    "sfs_backward.k_feature_names_"
   ]
  },
  {
   "cell_type": "code",
   "execution_count": 54,
   "metadata": {},
   "outputs": [
    {
     "data": {
      "text/plain": [
       "0.7737304006688333"
      ]
     },
     "execution_count": 54,
     "metadata": {},
     "output_type": "execute_result"
    }
   ],
   "source": [
    "sfs_backward.k_score_"
   ]
  },
  {
   "cell_type": "code",
   "execution_count": 55,
   "metadata": {},
   "outputs": [
    {
     "data": {
      "text/plain": [
       "('Coastline (coast/area ratio)',\n",
       " 'Net migration',\n",
       " 'Phones (per 1000)',\n",
       " 'Arable (%)',\n",
       " 'Birthrate',\n",
       " 'Agriculture')"
      ]
     },
     "execution_count": 55,
     "metadata": {},
     "output_type": "execute_result"
    }
   ],
   "source": [
    "lr_backward = sfs(estimator=lr, k_features='best',scoring='r2', forward = False)\n",
    "y = df_1['GDP ($ per capita)']\n",
    "sfs_backward = lr_backward.fit(X_partial_sc4, y)\n",
    "sfs_backward.k_feature_names_"
   ]
  },
  {
   "cell_type": "code",
   "execution_count": 56,
   "metadata": {},
   "outputs": [
    {
     "data": {
      "text/plain": [
       "0.7737304006688333"
      ]
     },
     "execution_count": 56,
     "metadata": {},
     "output_type": "execute_result"
    }
   ],
   "source": [
    "sfs_backward.k_score_"
   ]
  },
  {
   "cell_type": "code",
   "execution_count": 57,
   "metadata": {},
   "outputs": [
    {
     "data": {
      "text/plain": [
       "['Coastline (coast/area ratio)',\n",
       " 'Net migration',\n",
       " 'Phones (per 1000)',\n",
       " 'Arable (%)',\n",
       " 'Birthrate',\n",
       " 'Agriculture']"
      ]
     },
     "execution_count": 57,
     "metadata": {},
     "output_type": "execute_result"
    }
   ],
   "source": [
    "feature_backward = list(sfs_backward.k_feature_names_)\n",
    "feature_backward"
   ]
  },
  {
   "cell_type": "markdown",
   "metadata": {},
   "source": [
    "### Forward Selection"
   ]
  },
  {
   "cell_type": "code",
   "execution_count": 58,
   "metadata": {},
   "outputs": [
    {
     "data": {
      "text/plain": [
       "('Coastline (coast/area ratio)',\n",
       " 'Net migration',\n",
       " 'Phones (per 1000)',\n",
       " 'Arable (%)',\n",
       " 'Birthrate',\n",
       " 'Agriculture')"
      ]
     },
     "execution_count": 58,
     "metadata": {},
     "output_type": "execute_result"
    }
   ],
   "source": [
    "lr = LinearRegression()\n",
    "lr_forward = sfs(estimator=lr, k_features='best',scoring='r2', forward = True)\n",
    "y = df_1['GDP ($ per capita)']\n",
    "sfs_forward = lr_backward.fit(X_partial_sc4, y)\n",
    "sfs_forward.k_feature_names_"
   ]
  },
  {
   "cell_type": "code",
   "execution_count": 59,
   "metadata": {
    "scrolled": true
   },
   "outputs": [
    {
     "data": {
      "text/plain": [
       "0.7737304006688333"
      ]
     },
     "execution_count": 59,
     "metadata": {},
     "output_type": "execute_result"
    }
   ],
   "source": [
    "sfs_forward.k_score_"
   ]
  },
  {
   "cell_type": "code",
   "execution_count": 60,
   "metadata": {},
   "outputs": [
    {
     "data": {
      "text/plain": [
       "['Coastline (coast/area ratio)',\n",
       " 'Net migration',\n",
       " 'Phones (per 1000)',\n",
       " 'Arable (%)',\n",
       " 'Birthrate',\n",
       " 'Agriculture']"
      ]
     },
     "execution_count": 60,
     "metadata": {},
     "output_type": "execute_result"
    }
   ],
   "source": [
    "feature_forward = list(sfs_forward.k_feature_names_)\n",
    "feature_forward"
   ]
  },
  {
   "cell_type": "markdown",
   "metadata": {},
   "source": [
    "### Recursive"
   ]
  },
  {
   "cell_type": "code",
   "execution_count": 61,
   "metadata": {},
   "outputs": [],
   "source": [
    "from sklearn.feature_selection import RFE, RFECV"
   ]
  },
  {
   "cell_type": "code",
   "execution_count": 62,
   "metadata": {},
   "outputs": [
    {
     "name": "stderr",
     "output_type": "stream",
     "text": [
      "C:\\Users\\dell\\Anaconda3\\lib\\site-packages\\sklearn\\model_selection\\_split.py:1978: FutureWarning: The default value of cv will change from 3 to 5 in version 0.22. Specify it explicitly to silence this warning.\n",
      "  warnings.warn(CV_WARNING, FutureWarning)\n"
     ]
    }
   ],
   "source": [
    "lr = LinearRegression()\n",
    "y = df_1['GDP ($ per capita)']\n",
    "rfe = RFECV(estimator=lr)\n",
    "rfecv_model = rfe.fit(X_partial_sc4,y)"
   ]
  },
  {
   "cell_type": "code",
   "execution_count": 63,
   "metadata": {},
   "outputs": [
    {
     "data": {
      "text/plain": [
       "array([6, 5, 4, 1, 1, 2, 1, 1, 3, 1, 1, 1, 1, 1])"
      ]
     },
     "execution_count": 63,
     "metadata": {},
     "output_type": "execute_result"
    }
   ],
   "source": [
    "rfecv_model.ranking_"
   ]
  },
  {
   "cell_type": "code",
   "execution_count": 64,
   "metadata": {
    "scrolled": true
   },
   "outputs": [
    {
     "data": {
      "text/html": [
       "<div>\n",
       "<style scoped>\n",
       "    .dataframe tbody tr th:only-of-type {\n",
       "        vertical-align: middle;\n",
       "    }\n",
       "\n",
       "    .dataframe tbody tr th {\n",
       "        vertical-align: top;\n",
       "    }\n",
       "\n",
       "    .dataframe thead th {\n",
       "        text-align: right;\n",
       "    }\n",
       "</style>\n",
       "<table border=\"1\" class=\"dataframe\">\n",
       "  <thead>\n",
       "    <tr style=\"text-align: right;\">\n",
       "      <th></th>\n",
       "      <th>Feature</th>\n",
       "      <th>Rank</th>\n",
       "    </tr>\n",
       "  </thead>\n",
       "  <tbody>\n",
       "    <tr>\n",
       "      <td>3</td>\n",
       "      <td>Coastline (coast/area ratio)</td>\n",
       "      <td>1</td>\n",
       "    </tr>\n",
       "    <tr>\n",
       "      <td>4</td>\n",
       "      <td>Net migration</td>\n",
       "      <td>1</td>\n",
       "    </tr>\n",
       "    <tr>\n",
       "      <td>6</td>\n",
       "      <td>Phones (per 1000)</td>\n",
       "      <td>1</td>\n",
       "    </tr>\n",
       "    <tr>\n",
       "      <td>7</td>\n",
       "      <td>Arable (%)</td>\n",
       "      <td>1</td>\n",
       "    </tr>\n",
       "    <tr>\n",
       "      <td>9</td>\n",
       "      <td>Climate</td>\n",
       "      <td>1</td>\n",
       "    </tr>\n",
       "    <tr>\n",
       "      <td>10</td>\n",
       "      <td>Birthrate</td>\n",
       "      <td>1</td>\n",
       "    </tr>\n",
       "    <tr>\n",
       "      <td>11</td>\n",
       "      <td>Deathrate</td>\n",
       "      <td>1</td>\n",
       "    </tr>\n",
       "    <tr>\n",
       "      <td>12</td>\n",
       "      <td>Agriculture</td>\n",
       "      <td>1</td>\n",
       "    </tr>\n",
       "    <tr>\n",
       "      <td>13</td>\n",
       "      <td>Industry</td>\n",
       "      <td>1</td>\n",
       "    </tr>\n",
       "    <tr>\n",
       "      <td>5</td>\n",
       "      <td>Literacy (%)</td>\n",
       "      <td>2</td>\n",
       "    </tr>\n",
       "    <tr>\n",
       "      <td>8</td>\n",
       "      <td>Crops (%)</td>\n",
       "      <td>3</td>\n",
       "    </tr>\n",
       "    <tr>\n",
       "      <td>2</td>\n",
       "      <td>Pop_Density_per sqm</td>\n",
       "      <td>4</td>\n",
       "    </tr>\n",
       "    <tr>\n",
       "      <td>1</td>\n",
       "      <td>Area_sqm</td>\n",
       "      <td>5</td>\n",
       "    </tr>\n",
       "    <tr>\n",
       "      <td>0</td>\n",
       "      <td>Population</td>\n",
       "      <td>6</td>\n",
       "    </tr>\n",
       "  </tbody>\n",
       "</table>\n",
       "</div>"
      ],
      "text/plain": [
       "                         Feature  Rank\n",
       "3   Coastline (coast/area ratio)     1\n",
       "4                  Net migration     1\n",
       "6              Phones (per 1000)     1\n",
       "7                     Arable (%)     1\n",
       "9                        Climate     1\n",
       "10                     Birthrate     1\n",
       "11                     Deathrate     1\n",
       "12                   Agriculture     1\n",
       "13                      Industry     1\n",
       "5                   Literacy (%)     2\n",
       "8                      Crops (%)     3\n",
       "2            Pop_Density_per sqm     4\n",
       "1                       Area_sqm     5\n",
       "0                     Population     6"
      ]
     },
     "execution_count": 64,
     "metadata": {},
     "output_type": "execute_result"
    }
   ],
   "source": [
    "rank = pd.DataFrame()\n",
    "rank['Feature'] = X_partial_sc4.columns\n",
    "rank['Rank'] = rfecv_model.ranking_\n",
    "rank.sort_values('Rank')"
   ]
  },
  {
   "cell_type": "code",
   "execution_count": 65,
   "metadata": {},
   "outputs": [
    {
     "data": {
      "text/plain": [
       "3     Coastline (coast/area ratio)\n",
       "4                    Net migration\n",
       "5                     Literacy (%)\n",
       "6                Phones (per 1000)\n",
       "7                       Arable (%)\n",
       "8                        Crops (%)\n",
       "9                          Climate\n",
       "10                       Birthrate\n",
       "11                       Deathrate\n",
       "12                     Agriculture\n",
       "13                        Industry\n",
       "Name: Feature, dtype: object"
      ]
     },
     "execution_count": 65,
     "metadata": {},
     "output_type": "execute_result"
    }
   ],
   "source": [
    "feature_rfecv = rank[rank['Rank']<4]['Feature']\n",
    "# should be ==1 to be in alignment with class I used < 4\n",
    "feature_rfecv"
   ]
  },
  {
   "cell_type": "code",
   "execution_count": 66,
   "metadata": {
    "scrolled": true
   },
   "outputs": [
    {
     "data": {
      "text/plain": [
       "['Coastline (coast/area ratio)',\n",
       " 'Net migration',\n",
       " 'Literacy (%)',\n",
       " 'Phones (per 1000)',\n",
       " 'Arable (%)',\n",
       " 'Crops (%)',\n",
       " 'Climate',\n",
       " 'Birthrate',\n",
       " 'Deathrate',\n",
       " 'Agriculture',\n",
       " 'Industry']"
      ]
     },
     "execution_count": 66,
     "metadata": {},
     "output_type": "execute_result"
    }
   ],
   "source": [
    "feature_rfecv = list(feature_rfecv)\n",
    "feature_rfecv"
   ]
  },
  {
   "cell_type": "markdown",
   "metadata": {},
   "source": [
    "## building model"
   ]
  },
  {
   "cell_type": "code",
   "execution_count": 67,
   "metadata": {},
   "outputs": [],
   "source": [
    "from sklearn.metrics import r2_score, mean_squared_error"
   ]
  },
  {
   "cell_type": "code",
   "execution_count": 68,
   "metadata": {},
   "outputs": [],
   "source": [
    "xtrain, xtest, ytrain, ytest = train_test_split(X_partial_sc4, y, test_size = 0.3, random_state = 48)"
   ]
  },
  {
   "cell_type": "code",
   "execution_count": 69,
   "metadata": {},
   "outputs": [
    {
     "name": "stdout",
     "output_type": "stream",
     "text": [
      "R2 train & R2 test:  0.8087081833017111 0.7299176337596316\n",
      "MSE train & MSE test:  19618576.739286043 20092496.50345691\n",
      "RMSE train & RMSE test:  4429.286256191402 4482.465449220653\n"
     ]
    }
   ],
   "source": [
    "### BACKWARD\n",
    "\n",
    "lr = LinearRegression()\n",
    "lr.fit(xtrain[feature_backward], ytrain)\n",
    "ypred_train = lr.predict(xtrain[feature_backward])\n",
    "ypred_test = lr.predict(xtest[feature_backward])\n",
    "\n",
    "r2_train = r2_score(ytrain, ypred_train)\n",
    "r2_test = r2_score(ytest, ypred_test)\n",
    "\n",
    "print('R2 train & R2 test: ', r2_train, r2_test)\n",
    "\n",
    "mse_train = mean_squared_error(ytrain, ypred_train)\n",
    "mse_test = mean_squared_error(ytest, ypred_test)\n",
    "\n",
    "print('MSE train & MSE test: ', mse_train, mse_test)\n",
    "\n",
    "rmse_train = np.sqrt(mse_train)\n",
    "rmse_test = np.sqrt(mse_test)\n",
    "\n",
    "print('RMSE train & RMSE test: ', rmse_train, rmse_test)\n"
   ]
  },
  {
   "cell_type": "code",
   "execution_count": 70,
   "metadata": {},
   "outputs": [
    {
     "data": {
      "text/plain": [
       "(0.8087081833017111, 0.7299176337596316, 4429.286256191402, 4482.465449220653)"
      ]
     },
     "execution_count": 70,
     "metadata": {},
     "output_type": "execute_result"
    }
   ],
   "source": [
    "result_backward = (r2_train,r2_test,rmse_train,rmse_test)\n",
    "result_backward"
   ]
  },
  {
   "cell_type": "code",
   "execution_count": 71,
   "metadata": {},
   "outputs": [
    {
     "name": "stdout",
     "output_type": "stream",
     "text": [
      "R2 train & R2 test:  0.8087081833017111 0.7299176337596316\n",
      "MSE train & MSE test:  19618576.739286043 20092496.50345691\n",
      "RMSE train & RMSE test:  4429.286256191402 4482.465449220653\n"
     ]
    }
   ],
   "source": [
    "### FORWARD\n",
    "\n",
    "lr = LinearRegression()\n",
    "lr.fit(xtrain[feature_forward], ytrain)\n",
    "ypred_train = lr.predict(xtrain[feature_forward])\n",
    "ypred_test = lr.predict(xtest[feature_forward])\n",
    "\n",
    "r2_train = r2_score(ytrain, ypred_train)\n",
    "r2_test = r2_score(ytest, ypred_test)\n",
    "\n",
    "print('R2 train & R2 test: ', r2_train, r2_test)\n",
    "\n",
    "mse_train = mean_squared_error(ytrain, ypred_train)\n",
    "mse_test = mean_squared_error(ytest, ypred_test)\n",
    "\n",
    "print('MSE train & MSE test: ', mse_train, mse_test)\n",
    "\n",
    "rmse_train = np.sqrt(mse_train)\n",
    "rmse_test = np.sqrt(mse_test)\n",
    "\n",
    "print('RMSE train & RMSE test: ', rmse_train, rmse_test)\n"
   ]
  },
  {
   "cell_type": "code",
   "execution_count": 72,
   "metadata": {},
   "outputs": [
    {
     "data": {
      "text/plain": [
       "(0.8087081833017111, 0.7299176337596316, 4429.286256191402, 4482.465449220653)"
      ]
     },
     "execution_count": 72,
     "metadata": {},
     "output_type": "execute_result"
    }
   ],
   "source": [
    "result_forward = (r2_train,r2_test,rmse_train,rmse_test)\n",
    "result_forward"
   ]
  },
  {
   "cell_type": "code",
   "execution_count": 73,
   "metadata": {},
   "outputs": [
    {
     "name": "stdout",
     "output_type": "stream",
     "text": [
      "R2 train & R2 test:  0.8098124085472707 0.728759598655256\n",
      "MSE train & MSE test:  19505329.199002434 20178647.31962993\n",
      "RMSE train & RMSE test:  4416.4838049066175 4492.064928251809\n"
     ]
    }
   ],
   "source": [
    "### RECURSIVE CV\n",
    "\n",
    "lr = LinearRegression()\n",
    "lr.fit(xtrain[feature_rfecv], ytrain)\n",
    "ypred_train = lr.predict(xtrain[feature_rfecv])\n",
    "ypred_test = lr.predict(xtest[feature_rfecv])\n",
    "\n",
    "r2_train = r2_score(ytrain, ypred_train)\n",
    "r2_test = r2_score(ytest, ypred_test)\n",
    "\n",
    "print('R2 train & R2 test: ', r2_train, r2_test)\n",
    "\n",
    "mse_train = mean_squared_error(ytrain, ypred_train)\n",
    "mse_test = mean_squared_error(ytest, ypred_test)\n",
    "\n",
    "print('MSE train & MSE test: ', mse_train, mse_test)\n",
    "\n",
    "rmse_train = np.sqrt(mse_train)\n",
    "rmse_test = np.sqrt(mse_test)\n",
    "\n",
    "print('RMSE train & RMSE test: ', rmse_train, rmse_test)\n"
   ]
  },
  {
   "cell_type": "code",
   "execution_count": 74,
   "metadata": {},
   "outputs": [
    {
     "data": {
      "text/plain": [
       "(0.8098124085472707, 0.728759598655256, 4416.4838049066175, 4492.064928251809)"
      ]
     },
     "execution_count": 74,
     "metadata": {},
     "output_type": "execute_result"
    }
   ],
   "source": [
    "result_rfecv = (r2_train,r2_test,rmse_train,rmse_test)\n",
    "result_rfecv"
   ]
  },
  {
   "cell_type": "code",
   "execution_count": 75,
   "metadata": {},
   "outputs": [],
   "source": [
    "result_feature  =pd.DataFrame()\n",
    "result_feature['Backward'] = result_backward\n",
    "result_feature['Forward'] = result_forward\n",
    "result_feature['RFECV'] = result_rfecv\n",
    "\n",
    "result_feature.index = ['R2 Train','R2 Test', 'RMSE Train','RMSE  Test']"
   ]
  },
  {
   "cell_type": "code",
   "execution_count": 76,
   "metadata": {},
   "outputs": [
    {
     "data": {
      "text/html": [
       "<div>\n",
       "<style scoped>\n",
       "    .dataframe tbody tr th:only-of-type {\n",
       "        vertical-align: middle;\n",
       "    }\n",
       "\n",
       "    .dataframe tbody tr th {\n",
       "        vertical-align: top;\n",
       "    }\n",
       "\n",
       "    .dataframe thead th {\n",
       "        text-align: right;\n",
       "    }\n",
       "</style>\n",
       "<table border=\"1\" class=\"dataframe\">\n",
       "  <thead>\n",
       "    <tr style=\"text-align: right;\">\n",
       "      <th></th>\n",
       "      <th>Backward</th>\n",
       "      <th>Forward</th>\n",
       "      <th>RFECV</th>\n",
       "    </tr>\n",
       "  </thead>\n",
       "  <tbody>\n",
       "    <tr>\n",
       "      <td>R2 Train</td>\n",
       "      <td>0.808708</td>\n",
       "      <td>0.808708</td>\n",
       "      <td>0.809812</td>\n",
       "    </tr>\n",
       "    <tr>\n",
       "      <td>R2 Test</td>\n",
       "      <td>0.729918</td>\n",
       "      <td>0.729918</td>\n",
       "      <td>0.728760</td>\n",
       "    </tr>\n",
       "    <tr>\n",
       "      <td>RMSE Train</td>\n",
       "      <td>4429.286256</td>\n",
       "      <td>4429.286256</td>\n",
       "      <td>4416.483805</td>\n",
       "    </tr>\n",
       "    <tr>\n",
       "      <td>RMSE  Test</td>\n",
       "      <td>4482.465449</td>\n",
       "      <td>4482.465449</td>\n",
       "      <td>4492.064928</td>\n",
       "    </tr>\n",
       "  </tbody>\n",
       "</table>\n",
       "</div>"
      ],
      "text/plain": [
       "               Backward      Forward        RFECV\n",
       "R2 Train       0.808708     0.808708     0.809812\n",
       "R2 Test        0.729918     0.729918     0.728760\n",
       "RMSE Train  4429.286256  4429.286256  4416.483805\n",
       "RMSE  Test  4482.465449  4482.465449  4492.064928"
      ]
     },
     "execution_count": 76,
     "metadata": {},
     "output_type": "execute_result"
    }
   ],
   "source": [
    "result_feature"
   ]
  },
  {
   "cell_type": "code",
   "execution_count": 77,
   "metadata": {},
   "outputs": [],
   "source": [
    "# with 6 features backward and forward perform better so we proceed with either one of them\n",
    "#RMSE is also similar\n",
    "# RFECV we have 11 features"
   ]
  },
  {
   "cell_type": "markdown",
   "metadata": {},
   "source": [
    "## CROSS VALIDATION"
   ]
  },
  {
   "cell_type": "code",
   "execution_count": 78,
   "metadata": {},
   "outputs": [],
   "source": [
    "from sklearn.model_selection import cross_val_score"
   ]
  },
  {
   "cell_type": "code",
   "execution_count": 87,
   "metadata": {},
   "outputs": [],
   "source": [
    "lr = LinearRegression()\n",
    "cv_score = cross_val_score(lr, X_partial_sc4, y, cv = 5, scoring = 'r2')\n",
    "\n",
    "avg_score = np.mean(cv_score)\n",
    "var_error = np.std(cv_score)\n",
    "\n",
    "coeff_var = var_error/avg_score"
   ]
  },
  {
   "cell_type": "code",
   "execution_count": 88,
   "metadata": {},
   "outputs": [
    {
     "data": {
      "text/plain": [
       "(0.7535360846057294, 0.11345166875800274, 0.15055903901053888)"
      ]
     },
     "execution_count": 88,
     "metadata": {},
     "output_type": "execute_result"
    }
   ],
   "source": [
    "avg_score, var_error, coeff_var"
   ]
  },
  {
   "cell_type": "code",
   "execution_count": 84,
   "metadata": {},
   "outputs": [
    {
     "data": {
      "text/plain": [
       "['Coastline (coast/area ratio)',\n",
       " 'Net migration',\n",
       " 'Phones (per 1000)',\n",
       " 'Arable (%)',\n",
       " 'Birthrate',\n",
       " 'Agriculture']"
      ]
     },
     "execution_count": 84,
     "metadata": {},
     "output_type": "execute_result"
    }
   ],
   "source": [
    "feature_backward"
   ]
  },
  {
   "cell_type": "code",
   "execution_count": 89,
   "metadata": {},
   "outputs": [
    {
     "data": {
      "text/plain": [
       "(0.7737304006688333, 0.10445033994791436, 0.134995781292327)"
      ]
     },
     "execution_count": 89,
     "metadata": {},
     "output_type": "execute_result"
    }
   ],
   "source": [
    "## features backward\n",
    "\n",
    "lr = LinearRegression()\n",
    "cv_score = cross_val_score(lr, X_partial_sc4[feature_backward], y, cv = 5, scoring = 'r2')\n",
    "\n",
    "avg_score = np.mean(cv_score)\n",
    "var_error = np.std(cv_score)\n",
    "\n",
    "coeff_var = var_error/avg_score\n",
    "\n",
    "avg_score, var_error, coeff_var"
   ]
  },
  {
   "cell_type": "code",
   "execution_count": 91,
   "metadata": {},
   "outputs": [
    {
     "data": {
      "text/plain": [
       "(4434.862920643043, 966.1786176772686, 0.21785986060132276)"
      ]
     },
     "execution_count": 91,
     "metadata": {},
     "output_type": "execute_result"
    }
   ],
   "source": [
    "\n",
    "lr = LinearRegression()\n",
    "cv_score = cross_val_score(lr, X_partial_sc4[feature_backward], y, cv = 5, scoring = 'neg_mean_squared_error')\n",
    "rmse = np.sqrt(abs(cv_score))\n",
    "avg_score = np.mean(rmse)\n",
    "var_error = np.std(rmse)\n",
    "\n",
    "coeff_var = var_error/avg_score\n",
    "\n",
    "avg_score, var_error, coeff_var"
   ]
  },
  {
   "cell_type": "code",
   "execution_count": 92,
   "metadata": {},
   "outputs": [],
   "source": [
    "#both for first model and second the coeff is high for both\n",
    "# so we regularize"
   ]
  },
  {
   "cell_type": "markdown",
   "metadata": {},
   "source": [
    "## REGULARISATION"
   ]
  },
  {
   "cell_type": "code",
   "execution_count": 93,
   "metadata": {},
   "outputs": [],
   "source": [
    "from sklearn.linear_model import Ridge,Lasso,ElasticNet"
   ]
  },
  {
   "cell_type": "code",
   "execution_count": 179,
   "metadata": {},
   "outputs": [],
   "source": [
    "lr = LinearRegression()\n",
    "cv_score = cross_val_score(lr, X_partial_sc4[feature_backward], y, cv = 5, scoring = 'neg_mean_squared_error')\n",
    "rmse = np.sqrt(abs(cv_score))\n",
    "avg_score = np.mean(rmse)\n",
    "var_error = np.std(rmse)\n",
    "\n",
    "coeff_var = var_error/avg_score\n",
    "\n",
    "result_lr = avg_score, var_error, coeff_var"
   ]
  },
  {
   "cell_type": "markdown",
   "metadata": {},
   "source": [
    "### RIDGE"
   ]
  },
  {
   "cell_type": "code",
   "execution_count": 190,
   "metadata": {},
   "outputs": [],
   "source": [
    "ridge_model = Ridge(normalize=True)\n",
    "cv_score = cross_val_score(ridge_model, X_partial_sc4, y, cv = 5, scoring = 'neg_mean_squared_error')\n",
    "rmse = np.sqrt(abs(cv_score))\n",
    "avg_score = np.mean(rmse)\n",
    "var_error = np.std(rmse)\n",
    "\n",
    "coeff_var = var_error/avg_score\n",
    "\n",
    "result_ridge=avg_score, var_error, coeff_var"
   ]
  },
  {
   "cell_type": "code",
   "execution_count": 191,
   "metadata": {},
   "outputs": [],
   "source": [
    "ridge_model = Ridge(alpha=0.57\n",
    "                    ,normalize=True)\n",
    "cv_score = cross_val_score(ridge_model, X_partial_sc4, y, cv = 5, scoring = 'neg_mean_squared_error')\n",
    "rmse = np.sqrt(abs(cv_score))\n",
    "avg_score = np.mean(rmse)\n",
    "var_error = np.std(rmse)\n",
    "\n",
    "coeff_var = var_error/avg_score\n",
    "\n",
    "result_ridge_5=avg_score, var_error, coeff_var"
   ]
  },
  {
   "cell_type": "code",
   "execution_count": 108,
   "metadata": {},
   "outputs": [],
   "source": [
    "#for alpha 0.5 the permissable error given by client 5300 is statisfied"
   ]
  },
  {
   "cell_type": "markdown",
   "metadata": {},
   "source": [
    "### LASSO"
   ]
  },
  {
   "cell_type": "code",
   "execution_count": 188,
   "metadata": {},
   "outputs": [],
   "source": [
    "lasso_model = Lasso(normalize=True)\n",
    "cv_score = cross_val_score(lasso_model, X_partial_sc4, y, cv = 5, scoring = 'neg_mean_squared_error')\n",
    "rmse = np.sqrt(abs(cv_score))\n",
    "avg_score = np.mean(rmse)\n",
    "var_error = np.std(rmse)\n",
    "\n",
    "coeff_var = var_error/avg_score\n",
    "\n",
    "result_lasso=avg_score, var_error, coeff_var"
   ]
  },
  {
   "cell_type": "code",
   "execution_count": 187,
   "metadata": {},
   "outputs": [],
   "source": [
    "lasso_model = Lasso(alpha=126.8,normalize=True)\n",
    "cv_score = cross_val_score(lasso_model, X_partial_sc4, y, cv = 5, scoring = 'neg_mean_squared_error')\n",
    "rmse = np.sqrt(abs(cv_score))\n",
    "avg_score = np.mean(rmse)\n",
    "var_error = np.std(rmse)\n",
    "\n",
    "coeff_var = var_error/avg_score\n",
    "\n",
    "result_lasso_126= avg_score, var_error, coeff_var"
   ]
  },
  {
   "cell_type": "markdown",
   "metadata": {},
   "source": [
    "### ELASTIC NET"
   ]
  },
  {
   "cell_type": "code",
   "execution_count": 186,
   "metadata": {},
   "outputs": [],
   "source": [
    "en_model = ElasticNet(normalize=True)\n",
    "cv_score = cross_val_score(en_model, X_partial_sc4, y, cv = 5, scoring = 'neg_mean_squared_error')\n",
    "rmse = np.sqrt(abs(cv_score))\n",
    "avg_score = np.mean(rmse)\n",
    "var_error = np.std(rmse)\n",
    "\n",
    "coeff_var = var_error/avg_score\n",
    "\n",
    "result_en=avg_score, var_error, coeff_var"
   ]
  },
  {
   "cell_type": "code",
   "execution_count": 185,
   "metadata": {},
   "outputs": [],
   "source": [
    "en_model = ElasticNet(alpha=0.00632,normalize=True)\n",
    "cv_score = cross_val_score(en_model, X_partial_sc4, y, cv = 5, scoring = 'neg_mean_squared_error')\n",
    "rmse = np.sqrt(abs(cv_score))\n",
    "avg_score = np.mean(rmse)\n",
    "var_error = np.std(rmse)\n",
    "\n",
    "coeff_var = var_error/avg_score\n",
    "\n",
    "result_en_6=avg_score, var_error, coeff_var"
   ]
  },
  {
   "cell_type": "code",
   "execution_count": 203,
   "metadata": {},
   "outputs": [],
   "source": [
    "score_card = pd.DataFrame()\n",
    "score_card['Linear'] = result_lr\n",
    "score_card['Ridge alpha = 1'] = result_ridge\n",
    "score_card['Ridge alpha = 0.5'] = result_ridge_5\n",
    "score_card['Lasso alpha = 1']= result_lasso\n",
    "score_card['Lasso alpha = 126.8']= result_lasso_126\n",
    "score_card['Elastic Net alpha = 1'] = result_en\n",
    "score_card['Elastic Net alpha = 0.00632'] = result_en_6\n",
    "\n",
    "score_card.index = ['Model Bias Error','Variance Error','Coeff of Variance Error']"
   ]
  },
  {
   "cell_type": "code",
   "execution_count": 204,
   "metadata": {},
   "outputs": [
    {
     "data": {
      "text/html": [
       "<div>\n",
       "<style scoped>\n",
       "    .dataframe tbody tr th:only-of-type {\n",
       "        vertical-align: middle;\n",
       "    }\n",
       "\n",
       "    .dataframe tbody tr th {\n",
       "        vertical-align: top;\n",
       "    }\n",
       "\n",
       "    .dataframe thead th {\n",
       "        text-align: right;\n",
       "    }\n",
       "</style>\n",
       "<table border=\"1\" class=\"dataframe\">\n",
       "  <thead>\n",
       "    <tr style=\"text-align: right;\">\n",
       "      <th></th>\n",
       "      <th>Linear</th>\n",
       "      <th>Ridge alpha = 1</th>\n",
       "      <th>Ridge alpha = 0.5</th>\n",
       "      <th>Lasso alpha = 1</th>\n",
       "      <th>Lasso alpha = 126.8</th>\n",
       "      <th>Elastic Net alpha = 1</th>\n",
       "      <th>Elastic Net alpha = 0.00632</th>\n",
       "    </tr>\n",
       "  </thead>\n",
       "  <tbody>\n",
       "    <tr>\n",
       "      <td>Model Bias Error</td>\n",
       "      <td>4434.862921</td>\n",
       "      <td>5682.751452</td>\n",
       "      <td>5294.786650</td>\n",
       "      <td>4613.220849</td>\n",
       "      <td>5299.416270</td>\n",
       "      <td>9479.429619</td>\n",
       "      <td>5299.192809</td>\n",
       "    </tr>\n",
       "    <tr>\n",
       "      <td>Variance Error</td>\n",
       "      <td>966.178618</td>\n",
       "      <td>356.526277</td>\n",
       "      <td>484.820291</td>\n",
       "      <td>1001.666875</td>\n",
       "      <td>747.045659</td>\n",
       "      <td>453.903166</td>\n",
       "      <td>482.100374</td>\n",
       "    </tr>\n",
       "    <tr>\n",
       "      <td>Coeff of Variance Error</td>\n",
       "      <td>0.217860</td>\n",
       "      <td>0.062738</td>\n",
       "      <td>0.091566</td>\n",
       "      <td>0.217130</td>\n",
       "      <td>0.140968</td>\n",
       "      <td>0.047883</td>\n",
       "      <td>0.090976</td>\n",
       "    </tr>\n",
       "  </tbody>\n",
       "</table>\n",
       "</div>"
      ],
      "text/plain": [
       "                              Linear  Ridge alpha = 1  Ridge alpha = 0.5  \\\n",
       "Model Bias Error         4434.862921      5682.751452        5294.786650   \n",
       "Variance Error            966.178618       356.526277         484.820291   \n",
       "Coeff of Variance Error     0.217860         0.062738           0.091566   \n",
       "\n",
       "                         Lasso alpha = 1  Lasso alpha = 126.8  \\\n",
       "Model Bias Error             4613.220849          5299.416270   \n",
       "Variance Error               1001.666875           747.045659   \n",
       "Coeff of Variance Error         0.217130             0.140968   \n",
       "\n",
       "                         Elastic Net alpha = 1  Elastic Net alpha = 0.00632  \n",
       "Model Bias Error                   9479.429619                  5299.192809  \n",
       "Variance Error                      453.903166                   482.100374  \n",
       "Coeff of Variance Error               0.047883                     0.090976  "
      ]
     },
     "execution_count": 204,
     "metadata": {},
     "output_type": "execute_result"
    }
   ],
   "source": [
    "score_card"
   ]
  },
  {
   "cell_type": "code",
   "execution_count": 196,
   "metadata": {},
   "outputs": [],
   "source": [
    "#Elastic Net 0.000632 and Ridge 0.5 are better"
   ]
  },
  {
   "cell_type": "code",
   "execution_count": 197,
   "metadata": {},
   "outputs": [
    {
     "data": {
      "text/plain": [
       "array([ 9.11665712e-07, -5.35879567e-05,  3.69014119e-02, -1.64941500e+01,\n",
       "        2.16185526e+02,  1.85510489e+01,  3.73400049e+01, -4.50522552e+01,\n",
       "       -1.09696254e+01, -2.07021630e+02, -1.72718284e+01,  3.49655158e+01,\n",
       "       -5.18383386e+03,  1.19208981e+03])"
      ]
     },
     "execution_count": 197,
     "metadata": {},
     "output_type": "execute_result"
    }
   ],
   "source": [
    "model_lr = LinearRegression()\n",
    "model_lr.fit(xtrain,ytrain)\n",
    "model_lr.coef_"
   ]
  },
  {
   "cell_type": "code",
   "execution_count": 198,
   "metadata": {},
   "outputs": [
    {
     "data": {
      "text/plain": [
       "array([ 1.01188641e-06,  4.57114981e-05,  1.59738806e-01, -4.95469768e+00,\n",
       "        2.07495868e+02,  3.67503757e+01,  1.76443774e+01, -1.05945471e+01,\n",
       "       -4.11609272e+01,  7.96432119e+02, -1.24380830e+02,  4.40003488e+00,\n",
       "       -9.96094811e+03, -2.02984752e+03])"
      ]
     },
     "execution_count": 198,
     "metadata": {},
     "output_type": "execute_result"
    }
   ],
   "source": [
    "model_ridge = Ridge(alpha=0.5,normalize=True)\n",
    "model_ridge.fit(xtrain,ytrain)\n",
    "model_ridge.coef_"
   ]
  },
  {
   "cell_type": "code",
   "execution_count": 201,
   "metadata": {},
   "outputs": [
    {
     "data": {
      "text/plain": [
       "array([ 0.        ,  0.        ,  0.        , -0.        , 32.28743775,\n",
       "        0.        , 32.39132481, -0.        , -0.        ,  0.        ,\n",
       "       -0.        ,  0.        , -0.        ,  0.        ])"
      ]
     },
     "execution_count": 201,
     "metadata": {},
     "output_type": "execute_result"
    }
   ],
   "source": [
    "model_lasso = Lasso(alpha=126.8,normalize=True)\n",
    "model_lasso.fit(xtrain,ytrain)\n",
    "model_lasso.coef_"
   ]
  },
  {
   "cell_type": "code",
   "execution_count": 205,
   "metadata": {},
   "outputs": [
    {
     "data": {
      "text/plain": [
       "array([ 1.01154724e-06,  4.57040213e-05,  1.59673807e-01, -4.96107264e+00,\n",
       "        2.07549316e+02,  3.67364360e+01,  1.76544763e+01, -1.06092056e+01,\n",
       "       -4.11523579e+01,  7.96027152e+02, -1.24366000e+02,  4.42396328e+00,\n",
       "       -9.96109061e+03, -2.02956616e+03])"
      ]
     },
     "execution_count": 205,
     "metadata": {},
     "output_type": "execute_result"
    }
   ],
   "source": [
    "model_en = ElasticNet(alpha=0.00632,normalize=True)\n",
    "model_en.fit(xtrain,ytrain)\n",
    "model_en.coef_"
   ]
  },
  {
   "cell_type": "code",
   "execution_count": 207,
   "metadata": {},
   "outputs": [
    {
     "data": {
      "text/html": [
       "<div>\n",
       "<style scoped>\n",
       "    .dataframe tbody tr th:only-of-type {\n",
       "        vertical-align: middle;\n",
       "    }\n",
       "\n",
       "    .dataframe tbody tr th {\n",
       "        vertical-align: top;\n",
       "    }\n",
       "\n",
       "    .dataframe thead th {\n",
       "        text-align: right;\n",
       "    }\n",
       "</style>\n",
       "<table border=\"1\" class=\"dataframe\">\n",
       "  <thead>\n",
       "    <tr style=\"text-align: right;\">\n",
       "      <th></th>\n",
       "      <th>Linear</th>\n",
       "      <th>Ridge</th>\n",
       "      <th>Lasso</th>\n",
       "      <th>Elastic Net</th>\n",
       "    </tr>\n",
       "  </thead>\n",
       "  <tbody>\n",
       "    <tr>\n",
       "      <td>Population</td>\n",
       "      <td>9.116657e-07</td>\n",
       "      <td>0.000001</td>\n",
       "      <td>0.000000</td>\n",
       "      <td>0.000001</td>\n",
       "    </tr>\n",
       "    <tr>\n",
       "      <td>Area_sqm</td>\n",
       "      <td>-5.358796e-05</td>\n",
       "      <td>0.000046</td>\n",
       "      <td>0.000000</td>\n",
       "      <td>0.000046</td>\n",
       "    </tr>\n",
       "    <tr>\n",
       "      <td>Pop_Density_per sqm</td>\n",
       "      <td>3.690141e-02</td>\n",
       "      <td>0.159739</td>\n",
       "      <td>0.000000</td>\n",
       "      <td>0.159674</td>\n",
       "    </tr>\n",
       "    <tr>\n",
       "      <td>Coastline (coast/area ratio)</td>\n",
       "      <td>-1.649415e+01</td>\n",
       "      <td>-4.954698</td>\n",
       "      <td>-0.000000</td>\n",
       "      <td>-4.961073</td>\n",
       "    </tr>\n",
       "    <tr>\n",
       "      <td>Net migration</td>\n",
       "      <td>2.161855e+02</td>\n",
       "      <td>207.495868</td>\n",
       "      <td>32.287438</td>\n",
       "      <td>207.549316</td>\n",
       "    </tr>\n",
       "    <tr>\n",
       "      <td>Literacy (%)</td>\n",
       "      <td>1.855105e+01</td>\n",
       "      <td>36.750376</td>\n",
       "      <td>0.000000</td>\n",
       "      <td>36.736436</td>\n",
       "    </tr>\n",
       "    <tr>\n",
       "      <td>Phones (per 1000)</td>\n",
       "      <td>3.734000e+01</td>\n",
       "      <td>17.644377</td>\n",
       "      <td>32.391325</td>\n",
       "      <td>17.654476</td>\n",
       "    </tr>\n",
       "    <tr>\n",
       "      <td>Arable (%)</td>\n",
       "      <td>-4.505226e+01</td>\n",
       "      <td>-10.594547</td>\n",
       "      <td>-0.000000</td>\n",
       "      <td>-10.609206</td>\n",
       "    </tr>\n",
       "    <tr>\n",
       "      <td>Crops (%)</td>\n",
       "      <td>-1.096963e+01</td>\n",
       "      <td>-41.160927</td>\n",
       "      <td>-0.000000</td>\n",
       "      <td>-41.152358</td>\n",
       "    </tr>\n",
       "    <tr>\n",
       "      <td>Climate</td>\n",
       "      <td>-2.070216e+02</td>\n",
       "      <td>796.432119</td>\n",
       "      <td>0.000000</td>\n",
       "      <td>796.027152</td>\n",
       "    </tr>\n",
       "    <tr>\n",
       "      <td>Birthrate</td>\n",
       "      <td>-1.727183e+01</td>\n",
       "      <td>-124.380830</td>\n",
       "      <td>-0.000000</td>\n",
       "      <td>-124.366000</td>\n",
       "    </tr>\n",
       "    <tr>\n",
       "      <td>Deathrate</td>\n",
       "      <td>3.496552e+01</td>\n",
       "      <td>4.400035</td>\n",
       "      <td>0.000000</td>\n",
       "      <td>4.423963</td>\n",
       "    </tr>\n",
       "    <tr>\n",
       "      <td>Agriculture</td>\n",
       "      <td>-5.183834e+03</td>\n",
       "      <td>-9960.948112</td>\n",
       "      <td>-0.000000</td>\n",
       "      <td>-9961.090613</td>\n",
       "    </tr>\n",
       "    <tr>\n",
       "      <td>Industry</td>\n",
       "      <td>1.192090e+03</td>\n",
       "      <td>-2029.847516</td>\n",
       "      <td>0.000000</td>\n",
       "      <td>-2029.566162</td>\n",
       "    </tr>\n",
       "  </tbody>\n",
       "</table>\n",
       "</div>"
      ],
      "text/plain": [
       "                                    Linear        Ridge      Lasso  \\\n",
       "Population                    9.116657e-07     0.000001   0.000000   \n",
       "Area_sqm                     -5.358796e-05     0.000046   0.000000   \n",
       "Pop_Density_per sqm           3.690141e-02     0.159739   0.000000   \n",
       "Coastline (coast/area ratio) -1.649415e+01    -4.954698  -0.000000   \n",
       "Net migration                 2.161855e+02   207.495868  32.287438   \n",
       "Literacy (%)                  1.855105e+01    36.750376   0.000000   \n",
       "Phones (per 1000)             3.734000e+01    17.644377  32.391325   \n",
       "Arable (%)                   -4.505226e+01   -10.594547  -0.000000   \n",
       "Crops (%)                    -1.096963e+01   -41.160927  -0.000000   \n",
       "Climate                      -2.070216e+02   796.432119   0.000000   \n",
       "Birthrate                    -1.727183e+01  -124.380830  -0.000000   \n",
       "Deathrate                     3.496552e+01     4.400035   0.000000   \n",
       "Agriculture                  -5.183834e+03 -9960.948112  -0.000000   \n",
       "Industry                      1.192090e+03 -2029.847516   0.000000   \n",
       "\n",
       "                              Elastic Net  \n",
       "Population                       0.000001  \n",
       "Area_sqm                         0.000046  \n",
       "Pop_Density_per sqm              0.159674  \n",
       "Coastline (coast/area ratio)    -4.961073  \n",
       "Net migration                  207.549316  \n",
       "Literacy (%)                    36.736436  \n",
       "Phones (per 1000)               17.654476  \n",
       "Arable (%)                     -10.609206  \n",
       "Crops (%)                      -41.152358  \n",
       "Climate                        796.027152  \n",
       "Birthrate                     -124.366000  \n",
       "Deathrate                        4.423963  \n",
       "Agriculture                  -9961.090613  \n",
       "Industry                     -2029.566162  "
      ]
     },
     "execution_count": 207,
     "metadata": {},
     "output_type": "execute_result"
    }
   ],
   "source": [
    "coef_table = pd.DataFrame({'Linear':model_lr.coef_,\n",
    "                          'Ridge':model_ridge.coef_,\n",
    "                          'Lasso':model_lasso.coef_,\n",
    "                          'Elastic Net':model_en.coef_})\n",
    "\n",
    "coef_table.index= xtrain.columns\n",
    "coef_table"
   ]
  },
  {
   "cell_type": "markdown",
   "metadata": {},
   "source": [
    "### HYPER PARAMETER TUNING"
   ]
  },
  {
   "cell_type": "code",
   "execution_count": 209,
   "metadata": {},
   "outputs": [],
   "source": [
    "from sklearn.model_selection import GridSearchCV"
   ]
  },
  {
   "cell_type": "markdown",
   "metadata": {},
   "source": [
    "### RIDGE"
   ]
  },
  {
   "cell_type": "code",
   "execution_count": 211,
   "metadata": {},
   "outputs": [
    {
     "name": "stderr",
     "output_type": "stream",
     "text": [
      "C:\\Users\\dell\\Anaconda3\\lib\\site-packages\\sklearn\\model_selection\\_search.py:814: DeprecationWarning: The default of the `iid` parameter will change from True to False in version 0.22 and will be removed in 0.24. This will change numeric results when test-set sizes are unequal.\n",
      "  DeprecationWarning)\n"
     ]
    }
   ],
   "source": [
    "param = {'alpha':[0.0001,0.001,0.01,0.02,0.03,0.05,0.06,0.07,0.1,0.5,1,5,10,100,125,150,200]}\n",
    "\n",
    "rid = Ridge(normalize=True)\n",
    "grid_mod = GridSearchCV(rid, param_grid=param, cv = 5, scoring = 'r2')\n",
    "\n",
    "tun_mod = grid_mod.fit(xtrain,ytrain)"
   ]
  },
  {
   "cell_type": "code",
   "execution_count": 212,
   "metadata": {},
   "outputs": [
    {
     "data": {
      "text/plain": [
       "{'alpha': 0.03}"
      ]
     },
     "execution_count": 212,
     "metadata": {},
     "output_type": "execute_result"
    }
   ],
   "source": [
    "tun_mod.best_params_"
   ]
  },
  {
   "cell_type": "code",
   "execution_count": 213,
   "metadata": {},
   "outputs": [
    {
     "data": {
      "text/plain": [
       "0.7488321727032482"
      ]
     },
     "execution_count": 213,
     "metadata": {},
     "output_type": "execute_result"
    }
   ],
   "source": [
    "tun_mod.best_score_"
   ]
  },
  {
   "cell_type": "code",
   "execution_count": 217,
   "metadata": {
    "scrolled": true
   },
   "outputs": [
    {
     "data": {
      "text/html": [
       "<div>\n",
       "<style scoped>\n",
       "    .dataframe tbody tr th:only-of-type {\n",
       "        vertical-align: middle;\n",
       "    }\n",
       "\n",
       "    .dataframe tbody tr th {\n",
       "        vertical-align: top;\n",
       "    }\n",
       "\n",
       "    .dataframe thead th {\n",
       "        text-align: right;\n",
       "    }\n",
       "</style>\n",
       "<table border=\"1\" class=\"dataframe\">\n",
       "  <thead>\n",
       "    <tr style=\"text-align: right;\">\n",
       "      <th></th>\n",
       "      <th>mean_fit_time</th>\n",
       "      <th>std_fit_time</th>\n",
       "      <th>mean_score_time</th>\n",
       "      <th>std_score_time</th>\n",
       "      <th>param_alpha</th>\n",
       "      <th>params</th>\n",
       "      <th>split0_test_score</th>\n",
       "      <th>split1_test_score</th>\n",
       "      <th>split2_test_score</th>\n",
       "      <th>split3_test_score</th>\n",
       "      <th>split4_test_score</th>\n",
       "      <th>mean_test_score</th>\n",
       "      <th>std_test_score</th>\n",
       "      <th>rank_test_score</th>\n",
       "    </tr>\n",
       "  </thead>\n",
       "  <tbody>\n",
       "    <tr>\n",
       "      <td>0</td>\n",
       "      <td>0.002791</td>\n",
       "      <td>7.457547e-04</td>\n",
       "      <td>0.001597</td>\n",
       "      <td>4.877018e-04</td>\n",
       "      <td>0.0001</td>\n",
       "      <td>{'alpha': 0.0001}</td>\n",
       "      <td>0.841076</td>\n",
       "      <td>0.790135</td>\n",
       "      <td>0.646391</td>\n",
       "      <td>0.765976</td>\n",
       "      <td>0.688140</td>\n",
       "      <td>0.746588</td>\n",
       "      <td>0.070495</td>\n",
       "      <td>8</td>\n",
       "    </tr>\n",
       "    <tr>\n",
       "      <td>1</td>\n",
       "      <td>0.002991</td>\n",
       "      <td>6.311288e-04</td>\n",
       "      <td>0.001596</td>\n",
       "      <td>4.890647e-04</td>\n",
       "      <td>0.001</td>\n",
       "      <td>{'alpha': 0.001}</td>\n",
       "      <td>0.841088</td>\n",
       "      <td>0.790356</td>\n",
       "      <td>0.646983</td>\n",
       "      <td>0.765841</td>\n",
       "      <td>0.688189</td>\n",
       "      <td>0.746738</td>\n",
       "      <td>0.070341</td>\n",
       "      <td>6</td>\n",
       "    </tr>\n",
       "    <tr>\n",
       "      <td>2</td>\n",
       "      <td>0.003192</td>\n",
       "      <td>3.990890e-04</td>\n",
       "      <td>0.001598</td>\n",
       "      <td>4.855901e-04</td>\n",
       "      <td>0.01</td>\n",
       "      <td>{'alpha': 0.01}</td>\n",
       "      <td>0.840933</td>\n",
       "      <td>0.792175</td>\n",
       "      <td>0.652262</td>\n",
       "      <td>0.764411</td>\n",
       "      <td>0.688413</td>\n",
       "      <td>0.747908</td>\n",
       "      <td>0.068922</td>\n",
       "      <td>4</td>\n",
       "    </tr>\n",
       "    <tr>\n",
       "      <td>3</td>\n",
       "      <td>0.002992</td>\n",
       "      <td>5.352484e-07</td>\n",
       "      <td>0.001995</td>\n",
       "      <td>6.143617e-07</td>\n",
       "      <td>0.02</td>\n",
       "      <td>{'alpha': 0.02}</td>\n",
       "      <td>0.840267</td>\n",
       "      <td>0.793487</td>\n",
       "      <td>0.656969</td>\n",
       "      <td>0.762691</td>\n",
       "      <td>0.688202</td>\n",
       "      <td>0.748613</td>\n",
       "      <td>0.067566</td>\n",
       "      <td>2</td>\n",
       "    </tr>\n",
       "    <tr>\n",
       "      <td>4</td>\n",
       "      <td>0.003390</td>\n",
       "      <td>4.879162e-04</td>\n",
       "      <td>0.001397</td>\n",
       "      <td>4.890265e-04</td>\n",
       "      <td>0.03</td>\n",
       "      <td>{'alpha': 0.03}</td>\n",
       "      <td>0.839199</td>\n",
       "      <td>0.794213</td>\n",
       "      <td>0.660702</td>\n",
       "      <td>0.760873</td>\n",
       "      <td>0.687639</td>\n",
       "      <td>0.748832</td>\n",
       "      <td>0.066387</td>\n",
       "      <td>1</td>\n",
       "    </tr>\n",
       "    <tr>\n",
       "      <td>5</td>\n",
       "      <td>0.002992</td>\n",
       "      <td>3.371748e-07</td>\n",
       "      <td>0.001595</td>\n",
       "      <td>4.885202e-04</td>\n",
       "      <td>0.05</td>\n",
       "      <td>{'alpha': 0.05}</td>\n",
       "      <td>0.836207</td>\n",
       "      <td>0.794378</td>\n",
       "      <td>0.665984</td>\n",
       "      <td>0.757059</td>\n",
       "      <td>0.685815</td>\n",
       "      <td>0.748223</td>\n",
       "      <td>0.064409</td>\n",
       "      <td>3</td>\n",
       "    </tr>\n",
       "    <tr>\n",
       "      <td>6</td>\n",
       "      <td>0.003191</td>\n",
       "      <td>3.978016e-04</td>\n",
       "      <td>0.002195</td>\n",
       "      <td>1.164307e-03</td>\n",
       "      <td>0.06</td>\n",
       "      <td>{'alpha': 0.06}</td>\n",
       "      <td>0.834409</td>\n",
       "      <td>0.793988</td>\n",
       "      <td>0.667803</td>\n",
       "      <td>0.755104</td>\n",
       "      <td>0.684682</td>\n",
       "      <td>0.747543</td>\n",
       "      <td>0.063557</td>\n",
       "      <td>5</td>\n",
       "    </tr>\n",
       "    <tr>\n",
       "      <td>7</td>\n",
       "      <td>0.003790</td>\n",
       "      <td>9.779148e-04</td>\n",
       "      <td>0.001595</td>\n",
       "      <td>4.885584e-04</td>\n",
       "      <td>0.07</td>\n",
       "      <td>{'alpha': 0.07}</td>\n",
       "      <td>0.832472</td>\n",
       "      <td>0.793367</td>\n",
       "      <td>0.669205</td>\n",
       "      <td>0.753136</td>\n",
       "      <td>0.683457</td>\n",
       "      <td>0.746682</td>\n",
       "      <td>0.062771</td>\n",
       "      <td>7</td>\n",
       "    </tr>\n",
       "    <tr>\n",
       "      <td>8</td>\n",
       "      <td>0.003192</td>\n",
       "      <td>7.468754e-04</td>\n",
       "      <td>0.001396</td>\n",
       "      <td>4.889280e-04</td>\n",
       "      <td>0.1</td>\n",
       "      <td>{'alpha': 0.1}</td>\n",
       "      <td>0.826123</td>\n",
       "      <td>0.790528</td>\n",
       "      <td>0.671584</td>\n",
       "      <td>0.747244</td>\n",
       "      <td>0.679505</td>\n",
       "      <td>0.743372</td>\n",
       "      <td>0.060698</td>\n",
       "      <td>9</td>\n",
       "    </tr>\n",
       "    <tr>\n",
       "      <td>9</td>\n",
       "      <td>0.002792</td>\n",
       "      <td>3.986602e-04</td>\n",
       "      <td>0.001197</td>\n",
       "      <td>3.989939e-04</td>\n",
       "      <td>0.5</td>\n",
       "      <td>{'alpha': 0.5}</td>\n",
       "      <td>0.746601</td>\n",
       "      <td>0.734664</td>\n",
       "      <td>0.650606</td>\n",
       "      <td>0.684375</td>\n",
       "      <td>0.639615</td>\n",
       "      <td>0.691542</td>\n",
       "      <td>0.043233</td>\n",
       "      <td>10</td>\n",
       "    </tr>\n",
       "    <tr>\n",
       "      <td>10</td>\n",
       "      <td>0.002593</td>\n",
       "      <td>4.884026e-04</td>\n",
       "      <td>0.000798</td>\n",
       "      <td>3.989460e-04</td>\n",
       "      <td>1</td>\n",
       "      <td>{'alpha': 1}</td>\n",
       "      <td>0.679329</td>\n",
       "      <td>0.678187</td>\n",
       "      <td>0.618161</td>\n",
       "      <td>0.627897</td>\n",
       "      <td>0.608594</td>\n",
       "      <td>0.642740</td>\n",
       "      <td>0.030331</td>\n",
       "      <td>11</td>\n",
       "    </tr>\n",
       "    <tr>\n",
       "      <td>11</td>\n",
       "      <td>0.001795</td>\n",
       "      <td>3.987313e-04</td>\n",
       "      <td>0.001397</td>\n",
       "      <td>4.885388e-04</td>\n",
       "      <td>5</td>\n",
       "      <td>{'alpha': 5}</td>\n",
       "      <td>0.414204</td>\n",
       "      <td>0.414568</td>\n",
       "      <td>0.398487</td>\n",
       "      <td>0.379604</td>\n",
       "      <td>0.414294</td>\n",
       "      <td>0.404324</td>\n",
       "      <td>0.013686</td>\n",
       "      <td>12</td>\n",
       "    </tr>\n",
       "    <tr>\n",
       "      <td>12</td>\n",
       "      <td>0.001795</td>\n",
       "      <td>3.988982e-04</td>\n",
       "      <td>0.001197</td>\n",
       "      <td>3.983262e-04</td>\n",
       "      <td>10</td>\n",
       "      <td>{'alpha': 10}</td>\n",
       "      <td>0.276490</td>\n",
       "      <td>0.270005</td>\n",
       "      <td>0.249132</td>\n",
       "      <td>0.250447</td>\n",
       "      <td>0.280762</td>\n",
       "      <td>0.265364</td>\n",
       "      <td>0.013152</td>\n",
       "      <td>13</td>\n",
       "    </tr>\n",
       "    <tr>\n",
       "      <td>13</td>\n",
       "      <td>0.002194</td>\n",
       "      <td>3.993512e-04</td>\n",
       "      <td>0.001197</td>\n",
       "      <td>3.988985e-04</td>\n",
       "      <td>100</td>\n",
       "      <td>{'alpha': 100}</td>\n",
       "      <td>0.033131</td>\n",
       "      <td>0.015877</td>\n",
       "      <td>-0.040180</td>\n",
       "      <td>0.028025</td>\n",
       "      <td>0.019960</td>\n",
       "      <td>0.011203</td>\n",
       "      <td>0.026592</td>\n",
       "      <td>14</td>\n",
       "    </tr>\n",
       "    <tr>\n",
       "      <td>14</td>\n",
       "      <td>0.001994</td>\n",
       "      <td>6.743496e-07</td>\n",
       "      <td>0.000798</td>\n",
       "      <td>7.466206e-04</td>\n",
       "      <td>125</td>\n",
       "      <td>{'alpha': 125}</td>\n",
       "      <td>0.025258</td>\n",
       "      <td>0.007728</td>\n",
       "      <td>-0.049892</td>\n",
       "      <td>0.020944</td>\n",
       "      <td>0.011177</td>\n",
       "      <td>0.002878</td>\n",
       "      <td>0.027345</td>\n",
       "      <td>15</td>\n",
       "    </tr>\n",
       "    <tr>\n",
       "      <td>15</td>\n",
       "      <td>0.001795</td>\n",
       "      <td>3.988984e-04</td>\n",
       "      <td>0.000997</td>\n",
       "      <td>1.784161e-07</td>\n",
       "      <td>150</td>\n",
       "      <td>{'alpha': 150}</td>\n",
       "      <td>0.019924</td>\n",
       "      <td>0.002210</td>\n",
       "      <td>-0.056482</td>\n",
       "      <td>0.016150</td>\n",
       "      <td>0.005217</td>\n",
       "      <td>-0.002765</td>\n",
       "      <td>0.027864</td>\n",
       "      <td>16</td>\n",
       "    </tr>\n",
       "    <tr>\n",
       "      <td>16</td>\n",
       "      <td>0.001795</td>\n",
       "      <td>3.991844e-04</td>\n",
       "      <td>0.000598</td>\n",
       "      <td>4.884220e-04</td>\n",
       "      <td>200</td>\n",
       "      <td>{'alpha': 200}</td>\n",
       "      <td>0.013158</td>\n",
       "      <td>-0.004786</td>\n",
       "      <td>-0.064853</td>\n",
       "      <td>0.010074</td>\n",
       "      <td>-0.002354</td>\n",
       "      <td>-0.009925</td>\n",
       "      <td>0.028531</td>\n",
       "      <td>17</td>\n",
       "    </tr>\n",
       "  </tbody>\n",
       "</table>\n",
       "</div>"
      ],
      "text/plain": [
       "    mean_fit_time  std_fit_time  mean_score_time  std_score_time param_alpha  \\\n",
       "0        0.002791  7.457547e-04         0.001597    4.877018e-04      0.0001   \n",
       "1        0.002991  6.311288e-04         0.001596    4.890647e-04       0.001   \n",
       "2        0.003192  3.990890e-04         0.001598    4.855901e-04        0.01   \n",
       "3        0.002992  5.352484e-07         0.001995    6.143617e-07        0.02   \n",
       "4        0.003390  4.879162e-04         0.001397    4.890265e-04        0.03   \n",
       "5        0.002992  3.371748e-07         0.001595    4.885202e-04        0.05   \n",
       "6        0.003191  3.978016e-04         0.002195    1.164307e-03        0.06   \n",
       "7        0.003790  9.779148e-04         0.001595    4.885584e-04        0.07   \n",
       "8        0.003192  7.468754e-04         0.001396    4.889280e-04         0.1   \n",
       "9        0.002792  3.986602e-04         0.001197    3.989939e-04         0.5   \n",
       "10       0.002593  4.884026e-04         0.000798    3.989460e-04           1   \n",
       "11       0.001795  3.987313e-04         0.001397    4.885388e-04           5   \n",
       "12       0.001795  3.988982e-04         0.001197    3.983262e-04          10   \n",
       "13       0.002194  3.993512e-04         0.001197    3.988985e-04         100   \n",
       "14       0.001994  6.743496e-07         0.000798    7.466206e-04         125   \n",
       "15       0.001795  3.988984e-04         0.000997    1.784161e-07         150   \n",
       "16       0.001795  3.991844e-04         0.000598    4.884220e-04         200   \n",
       "\n",
       "               params  split0_test_score  split1_test_score  \\\n",
       "0   {'alpha': 0.0001}           0.841076           0.790135   \n",
       "1    {'alpha': 0.001}           0.841088           0.790356   \n",
       "2     {'alpha': 0.01}           0.840933           0.792175   \n",
       "3     {'alpha': 0.02}           0.840267           0.793487   \n",
       "4     {'alpha': 0.03}           0.839199           0.794213   \n",
       "5     {'alpha': 0.05}           0.836207           0.794378   \n",
       "6     {'alpha': 0.06}           0.834409           0.793988   \n",
       "7     {'alpha': 0.07}           0.832472           0.793367   \n",
       "8      {'alpha': 0.1}           0.826123           0.790528   \n",
       "9      {'alpha': 0.5}           0.746601           0.734664   \n",
       "10       {'alpha': 1}           0.679329           0.678187   \n",
       "11       {'alpha': 5}           0.414204           0.414568   \n",
       "12      {'alpha': 10}           0.276490           0.270005   \n",
       "13     {'alpha': 100}           0.033131           0.015877   \n",
       "14     {'alpha': 125}           0.025258           0.007728   \n",
       "15     {'alpha': 150}           0.019924           0.002210   \n",
       "16     {'alpha': 200}           0.013158          -0.004786   \n",
       "\n",
       "    split2_test_score  split3_test_score  split4_test_score  mean_test_score  \\\n",
       "0            0.646391           0.765976           0.688140         0.746588   \n",
       "1            0.646983           0.765841           0.688189         0.746738   \n",
       "2            0.652262           0.764411           0.688413         0.747908   \n",
       "3            0.656969           0.762691           0.688202         0.748613   \n",
       "4            0.660702           0.760873           0.687639         0.748832   \n",
       "5            0.665984           0.757059           0.685815         0.748223   \n",
       "6            0.667803           0.755104           0.684682         0.747543   \n",
       "7            0.669205           0.753136           0.683457         0.746682   \n",
       "8            0.671584           0.747244           0.679505         0.743372   \n",
       "9            0.650606           0.684375           0.639615         0.691542   \n",
       "10           0.618161           0.627897           0.608594         0.642740   \n",
       "11           0.398487           0.379604           0.414294         0.404324   \n",
       "12           0.249132           0.250447           0.280762         0.265364   \n",
       "13          -0.040180           0.028025           0.019960         0.011203   \n",
       "14          -0.049892           0.020944           0.011177         0.002878   \n",
       "15          -0.056482           0.016150           0.005217        -0.002765   \n",
       "16          -0.064853           0.010074          -0.002354        -0.009925   \n",
       "\n",
       "    std_test_score  rank_test_score  \n",
       "0         0.070495                8  \n",
       "1         0.070341                6  \n",
       "2         0.068922                4  \n",
       "3         0.067566                2  \n",
       "4         0.066387                1  \n",
       "5         0.064409                3  \n",
       "6         0.063557                5  \n",
       "7         0.062771                7  \n",
       "8         0.060698                9  \n",
       "9         0.043233               10  \n",
       "10        0.030331               11  \n",
       "11        0.013686               12  \n",
       "12        0.013152               13  \n",
       "13        0.026592               14  \n",
       "14        0.027345               15  \n",
       "15        0.027864               16  \n",
       "16        0.028531               17  "
      ]
     },
     "execution_count": 217,
     "metadata": {},
     "output_type": "execute_result"
    }
   ],
   "source": [
    "pd.DataFrame(tun_mod.cv_results_)"
   ]
  },
  {
   "cell_type": "code",
   "execution_count": 218,
   "metadata": {},
   "outputs": [
    {
     "data": {
      "text/html": [
       "<div>\n",
       "<style scoped>\n",
       "    .dataframe tbody tr th:only-of-type {\n",
       "        vertical-align: middle;\n",
       "    }\n",
       "\n",
       "    .dataframe tbody tr th {\n",
       "        vertical-align: top;\n",
       "    }\n",
       "\n",
       "    .dataframe thead th {\n",
       "        text-align: right;\n",
       "    }\n",
       "</style>\n",
       "<table border=\"1\" class=\"dataframe\">\n",
       "  <thead>\n",
       "    <tr style=\"text-align: right;\">\n",
       "      <th></th>\n",
       "      <th>mean_fit_time</th>\n",
       "      <th>std_fit_time</th>\n",
       "      <th>mean_score_time</th>\n",
       "      <th>std_score_time</th>\n",
       "      <th>param_alpha</th>\n",
       "      <th>params</th>\n",
       "      <th>split0_test_score</th>\n",
       "      <th>split1_test_score</th>\n",
       "      <th>split2_test_score</th>\n",
       "      <th>split3_test_score</th>\n",
       "      <th>split4_test_score</th>\n",
       "      <th>mean_test_score</th>\n",
       "      <th>std_test_score</th>\n",
       "      <th>rank_test_score</th>\n",
       "    </tr>\n",
       "  </thead>\n",
       "  <tbody>\n",
       "    <tr>\n",
       "      <td>0</td>\n",
       "      <td>0.002791</td>\n",
       "      <td>7.457547e-04</td>\n",
       "      <td>0.001597</td>\n",
       "      <td>4.877018e-04</td>\n",
       "      <td>0.0001</td>\n",
       "      <td>{'alpha': 0.0001}</td>\n",
       "      <td>0.841076</td>\n",
       "      <td>0.790135</td>\n",
       "      <td>0.646391</td>\n",
       "      <td>0.765976</td>\n",
       "      <td>0.688140</td>\n",
       "      <td>0.746588</td>\n",
       "      <td>0.070495</td>\n",
       "      <td>8</td>\n",
       "    </tr>\n",
       "    <tr>\n",
       "      <td>1</td>\n",
       "      <td>0.002991</td>\n",
       "      <td>6.311288e-04</td>\n",
       "      <td>0.001596</td>\n",
       "      <td>4.890647e-04</td>\n",
       "      <td>0.001</td>\n",
       "      <td>{'alpha': 0.001}</td>\n",
       "      <td>0.841088</td>\n",
       "      <td>0.790356</td>\n",
       "      <td>0.646983</td>\n",
       "      <td>0.765841</td>\n",
       "      <td>0.688189</td>\n",
       "      <td>0.746738</td>\n",
       "      <td>0.070341</td>\n",
       "      <td>6</td>\n",
       "    </tr>\n",
       "    <tr>\n",
       "      <td>2</td>\n",
       "      <td>0.003192</td>\n",
       "      <td>3.990890e-04</td>\n",
       "      <td>0.001598</td>\n",
       "      <td>4.855901e-04</td>\n",
       "      <td>0.01</td>\n",
       "      <td>{'alpha': 0.01}</td>\n",
       "      <td>0.840933</td>\n",
       "      <td>0.792175</td>\n",
       "      <td>0.652262</td>\n",
       "      <td>0.764411</td>\n",
       "      <td>0.688413</td>\n",
       "      <td>0.747908</td>\n",
       "      <td>0.068922</td>\n",
       "      <td>4</td>\n",
       "    </tr>\n",
       "    <tr>\n",
       "      <td>3</td>\n",
       "      <td>0.002992</td>\n",
       "      <td>5.352484e-07</td>\n",
       "      <td>0.001995</td>\n",
       "      <td>6.143617e-07</td>\n",
       "      <td>0.02</td>\n",
       "      <td>{'alpha': 0.02}</td>\n",
       "      <td>0.840267</td>\n",
       "      <td>0.793487</td>\n",
       "      <td>0.656969</td>\n",
       "      <td>0.762691</td>\n",
       "      <td>0.688202</td>\n",
       "      <td>0.748613</td>\n",
       "      <td>0.067566</td>\n",
       "      <td>2</td>\n",
       "    </tr>\n",
       "    <tr>\n",
       "      <td>4</td>\n",
       "      <td>0.003390</td>\n",
       "      <td>4.879162e-04</td>\n",
       "      <td>0.001397</td>\n",
       "      <td>4.890265e-04</td>\n",
       "      <td>0.03</td>\n",
       "      <td>{'alpha': 0.03}</td>\n",
       "      <td>0.839199</td>\n",
       "      <td>0.794213</td>\n",
       "      <td>0.660702</td>\n",
       "      <td>0.760873</td>\n",
       "      <td>0.687639</td>\n",
       "      <td>0.748832</td>\n",
       "      <td>0.066387</td>\n",
       "      <td>1</td>\n",
       "    </tr>\n",
       "  </tbody>\n",
       "</table>\n",
       "</div>"
      ],
      "text/plain": [
       "   mean_fit_time  std_fit_time  mean_score_time  std_score_time param_alpha  \\\n",
       "0       0.002791  7.457547e-04         0.001597    4.877018e-04      0.0001   \n",
       "1       0.002991  6.311288e-04         0.001596    4.890647e-04       0.001   \n",
       "2       0.003192  3.990890e-04         0.001598    4.855901e-04        0.01   \n",
       "3       0.002992  5.352484e-07         0.001995    6.143617e-07        0.02   \n",
       "4       0.003390  4.879162e-04         0.001397    4.890265e-04        0.03   \n",
       "\n",
       "              params  split0_test_score  split1_test_score  split2_test_score  \\\n",
       "0  {'alpha': 0.0001}           0.841076           0.790135           0.646391   \n",
       "1   {'alpha': 0.001}           0.841088           0.790356           0.646983   \n",
       "2    {'alpha': 0.01}           0.840933           0.792175           0.652262   \n",
       "3    {'alpha': 0.02}           0.840267           0.793487           0.656969   \n",
       "4    {'alpha': 0.03}           0.839199           0.794213           0.660702   \n",
       "\n",
       "   split3_test_score  split4_test_score  mean_test_score  std_test_score  \\\n",
       "0           0.765976           0.688140         0.746588        0.070495   \n",
       "1           0.765841           0.688189         0.746738        0.070341   \n",
       "2           0.764411           0.688413         0.747908        0.068922   \n",
       "3           0.762691           0.688202         0.748613        0.067566   \n",
       "4           0.760873           0.687639         0.748832        0.066387   \n",
       "\n",
       "   rank_test_score  \n",
       "0                8  \n",
       "1                6  \n",
       "2                4  \n",
       "3                2  \n",
       "4                1  "
      ]
     },
     "execution_count": 218,
     "metadata": {},
     "output_type": "execute_result"
    }
   ],
   "source": [
    "pd.DataFrame(tun_mod.cv_results_).head()"
   ]
  },
  {
   "cell_type": "code",
   "execution_count": 220,
   "metadata": {
    "scrolled": true
   },
   "outputs": [
    {
     "data": {
      "text/html": [
       "<div>\n",
       "<style scoped>\n",
       "    .dataframe tbody tr th:only-of-type {\n",
       "        vertical-align: middle;\n",
       "    }\n",
       "\n",
       "    .dataframe tbody tr th {\n",
       "        vertical-align: top;\n",
       "    }\n",
       "\n",
       "    .dataframe thead th {\n",
       "        text-align: right;\n",
       "    }\n",
       "</style>\n",
       "<table border=\"1\" class=\"dataframe\">\n",
       "  <thead>\n",
       "    <tr style=\"text-align: right;\">\n",
       "      <th></th>\n",
       "      <th>mean_fit_time</th>\n",
       "      <th>std_fit_time</th>\n",
       "      <th>mean_score_time</th>\n",
       "      <th>std_score_time</th>\n",
       "      <th>param_alpha</th>\n",
       "      <th>params</th>\n",
       "      <th>split0_test_score</th>\n",
       "      <th>split1_test_score</th>\n",
       "      <th>split2_test_score</th>\n",
       "      <th>split3_test_score</th>\n",
       "      <th>split4_test_score</th>\n",
       "      <th>mean_test_score</th>\n",
       "      <th>std_test_score</th>\n",
       "      <th>rank_test_score</th>\n",
       "    </tr>\n",
       "  </thead>\n",
       "  <tbody>\n",
       "    <tr>\n",
       "      <td>4</td>\n",
       "      <td>0.003390</td>\n",
       "      <td>4.879162e-04</td>\n",
       "      <td>0.001397</td>\n",
       "      <td>4.890265e-04</td>\n",
       "      <td>0.03</td>\n",
       "      <td>{'alpha': 0.03}</td>\n",
       "      <td>0.839199</td>\n",
       "      <td>0.794213</td>\n",
       "      <td>0.660702</td>\n",
       "      <td>0.760873</td>\n",
       "      <td>0.687639</td>\n",
       "      <td>0.748832</td>\n",
       "      <td>0.066387</td>\n",
       "      <td>1</td>\n",
       "    </tr>\n",
       "    <tr>\n",
       "      <td>3</td>\n",
       "      <td>0.002992</td>\n",
       "      <td>5.352484e-07</td>\n",
       "      <td>0.001995</td>\n",
       "      <td>6.143617e-07</td>\n",
       "      <td>0.02</td>\n",
       "      <td>{'alpha': 0.02}</td>\n",
       "      <td>0.840267</td>\n",
       "      <td>0.793487</td>\n",
       "      <td>0.656969</td>\n",
       "      <td>0.762691</td>\n",
       "      <td>0.688202</td>\n",
       "      <td>0.748613</td>\n",
       "      <td>0.067566</td>\n",
       "      <td>2</td>\n",
       "    </tr>\n",
       "    <tr>\n",
       "      <td>5</td>\n",
       "      <td>0.002992</td>\n",
       "      <td>3.371748e-07</td>\n",
       "      <td>0.001595</td>\n",
       "      <td>4.885202e-04</td>\n",
       "      <td>0.05</td>\n",
       "      <td>{'alpha': 0.05}</td>\n",
       "      <td>0.836207</td>\n",
       "      <td>0.794378</td>\n",
       "      <td>0.665984</td>\n",
       "      <td>0.757059</td>\n",
       "      <td>0.685815</td>\n",
       "      <td>0.748223</td>\n",
       "      <td>0.064409</td>\n",
       "      <td>3</td>\n",
       "    </tr>\n",
       "    <tr>\n",
       "      <td>2</td>\n",
       "      <td>0.003192</td>\n",
       "      <td>3.990890e-04</td>\n",
       "      <td>0.001598</td>\n",
       "      <td>4.855901e-04</td>\n",
       "      <td>0.01</td>\n",
       "      <td>{'alpha': 0.01}</td>\n",
       "      <td>0.840933</td>\n",
       "      <td>0.792175</td>\n",
       "      <td>0.652262</td>\n",
       "      <td>0.764411</td>\n",
       "      <td>0.688413</td>\n",
       "      <td>0.747908</td>\n",
       "      <td>0.068922</td>\n",
       "      <td>4</td>\n",
       "    </tr>\n",
       "    <tr>\n",
       "      <td>6</td>\n",
       "      <td>0.003191</td>\n",
       "      <td>3.978016e-04</td>\n",
       "      <td>0.002195</td>\n",
       "      <td>1.164307e-03</td>\n",
       "      <td>0.06</td>\n",
       "      <td>{'alpha': 0.06}</td>\n",
       "      <td>0.834409</td>\n",
       "      <td>0.793988</td>\n",
       "      <td>0.667803</td>\n",
       "      <td>0.755104</td>\n",
       "      <td>0.684682</td>\n",
       "      <td>0.747543</td>\n",
       "      <td>0.063557</td>\n",
       "      <td>5</td>\n",
       "    </tr>\n",
       "    <tr>\n",
       "      <td>1</td>\n",
       "      <td>0.002991</td>\n",
       "      <td>6.311288e-04</td>\n",
       "      <td>0.001596</td>\n",
       "      <td>4.890647e-04</td>\n",
       "      <td>0.001</td>\n",
       "      <td>{'alpha': 0.001}</td>\n",
       "      <td>0.841088</td>\n",
       "      <td>0.790356</td>\n",
       "      <td>0.646983</td>\n",
       "      <td>0.765841</td>\n",
       "      <td>0.688189</td>\n",
       "      <td>0.746738</td>\n",
       "      <td>0.070341</td>\n",
       "      <td>6</td>\n",
       "    </tr>\n",
       "    <tr>\n",
       "      <td>7</td>\n",
       "      <td>0.003790</td>\n",
       "      <td>9.779148e-04</td>\n",
       "      <td>0.001595</td>\n",
       "      <td>4.885584e-04</td>\n",
       "      <td>0.07</td>\n",
       "      <td>{'alpha': 0.07}</td>\n",
       "      <td>0.832472</td>\n",
       "      <td>0.793367</td>\n",
       "      <td>0.669205</td>\n",
       "      <td>0.753136</td>\n",
       "      <td>0.683457</td>\n",
       "      <td>0.746682</td>\n",
       "      <td>0.062771</td>\n",
       "      <td>7</td>\n",
       "    </tr>\n",
       "    <tr>\n",
       "      <td>0</td>\n",
       "      <td>0.002791</td>\n",
       "      <td>7.457547e-04</td>\n",
       "      <td>0.001597</td>\n",
       "      <td>4.877018e-04</td>\n",
       "      <td>0.0001</td>\n",
       "      <td>{'alpha': 0.0001}</td>\n",
       "      <td>0.841076</td>\n",
       "      <td>0.790135</td>\n",
       "      <td>0.646391</td>\n",
       "      <td>0.765976</td>\n",
       "      <td>0.688140</td>\n",
       "      <td>0.746588</td>\n",
       "      <td>0.070495</td>\n",
       "      <td>8</td>\n",
       "    </tr>\n",
       "    <tr>\n",
       "      <td>8</td>\n",
       "      <td>0.003192</td>\n",
       "      <td>7.468754e-04</td>\n",
       "      <td>0.001396</td>\n",
       "      <td>4.889280e-04</td>\n",
       "      <td>0.1</td>\n",
       "      <td>{'alpha': 0.1}</td>\n",
       "      <td>0.826123</td>\n",
       "      <td>0.790528</td>\n",
       "      <td>0.671584</td>\n",
       "      <td>0.747244</td>\n",
       "      <td>0.679505</td>\n",
       "      <td>0.743372</td>\n",
       "      <td>0.060698</td>\n",
       "      <td>9</td>\n",
       "    </tr>\n",
       "    <tr>\n",
       "      <td>9</td>\n",
       "      <td>0.002792</td>\n",
       "      <td>3.986602e-04</td>\n",
       "      <td>0.001197</td>\n",
       "      <td>3.989939e-04</td>\n",
       "      <td>0.5</td>\n",
       "      <td>{'alpha': 0.5}</td>\n",
       "      <td>0.746601</td>\n",
       "      <td>0.734664</td>\n",
       "      <td>0.650606</td>\n",
       "      <td>0.684375</td>\n",
       "      <td>0.639615</td>\n",
       "      <td>0.691542</td>\n",
       "      <td>0.043233</td>\n",
       "      <td>10</td>\n",
       "    </tr>\n",
       "    <tr>\n",
       "      <td>10</td>\n",
       "      <td>0.002593</td>\n",
       "      <td>4.884026e-04</td>\n",
       "      <td>0.000798</td>\n",
       "      <td>3.989460e-04</td>\n",
       "      <td>1</td>\n",
       "      <td>{'alpha': 1}</td>\n",
       "      <td>0.679329</td>\n",
       "      <td>0.678187</td>\n",
       "      <td>0.618161</td>\n",
       "      <td>0.627897</td>\n",
       "      <td>0.608594</td>\n",
       "      <td>0.642740</td>\n",
       "      <td>0.030331</td>\n",
       "      <td>11</td>\n",
       "    </tr>\n",
       "    <tr>\n",
       "      <td>11</td>\n",
       "      <td>0.001795</td>\n",
       "      <td>3.987313e-04</td>\n",
       "      <td>0.001397</td>\n",
       "      <td>4.885388e-04</td>\n",
       "      <td>5</td>\n",
       "      <td>{'alpha': 5}</td>\n",
       "      <td>0.414204</td>\n",
       "      <td>0.414568</td>\n",
       "      <td>0.398487</td>\n",
       "      <td>0.379604</td>\n",
       "      <td>0.414294</td>\n",
       "      <td>0.404324</td>\n",
       "      <td>0.013686</td>\n",
       "      <td>12</td>\n",
       "    </tr>\n",
       "    <tr>\n",
       "      <td>12</td>\n",
       "      <td>0.001795</td>\n",
       "      <td>3.988982e-04</td>\n",
       "      <td>0.001197</td>\n",
       "      <td>3.983262e-04</td>\n",
       "      <td>10</td>\n",
       "      <td>{'alpha': 10}</td>\n",
       "      <td>0.276490</td>\n",
       "      <td>0.270005</td>\n",
       "      <td>0.249132</td>\n",
       "      <td>0.250447</td>\n",
       "      <td>0.280762</td>\n",
       "      <td>0.265364</td>\n",
       "      <td>0.013152</td>\n",
       "      <td>13</td>\n",
       "    </tr>\n",
       "    <tr>\n",
       "      <td>13</td>\n",
       "      <td>0.002194</td>\n",
       "      <td>3.993512e-04</td>\n",
       "      <td>0.001197</td>\n",
       "      <td>3.988985e-04</td>\n",
       "      <td>100</td>\n",
       "      <td>{'alpha': 100}</td>\n",
       "      <td>0.033131</td>\n",
       "      <td>0.015877</td>\n",
       "      <td>-0.040180</td>\n",
       "      <td>0.028025</td>\n",
       "      <td>0.019960</td>\n",
       "      <td>0.011203</td>\n",
       "      <td>0.026592</td>\n",
       "      <td>14</td>\n",
       "    </tr>\n",
       "    <tr>\n",
       "      <td>14</td>\n",
       "      <td>0.001994</td>\n",
       "      <td>6.743496e-07</td>\n",
       "      <td>0.000798</td>\n",
       "      <td>7.466206e-04</td>\n",
       "      <td>125</td>\n",
       "      <td>{'alpha': 125}</td>\n",
       "      <td>0.025258</td>\n",
       "      <td>0.007728</td>\n",
       "      <td>-0.049892</td>\n",
       "      <td>0.020944</td>\n",
       "      <td>0.011177</td>\n",
       "      <td>0.002878</td>\n",
       "      <td>0.027345</td>\n",
       "      <td>15</td>\n",
       "    </tr>\n",
       "    <tr>\n",
       "      <td>15</td>\n",
       "      <td>0.001795</td>\n",
       "      <td>3.988984e-04</td>\n",
       "      <td>0.000997</td>\n",
       "      <td>1.784161e-07</td>\n",
       "      <td>150</td>\n",
       "      <td>{'alpha': 150}</td>\n",
       "      <td>0.019924</td>\n",
       "      <td>0.002210</td>\n",
       "      <td>-0.056482</td>\n",
       "      <td>0.016150</td>\n",
       "      <td>0.005217</td>\n",
       "      <td>-0.002765</td>\n",
       "      <td>0.027864</td>\n",
       "      <td>16</td>\n",
       "    </tr>\n",
       "    <tr>\n",
       "      <td>16</td>\n",
       "      <td>0.001795</td>\n",
       "      <td>3.991844e-04</td>\n",
       "      <td>0.000598</td>\n",
       "      <td>4.884220e-04</td>\n",
       "      <td>200</td>\n",
       "      <td>{'alpha': 200}</td>\n",
       "      <td>0.013158</td>\n",
       "      <td>-0.004786</td>\n",
       "      <td>-0.064853</td>\n",
       "      <td>0.010074</td>\n",
       "      <td>-0.002354</td>\n",
       "      <td>-0.009925</td>\n",
       "      <td>0.028531</td>\n",
       "      <td>17</td>\n",
       "    </tr>\n",
       "  </tbody>\n",
       "</table>\n",
       "</div>"
      ],
      "text/plain": [
       "    mean_fit_time  std_fit_time  mean_score_time  std_score_time param_alpha  \\\n",
       "4        0.003390  4.879162e-04         0.001397    4.890265e-04        0.03   \n",
       "3        0.002992  5.352484e-07         0.001995    6.143617e-07        0.02   \n",
       "5        0.002992  3.371748e-07         0.001595    4.885202e-04        0.05   \n",
       "2        0.003192  3.990890e-04         0.001598    4.855901e-04        0.01   \n",
       "6        0.003191  3.978016e-04         0.002195    1.164307e-03        0.06   \n",
       "1        0.002991  6.311288e-04         0.001596    4.890647e-04       0.001   \n",
       "7        0.003790  9.779148e-04         0.001595    4.885584e-04        0.07   \n",
       "0        0.002791  7.457547e-04         0.001597    4.877018e-04      0.0001   \n",
       "8        0.003192  7.468754e-04         0.001396    4.889280e-04         0.1   \n",
       "9        0.002792  3.986602e-04         0.001197    3.989939e-04         0.5   \n",
       "10       0.002593  4.884026e-04         0.000798    3.989460e-04           1   \n",
       "11       0.001795  3.987313e-04         0.001397    4.885388e-04           5   \n",
       "12       0.001795  3.988982e-04         0.001197    3.983262e-04          10   \n",
       "13       0.002194  3.993512e-04         0.001197    3.988985e-04         100   \n",
       "14       0.001994  6.743496e-07         0.000798    7.466206e-04         125   \n",
       "15       0.001795  3.988984e-04         0.000997    1.784161e-07         150   \n",
       "16       0.001795  3.991844e-04         0.000598    4.884220e-04         200   \n",
       "\n",
       "               params  split0_test_score  split1_test_score  \\\n",
       "4     {'alpha': 0.03}           0.839199           0.794213   \n",
       "3     {'alpha': 0.02}           0.840267           0.793487   \n",
       "5     {'alpha': 0.05}           0.836207           0.794378   \n",
       "2     {'alpha': 0.01}           0.840933           0.792175   \n",
       "6     {'alpha': 0.06}           0.834409           0.793988   \n",
       "1    {'alpha': 0.001}           0.841088           0.790356   \n",
       "7     {'alpha': 0.07}           0.832472           0.793367   \n",
       "0   {'alpha': 0.0001}           0.841076           0.790135   \n",
       "8      {'alpha': 0.1}           0.826123           0.790528   \n",
       "9      {'alpha': 0.5}           0.746601           0.734664   \n",
       "10       {'alpha': 1}           0.679329           0.678187   \n",
       "11       {'alpha': 5}           0.414204           0.414568   \n",
       "12      {'alpha': 10}           0.276490           0.270005   \n",
       "13     {'alpha': 100}           0.033131           0.015877   \n",
       "14     {'alpha': 125}           0.025258           0.007728   \n",
       "15     {'alpha': 150}           0.019924           0.002210   \n",
       "16     {'alpha': 200}           0.013158          -0.004786   \n",
       "\n",
       "    split2_test_score  split3_test_score  split4_test_score  mean_test_score  \\\n",
       "4            0.660702           0.760873           0.687639         0.748832   \n",
       "3            0.656969           0.762691           0.688202         0.748613   \n",
       "5            0.665984           0.757059           0.685815         0.748223   \n",
       "2            0.652262           0.764411           0.688413         0.747908   \n",
       "6            0.667803           0.755104           0.684682         0.747543   \n",
       "1            0.646983           0.765841           0.688189         0.746738   \n",
       "7            0.669205           0.753136           0.683457         0.746682   \n",
       "0            0.646391           0.765976           0.688140         0.746588   \n",
       "8            0.671584           0.747244           0.679505         0.743372   \n",
       "9            0.650606           0.684375           0.639615         0.691542   \n",
       "10           0.618161           0.627897           0.608594         0.642740   \n",
       "11           0.398487           0.379604           0.414294         0.404324   \n",
       "12           0.249132           0.250447           0.280762         0.265364   \n",
       "13          -0.040180           0.028025           0.019960         0.011203   \n",
       "14          -0.049892           0.020944           0.011177         0.002878   \n",
       "15          -0.056482           0.016150           0.005217        -0.002765   \n",
       "16          -0.064853           0.010074          -0.002354        -0.009925   \n",
       "\n",
       "    std_test_score  rank_test_score  \n",
       "4         0.066387                1  \n",
       "3         0.067566                2  \n",
       "5         0.064409                3  \n",
       "2         0.068922                4  \n",
       "6         0.063557                5  \n",
       "1         0.070341                6  \n",
       "7         0.062771                7  \n",
       "0         0.070495                8  \n",
       "8         0.060698                9  \n",
       "9         0.043233               10  \n",
       "10        0.030331               11  \n",
       "11        0.013686               12  \n",
       "12        0.013152               13  \n",
       "13        0.026592               14  \n",
       "14        0.027345               15  \n",
       "15        0.027864               16  \n",
       "16        0.028531               17  "
      ]
     },
     "execution_count": 220,
     "metadata": {},
     "output_type": "execute_result"
    }
   ],
   "source": [
    "pd.DataFrame(tun_mod.cv_results_).sort_values('mean_test_score', ascending = False)"
   ]
  },
  {
   "cell_type": "markdown",
   "metadata": {},
   "source": [
    "### LASSO"
   ]
  },
  {
   "cell_type": "code",
   "execution_count": 221,
   "metadata": {},
   "outputs": [
    {
     "name": "stderr",
     "output_type": "stream",
     "text": [
      "C:\\Users\\dell\\Anaconda3\\lib\\site-packages\\sklearn\\model_selection\\_search.py:814: DeprecationWarning: The default of the `iid` parameter will change from True to False in version 0.22 and will be removed in 0.24. This will change numeric results when test-set sizes are unequal.\n",
      "  DeprecationWarning)\n"
     ]
    }
   ],
   "source": [
    "param = {'alpha':[0.0001,0.001,0.01,0.02,0.03,0.05,0.06,0.07,0.1,0.5,1,5,10,100,125,150,200]}\n",
    "\n",
    "las = Lasso(normalize=True)\n",
    "grid_mod = GridSearchCV(las, param_grid=param, cv = 5, scoring = 'r2')\n",
    "\n",
    "tun_mod = grid_mod.fit(xtrain,ytrain)"
   ]
  },
  {
   "cell_type": "code",
   "execution_count": 223,
   "metadata": {},
   "outputs": [
    {
     "data": {
      "text/plain": [
       "{'alpha': 10}"
      ]
     },
     "execution_count": 223,
     "metadata": {},
     "output_type": "execute_result"
    }
   ],
   "source": [
    "tun_mod.best_params_"
   ]
  },
  {
   "cell_type": "code",
   "execution_count": 224,
   "metadata": {},
   "outputs": [
    {
     "data": {
      "text/plain": [
       "0.7591627666428141"
      ]
     },
     "execution_count": 224,
     "metadata": {},
     "output_type": "execute_result"
    }
   ],
   "source": [
    "tun_mod.best_score_"
   ]
  },
  {
   "cell_type": "code",
   "execution_count": 222,
   "metadata": {
    "scrolled": true
   },
   "outputs": [
    {
     "data": {
      "text/html": [
       "<div>\n",
       "<style scoped>\n",
       "    .dataframe tbody tr th:only-of-type {\n",
       "        vertical-align: middle;\n",
       "    }\n",
       "\n",
       "    .dataframe tbody tr th {\n",
       "        vertical-align: top;\n",
       "    }\n",
       "\n",
       "    .dataframe thead th {\n",
       "        text-align: right;\n",
       "    }\n",
       "</style>\n",
       "<table border=\"1\" class=\"dataframe\">\n",
       "  <thead>\n",
       "    <tr style=\"text-align: right;\">\n",
       "      <th></th>\n",
       "      <th>mean_fit_time</th>\n",
       "      <th>std_fit_time</th>\n",
       "      <th>mean_score_time</th>\n",
       "      <th>std_score_time</th>\n",
       "      <th>param_alpha</th>\n",
       "      <th>params</th>\n",
       "      <th>split0_test_score</th>\n",
       "      <th>split1_test_score</th>\n",
       "      <th>split2_test_score</th>\n",
       "      <th>split3_test_score</th>\n",
       "      <th>split4_test_score</th>\n",
       "      <th>mean_test_score</th>\n",
       "      <th>std_test_score</th>\n",
       "      <th>rank_test_score</th>\n",
       "    </tr>\n",
       "  </thead>\n",
       "  <tbody>\n",
       "    <tr>\n",
       "      <td>12</td>\n",
       "      <td>0.001995</td>\n",
       "      <td>0.000630</td>\n",
       "      <td>0.000997</td>\n",
       "      <td>9.122432e-07</td>\n",
       "      <td>10</td>\n",
       "      <td>{'alpha': 10}</td>\n",
       "      <td>0.850201</td>\n",
       "      <td>0.790899</td>\n",
       "      <td>0.673052</td>\n",
       "      <td>0.777646</td>\n",
       "      <td>0.702833</td>\n",
       "      <td>0.759163</td>\n",
       "      <td>0.063827</td>\n",
       "      <td>1</td>\n",
       "    </tr>\n",
       "    <tr>\n",
       "      <td>11</td>\n",
       "      <td>0.002992</td>\n",
       "      <td>0.000630</td>\n",
       "      <td>0.001001</td>\n",
       "      <td>6.778136e-06</td>\n",
       "      <td>5</td>\n",
       "      <td>{'alpha': 5}</td>\n",
       "      <td>0.846243</td>\n",
       "      <td>0.791033</td>\n",
       "      <td>0.663675</td>\n",
       "      <td>0.773676</td>\n",
       "      <td>0.697891</td>\n",
       "      <td>0.754741</td>\n",
       "      <td>0.065928</td>\n",
       "      <td>2</td>\n",
       "    </tr>\n",
       "    <tr>\n",
       "      <td>10</td>\n",
       "      <td>0.002195</td>\n",
       "      <td>0.000746</td>\n",
       "      <td>0.000996</td>\n",
       "      <td>9.887906e-07</td>\n",
       "      <td>1</td>\n",
       "      <td>{'alpha': 1}</td>\n",
       "      <td>0.842066</td>\n",
       "      <td>0.790414</td>\n",
       "      <td>0.650082</td>\n",
       "      <td>0.768153</td>\n",
       "      <td>0.690359</td>\n",
       "      <td>0.748455</td>\n",
       "      <td>0.069496</td>\n",
       "      <td>3</td>\n",
       "    </tr>\n",
       "    <tr>\n",
       "      <td>9</td>\n",
       "      <td>0.002593</td>\n",
       "      <td>0.000797</td>\n",
       "      <td>0.001196</td>\n",
       "      <td>3.993532e-04</td>\n",
       "      <td>0.5</td>\n",
       "      <td>{'alpha': 0.5}</td>\n",
       "      <td>0.841517</td>\n",
       "      <td>0.790271</td>\n",
       "      <td>0.648216</td>\n",
       "      <td>0.767159</td>\n",
       "      <td>0.689286</td>\n",
       "      <td>0.747531</td>\n",
       "      <td>0.069985</td>\n",
       "      <td>4</td>\n",
       "    </tr>\n",
       "    <tr>\n",
       "      <td>8</td>\n",
       "      <td>0.001795</td>\n",
       "      <td>0.000746</td>\n",
       "      <td>0.000998</td>\n",
       "      <td>1.016010e-06</td>\n",
       "      <td>0.1</td>\n",
       "      <td>{'alpha': 0.1}</td>\n",
       "      <td>0.841159</td>\n",
       "      <td>0.790144</td>\n",
       "      <td>0.646704</td>\n",
       "      <td>0.766229</td>\n",
       "      <td>0.688389</td>\n",
       "      <td>0.746768</td>\n",
       "      <td>0.070402</td>\n",
       "      <td>5</td>\n",
       "    </tr>\n",
       "    <tr>\n",
       "      <td>7</td>\n",
       "      <td>0.001995</td>\n",
       "      <td>0.000631</td>\n",
       "      <td>0.001397</td>\n",
       "      <td>4.885779e-04</td>\n",
       "      <td>0.07</td>\n",
       "      <td>{'alpha': 0.07}</td>\n",
       "      <td>0.841133</td>\n",
       "      <td>0.790134</td>\n",
       "      <td>0.646590</td>\n",
       "      <td>0.766158</td>\n",
       "      <td>0.688312</td>\n",
       "      <td>0.746709</td>\n",
       "      <td>0.070435</td>\n",
       "      <td>6</td>\n",
       "    </tr>\n",
       "    <tr>\n",
       "      <td>6</td>\n",
       "      <td>0.002194</td>\n",
       "      <td>0.000399</td>\n",
       "      <td>0.001397</td>\n",
       "      <td>4.882875e-04</td>\n",
       "      <td>0.06</td>\n",
       "      <td>{'alpha': 0.06}</td>\n",
       "      <td>0.841125</td>\n",
       "      <td>0.790130</td>\n",
       "      <td>0.646552</td>\n",
       "      <td>0.766134</td>\n",
       "      <td>0.688287</td>\n",
       "      <td>0.746689</td>\n",
       "      <td>0.070447</td>\n",
       "      <td>7</td>\n",
       "    </tr>\n",
       "    <tr>\n",
       "      <td>5</td>\n",
       "      <td>0.002193</td>\n",
       "      <td>0.000399</td>\n",
       "      <td>0.000998</td>\n",
       "      <td>1.072619e-06</td>\n",
       "      <td>0.05</td>\n",
       "      <td>{'alpha': 0.05}</td>\n",
       "      <td>0.841117</td>\n",
       "      <td>0.790127</td>\n",
       "      <td>0.646514</td>\n",
       "      <td>0.766110</td>\n",
       "      <td>0.688261</td>\n",
       "      <td>0.746669</td>\n",
       "      <td>0.070458</td>\n",
       "      <td>8</td>\n",
       "    </tr>\n",
       "    <tr>\n",
       "      <td>4</td>\n",
       "      <td>0.002393</td>\n",
       "      <td>0.000488</td>\n",
       "      <td>0.000798</td>\n",
       "      <td>3.990433e-04</td>\n",
       "      <td>0.03</td>\n",
       "      <td>{'alpha': 0.03}</td>\n",
       "      <td>0.841100</td>\n",
       "      <td>0.790120</td>\n",
       "      <td>0.646437</td>\n",
       "      <td>0.766063</td>\n",
       "      <td>0.688210</td>\n",
       "      <td>0.746630</td>\n",
       "      <td>0.070480</td>\n",
       "      <td>9</td>\n",
       "    </tr>\n",
       "    <tr>\n",
       "      <td>3</td>\n",
       "      <td>0.002392</td>\n",
       "      <td>0.000487</td>\n",
       "      <td>0.001197</td>\n",
       "      <td>3.982074e-04</td>\n",
       "      <td>0.02</td>\n",
       "      <td>{'alpha': 0.02}</td>\n",
       "      <td>0.841092</td>\n",
       "      <td>0.790117</td>\n",
       "      <td>0.646400</td>\n",
       "      <td>0.766039</td>\n",
       "      <td>0.688185</td>\n",
       "      <td>0.746610</td>\n",
       "      <td>0.070491</td>\n",
       "      <td>10</td>\n",
       "    </tr>\n",
       "    <tr>\n",
       "      <td>2</td>\n",
       "      <td>0.001995</td>\n",
       "      <td>0.000001</td>\n",
       "      <td>0.000998</td>\n",
       "      <td>6.143617e-07</td>\n",
       "      <td>0.01</td>\n",
       "      <td>{'alpha': 0.01}</td>\n",
       "      <td>0.841083</td>\n",
       "      <td>0.790113</td>\n",
       "      <td>0.646362</td>\n",
       "      <td>0.766015</td>\n",
       "      <td>0.688159</td>\n",
       "      <td>0.746590</td>\n",
       "      <td>0.070502</td>\n",
       "      <td>11</td>\n",
       "    </tr>\n",
       "    <tr>\n",
       "      <td>1</td>\n",
       "      <td>0.002393</td>\n",
       "      <td>0.000488</td>\n",
       "      <td>0.001197</td>\n",
       "      <td>3.987322e-04</td>\n",
       "      <td>0.001</td>\n",
       "      <td>{'alpha': 0.001}</td>\n",
       "      <td>0.841076</td>\n",
       "      <td>0.790110</td>\n",
       "      <td>0.646328</td>\n",
       "      <td>0.765993</td>\n",
       "      <td>0.688137</td>\n",
       "      <td>0.746573</td>\n",
       "      <td>0.070511</td>\n",
       "      <td>12</td>\n",
       "    </tr>\n",
       "    <tr>\n",
       "      <td>0</td>\n",
       "      <td>0.002195</td>\n",
       "      <td>0.000977</td>\n",
       "      <td>0.001197</td>\n",
       "      <td>7.464805e-04</td>\n",
       "      <td>0.0001</td>\n",
       "      <td>{'alpha': 0.0001}</td>\n",
       "      <td>0.841075</td>\n",
       "      <td>0.790110</td>\n",
       "      <td>0.646325</td>\n",
       "      <td>0.765991</td>\n",
       "      <td>0.688135</td>\n",
       "      <td>0.746571</td>\n",
       "      <td>0.070512</td>\n",
       "      <td>13</td>\n",
       "    </tr>\n",
       "    <tr>\n",
       "      <td>13</td>\n",
       "      <td>0.001795</td>\n",
       "      <td>0.000399</td>\n",
       "      <td>0.000798</td>\n",
       "      <td>3.990892e-04</td>\n",
       "      <td>100</td>\n",
       "      <td>{'alpha': 100}</td>\n",
       "      <td>0.808579</td>\n",
       "      <td>0.720150</td>\n",
       "      <td>0.664896</td>\n",
       "      <td>0.734620</td>\n",
       "      <td>0.706864</td>\n",
       "      <td>0.727101</td>\n",
       "      <td>0.047217</td>\n",
       "      <td>14</td>\n",
       "    </tr>\n",
       "    <tr>\n",
       "      <td>14</td>\n",
       "      <td>0.001596</td>\n",
       "      <td>0.000489</td>\n",
       "      <td>0.000798</td>\n",
       "      <td>3.989938e-04</td>\n",
       "      <td>125</td>\n",
       "      <td>{'alpha': 125}</td>\n",
       "      <td>0.795979</td>\n",
       "      <td>0.715278</td>\n",
       "      <td>0.649972</td>\n",
       "      <td>0.720797</td>\n",
       "      <td>0.711160</td>\n",
       "      <td>0.718671</td>\n",
       "      <td>0.046697</td>\n",
       "      <td>15</td>\n",
       "    </tr>\n",
       "    <tr>\n",
       "      <td>15</td>\n",
       "      <td>0.001597</td>\n",
       "      <td>0.000490</td>\n",
       "      <td>0.000798</td>\n",
       "      <td>3.988267e-04</td>\n",
       "      <td>150</td>\n",
       "      <td>{'alpha': 150}</td>\n",
       "      <td>0.780357</td>\n",
       "      <td>0.710590</td>\n",
       "      <td>0.636526</td>\n",
       "      <td>0.705933</td>\n",
       "      <td>0.710726</td>\n",
       "      <td>0.708833</td>\n",
       "      <td>0.045804</td>\n",
       "      <td>16</td>\n",
       "    </tr>\n",
       "    <tr>\n",
       "      <td>16</td>\n",
       "      <td>0.001596</td>\n",
       "      <td>0.000489</td>\n",
       "      <td>0.000997</td>\n",
       "      <td>2.132481e-07</td>\n",
       "      <td>200</td>\n",
       "      <td>{'alpha': 200}</td>\n",
       "      <td>0.747473</td>\n",
       "      <td>0.695275</td>\n",
       "      <td>0.607182</td>\n",
       "      <td>0.671380</td>\n",
       "      <td>0.699882</td>\n",
       "      <td>0.684221</td>\n",
       "      <td>0.046017</td>\n",
       "      <td>17</td>\n",
       "    </tr>\n",
       "  </tbody>\n",
       "</table>\n",
       "</div>"
      ],
      "text/plain": [
       "    mean_fit_time  std_fit_time  mean_score_time  std_score_time param_alpha  \\\n",
       "12       0.001995      0.000630         0.000997    9.122432e-07          10   \n",
       "11       0.002992      0.000630         0.001001    6.778136e-06           5   \n",
       "10       0.002195      0.000746         0.000996    9.887906e-07           1   \n",
       "9        0.002593      0.000797         0.001196    3.993532e-04         0.5   \n",
       "8        0.001795      0.000746         0.000998    1.016010e-06         0.1   \n",
       "7        0.001995      0.000631         0.001397    4.885779e-04        0.07   \n",
       "6        0.002194      0.000399         0.001397    4.882875e-04        0.06   \n",
       "5        0.002193      0.000399         0.000998    1.072619e-06        0.05   \n",
       "4        0.002393      0.000488         0.000798    3.990433e-04        0.03   \n",
       "3        0.002392      0.000487         0.001197    3.982074e-04        0.02   \n",
       "2        0.001995      0.000001         0.000998    6.143617e-07        0.01   \n",
       "1        0.002393      0.000488         0.001197    3.987322e-04       0.001   \n",
       "0        0.002195      0.000977         0.001197    7.464805e-04      0.0001   \n",
       "13       0.001795      0.000399         0.000798    3.990892e-04         100   \n",
       "14       0.001596      0.000489         0.000798    3.989938e-04         125   \n",
       "15       0.001597      0.000490         0.000798    3.988267e-04         150   \n",
       "16       0.001596      0.000489         0.000997    2.132481e-07         200   \n",
       "\n",
       "               params  split0_test_score  split1_test_score  \\\n",
       "12      {'alpha': 10}           0.850201           0.790899   \n",
       "11       {'alpha': 5}           0.846243           0.791033   \n",
       "10       {'alpha': 1}           0.842066           0.790414   \n",
       "9      {'alpha': 0.5}           0.841517           0.790271   \n",
       "8      {'alpha': 0.1}           0.841159           0.790144   \n",
       "7     {'alpha': 0.07}           0.841133           0.790134   \n",
       "6     {'alpha': 0.06}           0.841125           0.790130   \n",
       "5     {'alpha': 0.05}           0.841117           0.790127   \n",
       "4     {'alpha': 0.03}           0.841100           0.790120   \n",
       "3     {'alpha': 0.02}           0.841092           0.790117   \n",
       "2     {'alpha': 0.01}           0.841083           0.790113   \n",
       "1    {'alpha': 0.001}           0.841076           0.790110   \n",
       "0   {'alpha': 0.0001}           0.841075           0.790110   \n",
       "13     {'alpha': 100}           0.808579           0.720150   \n",
       "14     {'alpha': 125}           0.795979           0.715278   \n",
       "15     {'alpha': 150}           0.780357           0.710590   \n",
       "16     {'alpha': 200}           0.747473           0.695275   \n",
       "\n",
       "    split2_test_score  split3_test_score  split4_test_score  mean_test_score  \\\n",
       "12           0.673052           0.777646           0.702833         0.759163   \n",
       "11           0.663675           0.773676           0.697891         0.754741   \n",
       "10           0.650082           0.768153           0.690359         0.748455   \n",
       "9            0.648216           0.767159           0.689286         0.747531   \n",
       "8            0.646704           0.766229           0.688389         0.746768   \n",
       "7            0.646590           0.766158           0.688312         0.746709   \n",
       "6            0.646552           0.766134           0.688287         0.746689   \n",
       "5            0.646514           0.766110           0.688261         0.746669   \n",
       "4            0.646437           0.766063           0.688210         0.746630   \n",
       "3            0.646400           0.766039           0.688185         0.746610   \n",
       "2            0.646362           0.766015           0.688159         0.746590   \n",
       "1            0.646328           0.765993           0.688137         0.746573   \n",
       "0            0.646325           0.765991           0.688135         0.746571   \n",
       "13           0.664896           0.734620           0.706864         0.727101   \n",
       "14           0.649972           0.720797           0.711160         0.718671   \n",
       "15           0.636526           0.705933           0.710726         0.708833   \n",
       "16           0.607182           0.671380           0.699882         0.684221   \n",
       "\n",
       "    std_test_score  rank_test_score  \n",
       "12        0.063827                1  \n",
       "11        0.065928                2  \n",
       "10        0.069496                3  \n",
       "9         0.069985                4  \n",
       "8         0.070402                5  \n",
       "7         0.070435                6  \n",
       "6         0.070447                7  \n",
       "5         0.070458                8  \n",
       "4         0.070480                9  \n",
       "3         0.070491               10  \n",
       "2         0.070502               11  \n",
       "1         0.070511               12  \n",
       "0         0.070512               13  \n",
       "13        0.047217               14  \n",
       "14        0.046697               15  \n",
       "15        0.045804               16  \n",
       "16        0.046017               17  "
      ]
     },
     "execution_count": 222,
     "metadata": {},
     "output_type": "execute_result"
    }
   ],
   "source": [
    "pd.DataFrame(tun_mod.cv_results_).sort_values('mean_test_score', ascending = False)"
   ]
  },
  {
   "cell_type": "markdown",
   "metadata": {},
   "source": [
    "### GRADIENT DESCENT"
   ]
  },
  {
   "cell_type": "code",
   "execution_count": 239,
   "metadata": {},
   "outputs": [],
   "source": [
    "from sklearn.preprocessing import StandardScaler\n",
    "sc = StandardScaler()\n",
    "A = X.drop(['Infant mortality (per 1000 births)','Other (%)','Service'],axis = 1)\n",
    "X_scaled = sc.fit_transform(A)\n",
    "X_scaled = pd.DataFrame(X_scaled, columns = A.columns)"
   ]
  },
  {
   "cell_type": "code",
   "execution_count": 240,
   "metadata": {
    "scrolled": true
   },
   "outputs": [
    {
     "data": {
      "text/html": [
       "<div>\n",
       "<style scoped>\n",
       "    .dataframe tbody tr th:only-of-type {\n",
       "        vertical-align: middle;\n",
       "    }\n",
       "\n",
       "    .dataframe tbody tr th {\n",
       "        vertical-align: top;\n",
       "    }\n",
       "\n",
       "    .dataframe thead th {\n",
       "        text-align: right;\n",
       "    }\n",
       "</style>\n",
       "<table border=\"1\" class=\"dataframe\">\n",
       "  <thead>\n",
       "    <tr style=\"text-align: right;\">\n",
       "      <th></th>\n",
       "      <th>Population</th>\n",
       "      <th>Area_sqm</th>\n",
       "      <th>Pop_Density_per sqm</th>\n",
       "      <th>Coastline (coast/area ratio)</th>\n",
       "      <th>Net migration</th>\n",
       "      <th>Literacy (%)</th>\n",
       "      <th>Phones (per 1000)</th>\n",
       "      <th>Arable (%)</th>\n",
       "      <th>Crops (%)</th>\n",
       "      <th>Climate</th>\n",
       "      <th>Birthrate</th>\n",
       "      <th>Deathrate</th>\n",
       "      <th>Agriculture</th>\n",
       "      <th>Industry</th>\n",
       "    </tr>\n",
       "  </thead>\n",
       "  <tbody>\n",
       "    <tr>\n",
       "      <td>0</td>\n",
       "      <td>-0.115094</td>\n",
       "      <td>-0.220266</td>\n",
       "      <td>-0.347864</td>\n",
       "      <td>-0.470180</td>\n",
       "      <td>2.143829</td>\n",
       "      <td>-2.537552</td>\n",
       "      <td>-1.041107</td>\n",
       "      <td>-0.132135</td>\n",
       "      <td>-0.502354</td>\n",
       "      <td>-1.694570</td>\n",
       "      <td>2.210162</td>\n",
       "      <td>3.055247</td>\n",
       "      <td>1.612835</td>\n",
       "      <td>-0.263552</td>\n",
       "    </tr>\n",
       "    <tr>\n",
       "      <td>1</td>\n",
       "      <td>-0.414949</td>\n",
       "      <td>-0.418770</td>\n",
       "      <td>-0.306272</td>\n",
       "      <td>-0.458127</td>\n",
       "      <td>-1.993115</td>\n",
       "      <td>0.181254</td>\n",
       "      <td>-0.736564</td>\n",
       "      <td>0.539398</td>\n",
       "      <td>-0.218337</td>\n",
       "      <td>1.260999</td>\n",
       "      <td>-0.631504</td>\n",
       "      <td>-0.738826</td>\n",
       "      <td>0.583345</td>\n",
       "      <td>-0.645495</td>\n",
       "    </tr>\n",
       "    <tr>\n",
       "      <td>2</td>\n",
       "      <td>-0.094652</td>\n",
       "      <td>2.659029</td>\n",
       "      <td>-0.366433</td>\n",
       "      <td>-0.469797</td>\n",
       "      <td>-0.107041</td>\n",
       "      <td>-0.650571</td>\n",
       "      <td>-0.705662</td>\n",
       "      <td>-0.799921</td>\n",
       "      <td>-0.500325</td>\n",
       "      <td>-1.694570</td>\n",
       "      <td>-0.448316</td>\n",
       "      <td>-0.842529</td>\n",
       "      <td>-0.327892</td>\n",
       "      <td>2.850162</td>\n",
       "    </tr>\n",
       "    <tr>\n",
       "      <td>3</td>\n",
       "      <td>-0.453407</td>\n",
       "      <td>-0.427929</td>\n",
       "      <td>-0.216248</td>\n",
       "      <td>2.263057</td>\n",
       "      <td>-1.993115</td>\n",
       "      <td>0.710596</td>\n",
       "      <td>0.106750</td>\n",
       "      <td>-0.291774</td>\n",
       "      <td>2.527233</td>\n",
       "      <td>-0.216785</td>\n",
       "      <td>0.031762</td>\n",
       "      <td>-1.070336</td>\n",
       "      <td>-0.199902</td>\n",
       "      <td>-0.476559</td>\n",
       "    </tr>\n",
       "    <tr>\n",
       "      <td>4</td>\n",
       "      <td>-0.453260</td>\n",
       "      <td>-0.427843</td>\n",
       "      <td>-0.291340</td>\n",
       "      <td>-0.470180</td>\n",
       "      <td>2.143829</td>\n",
       "      <td>0.861837</td>\n",
       "      <td>1.171305</td>\n",
       "      <td>-0.874869</td>\n",
       "      <td>-0.517231</td>\n",
       "      <td>1.260999</td>\n",
       "      <td>-1.209041</td>\n",
       "      <td>-0.563721</td>\n",
       "      <td>-0.670128</td>\n",
       "      <td>-0.394294</td>\n",
       "    </tr>\n",
       "    <tr>\n",
       "      <td>...</td>\n",
       "      <td>...</td>\n",
       "      <td>...</td>\n",
       "      <td>...</td>\n",
       "      <td>...</td>\n",
       "      <td>...</td>\n",
       "      <td>...</td>\n",
       "      <td>...</td>\n",
       "      <td>...</td>\n",
       "      <td>...</td>\n",
       "      <td>...</td>\n",
       "      <td>...</td>\n",
       "      <td>...</td>\n",
       "      <td>...</td>\n",
       "      <td>...</td>\n",
       "    </tr>\n",
       "    <tr>\n",
       "      <td>222</td>\n",
       "      <td>-0.427185</td>\n",
       "      <td>-0.426113</td>\n",
       "      <td>-0.145933</td>\n",
       "      <td>-0.470180</td>\n",
       "      <td>0.363187</td>\n",
       "      <td>-0.234154</td>\n",
       "      <td>-0.405151</td>\n",
       "      <td>0.225366</td>\n",
       "      <td>2.527233</td>\n",
       "      <td>1.260999</td>\n",
       "      <td>0.862875</td>\n",
       "      <td>-0.959833</td>\n",
       "      <td>-0.404408</td>\n",
       "      <td>0.030250</td>\n",
       "    </tr>\n",
       "    <tr>\n",
       "      <td>223</td>\n",
       "      <td>-0.451058</td>\n",
       "      <td>-0.342656</td>\n",
       "      <td>-0.373383</td>\n",
       "      <td>-0.466162</td>\n",
       "      <td>-0.057088</td>\n",
       "      <td>0.468611</td>\n",
       "      <td>0.248631</td>\n",
       "      <td>-1.039754</td>\n",
       "      <td>-0.517231</td>\n",
       "      <td>-1.694570</td>\n",
       "      <td>-0.207014</td>\n",
       "      <td>-0.596702</td>\n",
       "      <td>-0.231899</td>\n",
       "      <td>-0.901103</td>\n",
       "    </tr>\n",
       "    <tr>\n",
       "      <td>224</td>\n",
       "      <td>-0.219874</td>\n",
       "      <td>-0.258613</td>\n",
       "      <td>-0.351882</td>\n",
       "      <td>-0.466736</td>\n",
       "      <td>-0.052623</td>\n",
       "      <td>-1.648760</td>\n",
       "      <td>-0.888836</td>\n",
       "      <td>-0.832898</td>\n",
       "      <td>-0.501002</td>\n",
       "      <td>-1.694570</td>\n",
       "      <td>1.875371</td>\n",
       "      <td>-0.215210</td>\n",
       "      <td>-0.091388</td>\n",
       "      <td>1.440500</td>\n",
       "    </tr>\n",
       "    <tr>\n",
       "      <td>225</td>\n",
       "      <td>-0.328509</td>\n",
       "      <td>-0.186544</td>\n",
       "      <td>-0.365619</td>\n",
       "      <td>-0.470180</td>\n",
       "      <td>-0.052623</td>\n",
       "      <td>-0.116187</td>\n",
       "      <td>-1.018714</td>\n",
       "      <td>-0.510622</td>\n",
       "      <td>-0.515202</td>\n",
       "      <td>-0.216785</td>\n",
       "      <td>1.704816</td>\n",
       "      <td>3.055247</td>\n",
       "      <td>0.499873</td>\n",
       "      <td>0.103700</td>\n",
       "    </tr>\n",
       "    <tr>\n",
       "      <td>226</td>\n",
       "      <td>-0.320490</td>\n",
       "      <td>-0.302689</td>\n",
       "      <td>-0.356931</td>\n",
       "      <td>-0.470180</td>\n",
       "      <td>-0.052623</td>\n",
       "      <td>0.392991</td>\n",
       "      <td>-0.935413</td>\n",
       "      <td>-0.417687</td>\n",
       "      <td>-0.494239</td>\n",
       "      <td>-0.216785</td>\n",
       "      <td>0.532596</td>\n",
       "      <td>3.055247</td>\n",
       "      <td>0.214677</td>\n",
       "      <td>-0.241517</td>\n",
       "    </tr>\n",
       "  </tbody>\n",
       "</table>\n",
       "<p>227 rows × 14 columns</p>\n",
       "</div>"
      ],
      "text/plain": [
       "     Population  Area_sqm  Pop_Density_per sqm  Coastline (coast/area ratio)  \\\n",
       "0     -0.115094 -0.220266            -0.347864                     -0.470180   \n",
       "1     -0.414949 -0.418770            -0.306272                     -0.458127   \n",
       "2     -0.094652  2.659029            -0.366433                     -0.469797   \n",
       "3     -0.453407 -0.427929            -0.216248                      2.263057   \n",
       "4     -0.453260 -0.427843            -0.291340                     -0.470180   \n",
       "..          ...       ...                  ...                           ...   \n",
       "222   -0.427185 -0.426113            -0.145933                     -0.470180   \n",
       "223   -0.451058 -0.342656            -0.373383                     -0.466162   \n",
       "224   -0.219874 -0.258613            -0.351882                     -0.466736   \n",
       "225   -0.328509 -0.186544            -0.365619                     -0.470180   \n",
       "226   -0.320490 -0.302689            -0.356931                     -0.470180   \n",
       "\n",
       "     Net migration  Literacy (%)  Phones (per 1000)  Arable (%)  Crops (%)  \\\n",
       "0         2.143829     -2.537552          -1.041107   -0.132135  -0.502354   \n",
       "1        -1.993115      0.181254          -0.736564    0.539398  -0.218337   \n",
       "2        -0.107041     -0.650571          -0.705662   -0.799921  -0.500325   \n",
       "3        -1.993115      0.710596           0.106750   -0.291774   2.527233   \n",
       "4         2.143829      0.861837           1.171305   -0.874869  -0.517231   \n",
       "..             ...           ...                ...         ...        ...   \n",
       "222       0.363187     -0.234154          -0.405151    0.225366   2.527233   \n",
       "223      -0.057088      0.468611           0.248631   -1.039754  -0.517231   \n",
       "224      -0.052623     -1.648760          -0.888836   -0.832898  -0.501002   \n",
       "225      -0.052623     -0.116187          -1.018714   -0.510622  -0.515202   \n",
       "226      -0.052623      0.392991          -0.935413   -0.417687  -0.494239   \n",
       "\n",
       "      Climate  Birthrate  Deathrate  Agriculture  Industry  \n",
       "0   -1.694570   2.210162   3.055247     1.612835 -0.263552  \n",
       "1    1.260999  -0.631504  -0.738826     0.583345 -0.645495  \n",
       "2   -1.694570  -0.448316  -0.842529    -0.327892  2.850162  \n",
       "3   -0.216785   0.031762  -1.070336    -0.199902 -0.476559  \n",
       "4    1.260999  -1.209041  -0.563721    -0.670128 -0.394294  \n",
       "..        ...        ...        ...          ...       ...  \n",
       "222  1.260999   0.862875  -0.959833    -0.404408  0.030250  \n",
       "223 -1.694570  -0.207014  -0.596702    -0.231899 -0.901103  \n",
       "224 -1.694570   1.875371  -0.215210    -0.091388  1.440500  \n",
       "225 -0.216785   1.704816   3.055247     0.499873  0.103700  \n",
       "226 -0.216785   0.532596   3.055247     0.214677 -0.241517  \n",
       "\n",
       "[227 rows x 14 columns]"
      ]
     },
     "execution_count": 240,
     "metadata": {},
     "output_type": "execute_result"
    }
   ],
   "source": [
    "X_scaled"
   ]
  },
  {
   "cell_type": "code",
   "execution_count": 242,
   "metadata": {},
   "outputs": [],
   "source": [
    "xtrain_sc , xtest_sc, ytrain_sc, ytest_sc  = train_test_split(X_scaled, y, test_size = 0.3, random_state = 1)"
   ]
  },
  {
   "cell_type": "code",
   "execution_count": 243,
   "metadata": {},
   "outputs": [],
   "source": [
    "from sklearn.linear_model import SGDRegressor"
   ]
  },
  {
   "cell_type": "code",
   "execution_count": 244,
   "metadata": {},
   "outputs": [
    {
     "data": {
      "text/plain": [
       "0.7662432193147222"
      ]
     },
     "execution_count": 244,
     "metadata": {},
     "output_type": "execute_result"
    }
   ],
   "source": [
    "sgd = SGDRegressor()\n",
    "sgd.fit(xtrain_sc,ytrain_sc)\n",
    "ypred = sgd.predict(xtest_sc)\n",
    "\n",
    "r2_score(ytest_sc,ypred)"
   ]
  },
  {
   "cell_type": "code",
   "execution_count": 237,
   "metadata": {},
   "outputs": [],
   "source": [
    "from sklearn.preprocessing import PolynomialFeatures"
   ]
  },
  {
   "cell_type": "code",
   "execution_count": 246,
   "metadata": {},
   "outputs": [],
   "source": [
    "pf  = PolynomialFeatures(degree = 2, include_bias= False, interaction_only=True)\n",
    "x_pf = pf.fit_transform(A)\n",
    "x_pf = pd.DataFrame(x_pf, index = A.index)\n",
    "x_pf.columns = pf.get_feature_names()"
   ]
  },
  {
   "cell_type": "code",
   "execution_count": 247,
   "metadata": {
    "scrolled": true
   },
   "outputs": [
    {
     "data": {
      "text/html": [
       "<div>\n",
       "<style scoped>\n",
       "    .dataframe tbody tr th:only-of-type {\n",
       "        vertical-align: middle;\n",
       "    }\n",
       "\n",
       "    .dataframe tbody tr th {\n",
       "        vertical-align: top;\n",
       "    }\n",
       "\n",
       "    .dataframe thead th {\n",
       "        text-align: right;\n",
       "    }\n",
       "</style>\n",
       "<table border=\"1\" class=\"dataframe\">\n",
       "  <thead>\n",
       "    <tr style=\"text-align: right;\">\n",
       "      <th></th>\n",
       "      <th>x0</th>\n",
       "      <th>x1</th>\n",
       "      <th>x2</th>\n",
       "      <th>x3</th>\n",
       "      <th>x4</th>\n",
       "      <th>x5</th>\n",
       "      <th>x6</th>\n",
       "      <th>x7</th>\n",
       "      <th>x8</th>\n",
       "      <th>x9</th>\n",
       "      <th>...</th>\n",
       "      <th>x9 x10</th>\n",
       "      <th>x9 x11</th>\n",
       "      <th>x9 x12</th>\n",
       "      <th>x9 x13</th>\n",
       "      <th>x10 x11</th>\n",
       "      <th>x10 x12</th>\n",
       "      <th>x10 x13</th>\n",
       "      <th>x11 x12</th>\n",
       "      <th>x11 x13</th>\n",
       "      <th>x12 x13</th>\n",
       "    </tr>\n",
       "    <tr>\n",
       "      <th>Country</th>\n",
       "      <th></th>\n",
       "      <th></th>\n",
       "      <th></th>\n",
       "      <th></th>\n",
       "      <th></th>\n",
       "      <th></th>\n",
       "      <th></th>\n",
       "      <th></th>\n",
       "      <th></th>\n",
       "      <th></th>\n",
       "      <th></th>\n",
       "      <th></th>\n",
       "      <th></th>\n",
       "      <th></th>\n",
       "      <th></th>\n",
       "      <th></th>\n",
       "      <th></th>\n",
       "      <th></th>\n",
       "      <th></th>\n",
       "      <th></th>\n",
       "      <th></th>\n",
       "    </tr>\n",
       "  </thead>\n",
       "  <tbody>\n",
       "    <tr>\n",
       "      <td>Afghanistan</td>\n",
       "      <td>31056997.0</td>\n",
       "      <td>647500.0</td>\n",
       "      <td>48.0</td>\n",
       "      <td>0.0000</td>\n",
       "      <td>15.7414</td>\n",
       "      <td>32.57</td>\n",
       "      <td>3.20</td>\n",
       "      <td>12.13</td>\n",
       "      <td>0.220</td>\n",
       "      <td>1.0</td>\n",
       "      <td>...</td>\n",
       "      <td>46.600</td>\n",
       "      <td>27.5374</td>\n",
       "      <td>0.3800</td>\n",
       "      <td>0.24000</td>\n",
       "      <td>1283.242840</td>\n",
       "      <td>17.708000</td>\n",
       "      <td>11.184000</td>\n",
       "      <td>10.464212</td>\n",
       "      <td>6.608976</td>\n",
       "      <td>0.091200</td>\n",
       "    </tr>\n",
       "    <tr>\n",
       "      <td>Albania</td>\n",
       "      <td>3581655.0</td>\n",
       "      <td>28748.0</td>\n",
       "      <td>124.6</td>\n",
       "      <td>1.2600</td>\n",
       "      <td>-13.9070</td>\n",
       "      <td>86.50</td>\n",
       "      <td>71.20</td>\n",
       "      <td>21.09</td>\n",
       "      <td>4.420</td>\n",
       "      <td>3.0</td>\n",
       "      <td>...</td>\n",
       "      <td>45.330</td>\n",
       "      <td>15.6600</td>\n",
       "      <td>0.6960</td>\n",
       "      <td>0.56400</td>\n",
       "      <td>78.874200</td>\n",
       "      <td>3.505520</td>\n",
       "      <td>2.840680</td>\n",
       "      <td>1.211040</td>\n",
       "      <td>0.981360</td>\n",
       "      <td>0.043616</td>\n",
       "    </tr>\n",
       "    <tr>\n",
       "      <td>Algeria</td>\n",
       "      <td>32930091.0</td>\n",
       "      <td>9622460.4</td>\n",
       "      <td>13.8</td>\n",
       "      <td>0.0400</td>\n",
       "      <td>-0.3900</td>\n",
       "      <td>70.00</td>\n",
       "      <td>78.10</td>\n",
       "      <td>3.22</td>\n",
       "      <td>0.250</td>\n",
       "      <td>1.0</td>\n",
       "      <td>...</td>\n",
       "      <td>17.140</td>\n",
       "      <td>4.6100</td>\n",
       "      <td>0.1010</td>\n",
       "      <td>0.66392</td>\n",
       "      <td>79.015400</td>\n",
       "      <td>1.731140</td>\n",
       "      <td>11.379589</td>\n",
       "      <td>0.465610</td>\n",
       "      <td>3.060671</td>\n",
       "      <td>0.067056</td>\n",
       "    </tr>\n",
       "    <tr>\n",
       "      <td>American Samoa</td>\n",
       "      <td>57794.0</td>\n",
       "      <td>199.0</td>\n",
       "      <td>290.4</td>\n",
       "      <td>285.7248</td>\n",
       "      <td>-13.9070</td>\n",
       "      <td>97.00</td>\n",
       "      <td>259.50</td>\n",
       "      <td>10.00</td>\n",
       "      <td>45.021</td>\n",
       "      <td>2.0</td>\n",
       "      <td>...</td>\n",
       "      <td>44.920</td>\n",
       "      <td>6.5400</td>\n",
       "      <td>0.2388</td>\n",
       "      <td>0.42200</td>\n",
       "      <td>73.444200</td>\n",
       "      <td>2.681724</td>\n",
       "      <td>4.739060</td>\n",
       "      <td>0.390438</td>\n",
       "      <td>0.689970</td>\n",
       "      <td>0.025193</td>\n",
       "    </tr>\n",
       "    <tr>\n",
       "      <td>Andorra</td>\n",
       "      <td>71201.0</td>\n",
       "      <td>468.0</td>\n",
       "      <td>152.1</td>\n",
       "      <td>0.0000</td>\n",
       "      <td>15.7414</td>\n",
       "      <td>100.00</td>\n",
       "      <td>497.20</td>\n",
       "      <td>2.22</td>\n",
       "      <td>0.000</td>\n",
       "      <td>3.0</td>\n",
       "      <td>...</td>\n",
       "      <td>26.130</td>\n",
       "      <td>18.7500</td>\n",
       "      <td>0.1554</td>\n",
       "      <td>0.66660</td>\n",
       "      <td>54.437500</td>\n",
       "      <td>0.451178</td>\n",
       "      <td>1.935362</td>\n",
       "      <td>0.323750</td>\n",
       "      <td>1.388750</td>\n",
       "      <td>0.011510</td>\n",
       "    </tr>\n",
       "    <tr>\n",
       "      <td>...</td>\n",
       "      <td>...</td>\n",
       "      <td>...</td>\n",
       "      <td>...</td>\n",
       "      <td>...</td>\n",
       "      <td>...</td>\n",
       "      <td>...</td>\n",
       "      <td>...</td>\n",
       "      <td>...</td>\n",
       "      <td>...</td>\n",
       "      <td>...</td>\n",
       "      <td>...</td>\n",
       "      <td>...</td>\n",
       "      <td>...</td>\n",
       "      <td>...</td>\n",
       "      <td>...</td>\n",
       "      <td>...</td>\n",
       "      <td>...</td>\n",
       "      <td>...</td>\n",
       "      <td>...</td>\n",
       "      <td>...</td>\n",
       "      <td>...</td>\n",
       "    </tr>\n",
       "    <tr>\n",
       "      <td>West Bank</td>\n",
       "      <td>2460492.0</td>\n",
       "      <td>5860.0</td>\n",
       "      <td>419.9</td>\n",
       "      <td>0.0000</td>\n",
       "      <td>2.9800</td>\n",
       "      <td>78.26</td>\n",
       "      <td>145.20</td>\n",
       "      <td>16.90</td>\n",
       "      <td>45.021</td>\n",
       "      <td>3.0</td>\n",
       "      <td>...</td>\n",
       "      <td>95.010</td>\n",
       "      <td>11.7600</td>\n",
       "      <td>0.2700</td>\n",
       "      <td>0.84000</td>\n",
       "      <td>124.146400</td>\n",
       "      <td>2.850300</td>\n",
       "      <td>8.867600</td>\n",
       "      <td>0.352800</td>\n",
       "      <td>1.097600</td>\n",
       "      <td>0.025200</td>\n",
       "    </tr>\n",
       "    <tr>\n",
       "      <td>Western Sahara</td>\n",
       "      <td>273008.0</td>\n",
       "      <td>266000.0</td>\n",
       "      <td>1.0</td>\n",
       "      <td>0.4200</td>\n",
       "      <td>-0.0320</td>\n",
       "      <td>92.20</td>\n",
       "      <td>291.18</td>\n",
       "      <td>0.02</td>\n",
       "      <td>0.000</td>\n",
       "      <td>1.0</td>\n",
       "      <td>...</td>\n",
       "      <td>19.814</td>\n",
       "      <td>6.0560</td>\n",
       "      <td>0.1148</td>\n",
       "      <td>0.15320</td>\n",
       "      <td>119.993584</td>\n",
       "      <td>2.274647</td>\n",
       "      <td>3.035505</td>\n",
       "      <td>0.695229</td>\n",
       "      <td>0.927779</td>\n",
       "      <td>0.017587</td>\n",
       "    </tr>\n",
       "    <tr>\n",
       "      <td>Yemen</td>\n",
       "      <td>21456188.0</td>\n",
       "      <td>527970.0</td>\n",
       "      <td>40.6</td>\n",
       "      <td>0.3600</td>\n",
       "      <td>0.0000</td>\n",
       "      <td>50.20</td>\n",
       "      <td>37.20</td>\n",
       "      <td>2.78</td>\n",
       "      <td>0.240</td>\n",
       "      <td>1.0</td>\n",
       "      <td>...</td>\n",
       "      <td>42.890</td>\n",
       "      <td>8.3000</td>\n",
       "      <td>0.1350</td>\n",
       "      <td>0.47200</td>\n",
       "      <td>355.987000</td>\n",
       "      <td>5.790150</td>\n",
       "      <td>20.244080</td>\n",
       "      <td>1.120500</td>\n",
       "      <td>3.917600</td>\n",
       "      <td>0.063720</td>\n",
       "    </tr>\n",
       "    <tr>\n",
       "      <td>Zambia</td>\n",
       "      <td>11502010.0</td>\n",
       "      <td>752614.0</td>\n",
       "      <td>15.3</td>\n",
       "      <td>0.0000</td>\n",
       "      <td>0.0000</td>\n",
       "      <td>80.60</td>\n",
       "      <td>8.20</td>\n",
       "      <td>7.08</td>\n",
       "      <td>0.030</td>\n",
       "      <td>2.0</td>\n",
       "      <td>...</td>\n",
       "      <td>82.000</td>\n",
       "      <td>55.0748</td>\n",
       "      <td>0.4400</td>\n",
       "      <td>0.58000</td>\n",
       "      <td>1129.033400</td>\n",
       "      <td>9.020000</td>\n",
       "      <td>11.890000</td>\n",
       "      <td>6.058228</td>\n",
       "      <td>7.985846</td>\n",
       "      <td>0.063800</td>\n",
       "    </tr>\n",
       "    <tr>\n",
       "      <td>Zimbabwe</td>\n",
       "      <td>12236805.0</td>\n",
       "      <td>390580.0</td>\n",
       "      <td>31.3</td>\n",
       "      <td>0.0000</td>\n",
       "      <td>0.0000</td>\n",
       "      <td>90.70</td>\n",
       "      <td>26.80</td>\n",
       "      <td>8.32</td>\n",
       "      <td>0.340</td>\n",
       "      <td>2.0</td>\n",
       "      <td>...</td>\n",
       "      <td>56.020</td>\n",
       "      <td>55.0748</td>\n",
       "      <td>0.3580</td>\n",
       "      <td>0.48600</td>\n",
       "      <td>771.322574</td>\n",
       "      <td>5.013790</td>\n",
       "      <td>6.806430</td>\n",
       "      <td>4.929195</td>\n",
       "      <td>6.691588</td>\n",
       "      <td>0.043497</td>\n",
       "    </tr>\n",
       "  </tbody>\n",
       "</table>\n",
       "<p>227 rows × 105 columns</p>\n",
       "</div>"
      ],
      "text/plain": [
       "                        x0         x1     x2        x3       x4      x5  \\\n",
       "Country                                                                   \n",
       "Afghanistan     31056997.0   647500.0   48.0    0.0000  15.7414   32.57   \n",
       "Albania          3581655.0    28748.0  124.6    1.2600 -13.9070   86.50   \n",
       "Algeria         32930091.0  9622460.4   13.8    0.0400  -0.3900   70.00   \n",
       "American Samoa     57794.0      199.0  290.4  285.7248 -13.9070   97.00   \n",
       "Andorra            71201.0      468.0  152.1    0.0000  15.7414  100.00   \n",
       "...                    ...        ...    ...       ...      ...     ...   \n",
       "West Bank        2460492.0     5860.0  419.9    0.0000   2.9800   78.26   \n",
       "Western Sahara    273008.0   266000.0    1.0    0.4200  -0.0320   92.20   \n",
       "Yemen           21456188.0   527970.0   40.6    0.3600   0.0000   50.20   \n",
       "Zambia          11502010.0   752614.0   15.3    0.0000   0.0000   80.60   \n",
       "Zimbabwe        12236805.0   390580.0   31.3    0.0000   0.0000   90.70   \n",
       "\n",
       "                    x6     x7      x8   x9  ...  x9 x10   x9 x11  x9 x12  \\\n",
       "Country                                     ...                            \n",
       "Afghanistan       3.20  12.13   0.220  1.0  ...  46.600  27.5374  0.3800   \n",
       "Albania          71.20  21.09   4.420  3.0  ...  45.330  15.6600  0.6960   \n",
       "Algeria          78.10   3.22   0.250  1.0  ...  17.140   4.6100  0.1010   \n",
       "American Samoa  259.50  10.00  45.021  2.0  ...  44.920   6.5400  0.2388   \n",
       "Andorra         497.20   2.22   0.000  3.0  ...  26.130  18.7500  0.1554   \n",
       "...                ...    ...     ...  ...  ...     ...      ...     ...   \n",
       "West Bank       145.20  16.90  45.021  3.0  ...  95.010  11.7600  0.2700   \n",
       "Western Sahara  291.18   0.02   0.000  1.0  ...  19.814   6.0560  0.1148   \n",
       "Yemen            37.20   2.78   0.240  1.0  ...  42.890   8.3000  0.1350   \n",
       "Zambia            8.20   7.08   0.030  2.0  ...  82.000  55.0748  0.4400   \n",
       "Zimbabwe         26.80   8.32   0.340  2.0  ...  56.020  55.0748  0.3580   \n",
       "\n",
       "                 x9 x13      x10 x11    x10 x12    x10 x13    x11 x12  \\\n",
       "Country                                                                 \n",
       "Afghanistan     0.24000  1283.242840  17.708000  11.184000  10.464212   \n",
       "Albania         0.56400    78.874200   3.505520   2.840680   1.211040   \n",
       "Algeria         0.66392    79.015400   1.731140  11.379589   0.465610   \n",
       "American Samoa  0.42200    73.444200   2.681724   4.739060   0.390438   \n",
       "Andorra         0.66660    54.437500   0.451178   1.935362   0.323750   \n",
       "...                 ...          ...        ...        ...        ...   \n",
       "West Bank       0.84000   124.146400   2.850300   8.867600   0.352800   \n",
       "Western Sahara  0.15320   119.993584   2.274647   3.035505   0.695229   \n",
       "Yemen           0.47200   355.987000   5.790150  20.244080   1.120500   \n",
       "Zambia          0.58000  1129.033400   9.020000  11.890000   6.058228   \n",
       "Zimbabwe        0.48600   771.322574   5.013790   6.806430   4.929195   \n",
       "\n",
       "                 x11 x13   x12 x13  \n",
       "Country                             \n",
       "Afghanistan     6.608976  0.091200  \n",
       "Albania         0.981360  0.043616  \n",
       "Algeria         3.060671  0.067056  \n",
       "American Samoa  0.689970  0.025193  \n",
       "Andorra         1.388750  0.011510  \n",
       "...                  ...       ...  \n",
       "West Bank       1.097600  0.025200  \n",
       "Western Sahara  0.927779  0.017587  \n",
       "Yemen           3.917600  0.063720  \n",
       "Zambia          7.985846  0.063800  \n",
       "Zimbabwe        6.691588  0.043497  \n",
       "\n",
       "[227 rows x 105 columns]"
      ]
     },
     "execution_count": 247,
     "metadata": {},
     "output_type": "execute_result"
    }
   ],
   "source": [
    "x_pf"
   ]
  },
  {
   "cell_type": "code",
   "execution_count": 248,
   "metadata": {},
   "outputs": [
    {
     "data": {
      "text/plain": [
       "(227, 105)"
      ]
     },
     "execution_count": 248,
     "metadata": {},
     "output_type": "execute_result"
    }
   ],
   "source": [
    "x_pf.shape"
   ]
  },
  {
   "cell_type": "code",
   "execution_count": 251,
   "metadata": {},
   "outputs": [
    {
     "data": {
      "text/plain": [
       "(227, 14)"
      ]
     },
     "execution_count": 251,
     "metadata": {},
     "output_type": "execute_result"
    }
   ],
   "source": [
    "A.shape"
   ]
  },
  {
   "cell_type": "code",
   "execution_count": 252,
   "metadata": {},
   "outputs": [
    {
     "data": {
      "text/plain": [
       "('x2',\n",
       " 'x6',\n",
       " 'x11',\n",
       " 'x0 x9',\n",
       " 'x0 x13',\n",
       " 'x2 x9',\n",
       " 'x3 x6',\n",
       " 'x3 x10',\n",
       " 'x3 x12',\n",
       " 'x4 x6',\n",
       " 'x4 x7',\n",
       " 'x5 x10',\n",
       " 'x5 x12',\n",
       " 'x6 x10',\n",
       " 'x6 x11',\n",
       " 'x7 x9',\n",
       " 'x9 x10',\n",
       " 'x10 x11',\n",
       " 'x10 x12')"
      ]
     },
     "execution_count": 252,
     "metadata": {},
     "output_type": "execute_result"
    }
   ],
   "source": [
    "lr = LinearRegression()\n",
    "lr_backward = sfs(estimator=lr, k_features='best',scoring='r2', forward = False)\n",
    "y = df_1['GDP ($ per capita)']\n",
    "sfs_backward = lr_backward.fit(x_pf, y)\n",
    "sfs_backward.k_feature_names_"
   ]
  },
  {
   "cell_type": "code",
   "execution_count": null,
   "metadata": {},
   "outputs": [],
   "source": []
  }
 ],
 "metadata": {
  "kernelspec": {
   "display_name": "Python 3",
   "language": "python",
   "name": "python3"
  },
  "language_info": {
   "codemirror_mode": {
    "name": "ipython",
    "version": 3
   },
   "file_extension": ".py",
   "mimetype": "text/x-python",
   "name": "python",
   "nbconvert_exporter": "python",
   "pygments_lexer": "ipython3",
   "version": "3.8.8"
  }
 },
 "nbformat": 4,
 "nbformat_minor": 2
}
